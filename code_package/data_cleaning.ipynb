{
 "cells": [
  {
   "cell_type": "code",
   "execution_count": 1,
   "metadata": {
    "ExecuteTime": {
     "end_time": "2023-04-19T22:56:45.929421Z",
     "start_time": "2023-04-19T22:56:44.863179Z"
    }
   },
   "outputs": [],
   "source": [
    "import pandas as pd"
   ]
  },
  {
   "cell_type": "markdown",
   "metadata": {},
   "source": [
    "## Import the data and explore it\n",
    "Steps will be:\n",
    "- Import the data\n",
    "- Check out the data\n",
    "- Check the info\n",
    "- Describe the data\n",
    "- Check the shape"
   ]
  },
  {
   "cell_type": "code",
   "execution_count": 2,
   "metadata": {
    "ExecuteTime": {
     "end_time": "2023-04-19T22:56:46.641907Z",
     "start_time": "2023-04-19T22:56:45.933968Z"
    },
    "scrolled": false
   },
   "outputs": [
    {
     "name": "stderr",
     "output_type": "stream",
     "text": [
      "/Users/willbennett/anaconda3/envs/learn-env/lib/python3.8/site-packages/IPython/core/interactiveshell.py:3145: DtypeWarning: Columns (6,7,28) have mixed types.Specify dtype option on import or set low_memory=False.\n",
      "  has_raised = await self.run_ast_nodes(code_ast.body, cell_name,\n"
     ]
    }
   ],
   "source": [
    "# Import the data\n",
    "aviation_data_raw = pd.read_csv(\"../data/Aviation_Data.csv\")"
   ]
  },
  {
   "cell_type": "code",
   "execution_count": 3,
   "metadata": {
    "ExecuteTime": {
     "end_time": "2023-04-19T22:56:46.781047Z",
     "start_time": "2023-04-19T22:56:46.651783Z"
    },
    "scrolled": false
   },
   "outputs": [
    {
     "data": {
      "text/html": [
       "<div>\n",
       "<style scoped>\n",
       "    .dataframe tbody tr th:only-of-type {\n",
       "        vertical-align: middle;\n",
       "    }\n",
       "\n",
       "    .dataframe tbody tr th {\n",
       "        vertical-align: top;\n",
       "    }\n",
       "\n",
       "    .dataframe thead th {\n",
       "        text-align: right;\n",
       "    }\n",
       "</style>\n",
       "<table border=\"1\" class=\"dataframe\">\n",
       "  <thead>\n",
       "    <tr style=\"text-align: right;\">\n",
       "      <th></th>\n",
       "      <th>Event.Id</th>\n",
       "      <th>Investigation.Type</th>\n",
       "      <th>Accident.Number</th>\n",
       "      <th>Event.Date</th>\n",
       "      <th>Location</th>\n",
       "      <th>Country</th>\n",
       "      <th>Latitude</th>\n",
       "      <th>Longitude</th>\n",
       "      <th>Airport.Code</th>\n",
       "      <th>Airport.Name</th>\n",
       "      <th>...</th>\n",
       "      <th>Purpose.of.flight</th>\n",
       "      <th>Air.carrier</th>\n",
       "      <th>Total.Fatal.Injuries</th>\n",
       "      <th>Total.Serious.Injuries</th>\n",
       "      <th>Total.Minor.Injuries</th>\n",
       "      <th>Total.Uninjured</th>\n",
       "      <th>Weather.Condition</th>\n",
       "      <th>Broad.phase.of.flight</th>\n",
       "      <th>Report.Status</th>\n",
       "      <th>Publication.Date</th>\n",
       "    </tr>\n",
       "  </thead>\n",
       "  <tbody>\n",
       "    <tr>\n",
       "      <th>0</th>\n",
       "      <td>20001218X45444</td>\n",
       "      <td>Accident</td>\n",
       "      <td>SEA87LA080</td>\n",
       "      <td>1948-10-24</td>\n",
       "      <td>MOOSE CREEK, ID</td>\n",
       "      <td>United States</td>\n",
       "      <td>NaN</td>\n",
       "      <td>NaN</td>\n",
       "      <td>NaN</td>\n",
       "      <td>NaN</td>\n",
       "      <td>...</td>\n",
       "      <td>Personal</td>\n",
       "      <td>NaN</td>\n",
       "      <td>2.0</td>\n",
       "      <td>0.0</td>\n",
       "      <td>0.0</td>\n",
       "      <td>0.0</td>\n",
       "      <td>UNK</td>\n",
       "      <td>Cruise</td>\n",
       "      <td>Probable Cause</td>\n",
       "      <td>NaN</td>\n",
       "    </tr>\n",
       "    <tr>\n",
       "      <th>1</th>\n",
       "      <td>20001218X45447</td>\n",
       "      <td>Accident</td>\n",
       "      <td>LAX94LA336</td>\n",
       "      <td>1962-07-19</td>\n",
       "      <td>BRIDGEPORT, CA</td>\n",
       "      <td>United States</td>\n",
       "      <td>NaN</td>\n",
       "      <td>NaN</td>\n",
       "      <td>NaN</td>\n",
       "      <td>NaN</td>\n",
       "      <td>...</td>\n",
       "      <td>Personal</td>\n",
       "      <td>NaN</td>\n",
       "      <td>4.0</td>\n",
       "      <td>0.0</td>\n",
       "      <td>0.0</td>\n",
       "      <td>0.0</td>\n",
       "      <td>UNK</td>\n",
       "      <td>Unknown</td>\n",
       "      <td>Probable Cause</td>\n",
       "      <td>19-09-1996</td>\n",
       "    </tr>\n",
       "    <tr>\n",
       "      <th>2</th>\n",
       "      <td>20061025X01555</td>\n",
       "      <td>Accident</td>\n",
       "      <td>NYC07LA005</td>\n",
       "      <td>1974-08-30</td>\n",
       "      <td>Saltville, VA</td>\n",
       "      <td>United States</td>\n",
       "      <td>36.9222</td>\n",
       "      <td>-81.8781</td>\n",
       "      <td>NaN</td>\n",
       "      <td>NaN</td>\n",
       "      <td>...</td>\n",
       "      <td>Personal</td>\n",
       "      <td>NaN</td>\n",
       "      <td>3.0</td>\n",
       "      <td>NaN</td>\n",
       "      <td>NaN</td>\n",
       "      <td>NaN</td>\n",
       "      <td>IMC</td>\n",
       "      <td>Cruise</td>\n",
       "      <td>Probable Cause</td>\n",
       "      <td>26-02-2007</td>\n",
       "    </tr>\n",
       "    <tr>\n",
       "      <th>3</th>\n",
       "      <td>20001218X45448</td>\n",
       "      <td>Accident</td>\n",
       "      <td>LAX96LA321</td>\n",
       "      <td>1977-06-19</td>\n",
       "      <td>EUREKA, CA</td>\n",
       "      <td>United States</td>\n",
       "      <td>NaN</td>\n",
       "      <td>NaN</td>\n",
       "      <td>NaN</td>\n",
       "      <td>NaN</td>\n",
       "      <td>...</td>\n",
       "      <td>Personal</td>\n",
       "      <td>NaN</td>\n",
       "      <td>2.0</td>\n",
       "      <td>0.0</td>\n",
       "      <td>0.0</td>\n",
       "      <td>0.0</td>\n",
       "      <td>IMC</td>\n",
       "      <td>Cruise</td>\n",
       "      <td>Probable Cause</td>\n",
       "      <td>12-09-2000</td>\n",
       "    </tr>\n",
       "    <tr>\n",
       "      <th>4</th>\n",
       "      <td>20041105X01764</td>\n",
       "      <td>Accident</td>\n",
       "      <td>CHI79FA064</td>\n",
       "      <td>1979-08-02</td>\n",
       "      <td>Canton, OH</td>\n",
       "      <td>United States</td>\n",
       "      <td>NaN</td>\n",
       "      <td>NaN</td>\n",
       "      <td>NaN</td>\n",
       "      <td>NaN</td>\n",
       "      <td>...</td>\n",
       "      <td>Personal</td>\n",
       "      <td>NaN</td>\n",
       "      <td>1.0</td>\n",
       "      <td>2.0</td>\n",
       "      <td>NaN</td>\n",
       "      <td>0.0</td>\n",
       "      <td>VMC</td>\n",
       "      <td>Approach</td>\n",
       "      <td>Probable Cause</td>\n",
       "      <td>16-04-1980</td>\n",
       "    </tr>\n",
       "    <tr>\n",
       "      <th>...</th>\n",
       "      <td>...</td>\n",
       "      <td>...</td>\n",
       "      <td>...</td>\n",
       "      <td>...</td>\n",
       "      <td>...</td>\n",
       "      <td>...</td>\n",
       "      <td>...</td>\n",
       "      <td>...</td>\n",
       "      <td>...</td>\n",
       "      <td>...</td>\n",
       "      <td>...</td>\n",
       "      <td>...</td>\n",
       "      <td>...</td>\n",
       "      <td>...</td>\n",
       "      <td>...</td>\n",
       "      <td>...</td>\n",
       "      <td>...</td>\n",
       "      <td>...</td>\n",
       "      <td>...</td>\n",
       "      <td>...</td>\n",
       "      <td>...</td>\n",
       "    </tr>\n",
       "    <tr>\n",
       "      <th>90343</th>\n",
       "      <td>20221227106491</td>\n",
       "      <td>Accident</td>\n",
       "      <td>ERA23LA093</td>\n",
       "      <td>2022-12-26</td>\n",
       "      <td>Annapolis, MD</td>\n",
       "      <td>United States</td>\n",
       "      <td>NaN</td>\n",
       "      <td>NaN</td>\n",
       "      <td>NaN</td>\n",
       "      <td>NaN</td>\n",
       "      <td>...</td>\n",
       "      <td>Personal</td>\n",
       "      <td>NaN</td>\n",
       "      <td>0.0</td>\n",
       "      <td>1.0</td>\n",
       "      <td>0.0</td>\n",
       "      <td>0.0</td>\n",
       "      <td>NaN</td>\n",
       "      <td>NaN</td>\n",
       "      <td>NaN</td>\n",
       "      <td>29-12-2022</td>\n",
       "    </tr>\n",
       "    <tr>\n",
       "      <th>90344</th>\n",
       "      <td>20221227106494</td>\n",
       "      <td>Accident</td>\n",
       "      <td>ERA23LA095</td>\n",
       "      <td>2022-12-26</td>\n",
       "      <td>Hampton, NH</td>\n",
       "      <td>United States</td>\n",
       "      <td>NaN</td>\n",
       "      <td>NaN</td>\n",
       "      <td>NaN</td>\n",
       "      <td>NaN</td>\n",
       "      <td>...</td>\n",
       "      <td>NaN</td>\n",
       "      <td>NaN</td>\n",
       "      <td>0.0</td>\n",
       "      <td>0.0</td>\n",
       "      <td>0.0</td>\n",
       "      <td>0.0</td>\n",
       "      <td>NaN</td>\n",
       "      <td>NaN</td>\n",
       "      <td>NaN</td>\n",
       "      <td>NaN</td>\n",
       "    </tr>\n",
       "    <tr>\n",
       "      <th>90345</th>\n",
       "      <td>20221227106497</td>\n",
       "      <td>Accident</td>\n",
       "      <td>WPR23LA075</td>\n",
       "      <td>2022-12-26</td>\n",
       "      <td>Payson, AZ</td>\n",
       "      <td>United States</td>\n",
       "      <td>341525N</td>\n",
       "      <td>1112021W</td>\n",
       "      <td>PAN</td>\n",
       "      <td>PAYSON</td>\n",
       "      <td>...</td>\n",
       "      <td>Personal</td>\n",
       "      <td>NaN</td>\n",
       "      <td>0.0</td>\n",
       "      <td>0.0</td>\n",
       "      <td>0.0</td>\n",
       "      <td>1.0</td>\n",
       "      <td>VMC</td>\n",
       "      <td>NaN</td>\n",
       "      <td>NaN</td>\n",
       "      <td>27-12-2022</td>\n",
       "    </tr>\n",
       "    <tr>\n",
       "      <th>90346</th>\n",
       "      <td>20221227106498</td>\n",
       "      <td>Accident</td>\n",
       "      <td>WPR23LA076</td>\n",
       "      <td>2022-12-26</td>\n",
       "      <td>Morgan, UT</td>\n",
       "      <td>United States</td>\n",
       "      <td>NaN</td>\n",
       "      <td>NaN</td>\n",
       "      <td>NaN</td>\n",
       "      <td>NaN</td>\n",
       "      <td>...</td>\n",
       "      <td>Personal</td>\n",
       "      <td>MC CESSNA 210N LLC</td>\n",
       "      <td>0.0</td>\n",
       "      <td>0.0</td>\n",
       "      <td>0.0</td>\n",
       "      <td>0.0</td>\n",
       "      <td>NaN</td>\n",
       "      <td>NaN</td>\n",
       "      <td>NaN</td>\n",
       "      <td>NaN</td>\n",
       "    </tr>\n",
       "    <tr>\n",
       "      <th>90347</th>\n",
       "      <td>20221230106513</td>\n",
       "      <td>Accident</td>\n",
       "      <td>ERA23LA097</td>\n",
       "      <td>2022-12-29</td>\n",
       "      <td>Athens, GA</td>\n",
       "      <td>United States</td>\n",
       "      <td>NaN</td>\n",
       "      <td>NaN</td>\n",
       "      <td>NaN</td>\n",
       "      <td>NaN</td>\n",
       "      <td>...</td>\n",
       "      <td>Personal</td>\n",
       "      <td>NaN</td>\n",
       "      <td>0.0</td>\n",
       "      <td>1.0</td>\n",
       "      <td>0.0</td>\n",
       "      <td>1.0</td>\n",
       "      <td>NaN</td>\n",
       "      <td>NaN</td>\n",
       "      <td>NaN</td>\n",
       "      <td>30-12-2022</td>\n",
       "    </tr>\n",
       "  </tbody>\n",
       "</table>\n",
       "<p>90348 rows × 31 columns</p>\n",
       "</div>"
      ],
      "text/plain": [
       "             Event.Id Investigation.Type Accident.Number  Event.Date  \\\n",
       "0      20001218X45444           Accident      SEA87LA080  1948-10-24   \n",
       "1      20001218X45447           Accident      LAX94LA336  1962-07-19   \n",
       "2      20061025X01555           Accident      NYC07LA005  1974-08-30   \n",
       "3      20001218X45448           Accident      LAX96LA321  1977-06-19   \n",
       "4      20041105X01764           Accident      CHI79FA064  1979-08-02   \n",
       "...               ...                ...             ...         ...   \n",
       "90343  20221227106491           Accident      ERA23LA093  2022-12-26   \n",
       "90344  20221227106494           Accident      ERA23LA095  2022-12-26   \n",
       "90345  20221227106497           Accident      WPR23LA075  2022-12-26   \n",
       "90346  20221227106498           Accident      WPR23LA076  2022-12-26   \n",
       "90347  20221230106513           Accident      ERA23LA097  2022-12-29   \n",
       "\n",
       "              Location        Country Latitude Longitude Airport.Code  \\\n",
       "0      MOOSE CREEK, ID  United States      NaN       NaN          NaN   \n",
       "1       BRIDGEPORT, CA  United States      NaN       NaN          NaN   \n",
       "2        Saltville, VA  United States  36.9222  -81.8781          NaN   \n",
       "3           EUREKA, CA  United States      NaN       NaN          NaN   \n",
       "4           Canton, OH  United States      NaN       NaN          NaN   \n",
       "...                ...            ...      ...       ...          ...   \n",
       "90343    Annapolis, MD  United States      NaN       NaN          NaN   \n",
       "90344      Hampton, NH  United States      NaN       NaN          NaN   \n",
       "90345       Payson, AZ  United States  341525N  1112021W          PAN   \n",
       "90346       Morgan, UT  United States      NaN       NaN          NaN   \n",
       "90347       Athens, GA  United States      NaN       NaN          NaN   \n",
       "\n",
       "      Airport.Name  ... Purpose.of.flight         Air.carrier  \\\n",
       "0              NaN  ...          Personal                 NaN   \n",
       "1              NaN  ...          Personal                 NaN   \n",
       "2              NaN  ...          Personal                 NaN   \n",
       "3              NaN  ...          Personal                 NaN   \n",
       "4              NaN  ...          Personal                 NaN   \n",
       "...            ...  ...               ...                 ...   \n",
       "90343          NaN  ...          Personal                 NaN   \n",
       "90344          NaN  ...               NaN                 NaN   \n",
       "90345       PAYSON  ...          Personal                 NaN   \n",
       "90346          NaN  ...          Personal  MC CESSNA 210N LLC   \n",
       "90347          NaN  ...          Personal                 NaN   \n",
       "\n",
       "      Total.Fatal.Injuries Total.Serious.Injuries Total.Minor.Injuries  \\\n",
       "0                      2.0                    0.0                  0.0   \n",
       "1                      4.0                    0.0                  0.0   \n",
       "2                      3.0                    NaN                  NaN   \n",
       "3                      2.0                    0.0                  0.0   \n",
       "4                      1.0                    2.0                  NaN   \n",
       "...                    ...                    ...                  ...   \n",
       "90343                  0.0                    1.0                  0.0   \n",
       "90344                  0.0                    0.0                  0.0   \n",
       "90345                  0.0                    0.0                  0.0   \n",
       "90346                  0.0                    0.0                  0.0   \n",
       "90347                  0.0                    1.0                  0.0   \n",
       "\n",
       "      Total.Uninjured Weather.Condition  Broad.phase.of.flight  \\\n",
       "0                 0.0               UNK                 Cruise   \n",
       "1                 0.0               UNK                Unknown   \n",
       "2                 NaN               IMC                 Cruise   \n",
       "3                 0.0               IMC                 Cruise   \n",
       "4                 0.0               VMC               Approach   \n",
       "...               ...               ...                    ...   \n",
       "90343             0.0               NaN                    NaN   \n",
       "90344             0.0               NaN                    NaN   \n",
       "90345             1.0               VMC                    NaN   \n",
       "90346             0.0               NaN                    NaN   \n",
       "90347             1.0               NaN                    NaN   \n",
       "\n",
       "        Report.Status Publication.Date  \n",
       "0      Probable Cause              NaN  \n",
       "1      Probable Cause       19-09-1996  \n",
       "2      Probable Cause       26-02-2007  \n",
       "3      Probable Cause       12-09-2000  \n",
       "4      Probable Cause       16-04-1980  \n",
       "...               ...              ...  \n",
       "90343             NaN       29-12-2022  \n",
       "90344             NaN              NaN  \n",
       "90345             NaN       27-12-2022  \n",
       "90346             NaN              NaN  \n",
       "90347             NaN       30-12-2022  \n",
       "\n",
       "[90348 rows x 31 columns]"
      ]
     },
     "execution_count": 3,
     "metadata": {},
     "output_type": "execute_result"
    }
   ],
   "source": [
    "# Check out the data\n",
    "aviation_data_raw"
   ]
  },
  {
   "cell_type": "markdown",
   "metadata": {},
   "source": [
    "**What does a row represent?**\n",
    "- An accident report of an event"
   ]
  },
  {
   "cell_type": "code",
   "execution_count": 4,
   "metadata": {
    "ExecuteTime": {
     "end_time": "2023-04-19T22:56:46.966488Z",
     "start_time": "2023-04-19T22:56:46.785544Z"
    },
    "scrolled": false
   },
   "outputs": [
    {
     "name": "stdout",
     "output_type": "stream",
     "text": [
      "<class 'pandas.core.frame.DataFrame'>\n",
      "RangeIndex: 90348 entries, 0 to 90347\n",
      "Data columns (total 31 columns):\n",
      " #   Column                  Non-Null Count  Dtype  \n",
      "---  ------                  --------------  -----  \n",
      " 0   Event.Id                88889 non-null  object \n",
      " 1   Investigation.Type      90348 non-null  object \n",
      " 2   Accident.Number         88889 non-null  object \n",
      " 3   Event.Date              88889 non-null  object \n",
      " 4   Location                88837 non-null  object \n",
      " 5   Country                 88663 non-null  object \n",
      " 6   Latitude                34382 non-null  object \n",
      " 7   Longitude               34373 non-null  object \n",
      " 8   Airport.Code            50249 non-null  object \n",
      " 9   Airport.Name            52790 non-null  object \n",
      " 10  Injury.Severity         87889 non-null  object \n",
      " 11  Aircraft.damage         85695 non-null  object \n",
      " 12  Aircraft.Category       32287 non-null  object \n",
      " 13  Registration.Number     87572 non-null  object \n",
      " 14  Make                    88826 non-null  object \n",
      " 15  Model                   88797 non-null  object \n",
      " 16  Amateur.Built           88787 non-null  object \n",
      " 17  Number.of.Engines       82805 non-null  float64\n",
      " 18  Engine.Type             81812 non-null  object \n",
      " 19  FAR.Description         32023 non-null  object \n",
      " 20  Schedule                12582 non-null  object \n",
      " 21  Purpose.of.flight       82697 non-null  object \n",
      " 22  Air.carrier             16648 non-null  object \n",
      " 23  Total.Fatal.Injuries    77488 non-null  float64\n",
      " 24  Total.Serious.Injuries  76379 non-null  float64\n",
      " 25  Total.Minor.Injuries    76956 non-null  float64\n",
      " 26  Total.Uninjured         82977 non-null  float64\n",
      " 27  Weather.Condition       84397 non-null  object \n",
      " 28  Broad.phase.of.flight   61724 non-null  object \n",
      " 29  Report.Status           82508 non-null  object \n",
      " 30  Publication.Date        73659 non-null  object \n",
      "dtypes: float64(5), object(26)\n",
      "memory usage: 21.4+ MB\n"
     ]
    }
   ],
   "source": [
    "# Check the information of the data set\n",
    "aviation_data_raw.info()"
   ]
  },
  {
   "cell_type": "markdown",
   "metadata": {},
   "source": [
    "**Observations**\n",
    "- It looks like we have mostly strings, with 5 numbers at the moment\n",
    "- We will have to handle dates\n",
    "- There are a significant number of nulls"
   ]
  },
  {
   "cell_type": "code",
   "execution_count": 5,
   "metadata": {
    "ExecuteTime": {
     "end_time": "2023-04-19T22:56:47.021003Z",
     "start_time": "2023-04-19T22:56:46.970740Z"
    },
    "scrolled": true
   },
   "outputs": [
    {
     "data": {
      "text/html": [
       "<div>\n",
       "<style scoped>\n",
       "    .dataframe tbody tr th:only-of-type {\n",
       "        vertical-align: middle;\n",
       "    }\n",
       "\n",
       "    .dataframe tbody tr th {\n",
       "        vertical-align: top;\n",
       "    }\n",
       "\n",
       "    .dataframe thead th {\n",
       "        text-align: right;\n",
       "    }\n",
       "</style>\n",
       "<table border=\"1\" class=\"dataframe\">\n",
       "  <thead>\n",
       "    <tr style=\"text-align: right;\">\n",
       "      <th></th>\n",
       "      <th>Number.of.Engines</th>\n",
       "      <th>Total.Fatal.Injuries</th>\n",
       "      <th>Total.Serious.Injuries</th>\n",
       "      <th>Total.Minor.Injuries</th>\n",
       "      <th>Total.Uninjured</th>\n",
       "    </tr>\n",
       "  </thead>\n",
       "  <tbody>\n",
       "    <tr>\n",
       "      <th>count</th>\n",
       "      <td>82805.000000</td>\n",
       "      <td>77488.000000</td>\n",
       "      <td>76379.000000</td>\n",
       "      <td>76956.000000</td>\n",
       "      <td>82977.000000</td>\n",
       "    </tr>\n",
       "    <tr>\n",
       "      <th>mean</th>\n",
       "      <td>1.146585</td>\n",
       "      <td>0.647855</td>\n",
       "      <td>0.279881</td>\n",
       "      <td>0.357061</td>\n",
       "      <td>5.325440</td>\n",
       "    </tr>\n",
       "    <tr>\n",
       "      <th>std</th>\n",
       "      <td>0.446510</td>\n",
       "      <td>5.485960</td>\n",
       "      <td>1.544084</td>\n",
       "      <td>2.235625</td>\n",
       "      <td>27.913634</td>\n",
       "    </tr>\n",
       "    <tr>\n",
       "      <th>min</th>\n",
       "      <td>0.000000</td>\n",
       "      <td>0.000000</td>\n",
       "      <td>0.000000</td>\n",
       "      <td>0.000000</td>\n",
       "      <td>0.000000</td>\n",
       "    </tr>\n",
       "    <tr>\n",
       "      <th>25%</th>\n",
       "      <td>1.000000</td>\n",
       "      <td>0.000000</td>\n",
       "      <td>0.000000</td>\n",
       "      <td>0.000000</td>\n",
       "      <td>0.000000</td>\n",
       "    </tr>\n",
       "    <tr>\n",
       "      <th>50%</th>\n",
       "      <td>1.000000</td>\n",
       "      <td>0.000000</td>\n",
       "      <td>0.000000</td>\n",
       "      <td>0.000000</td>\n",
       "      <td>1.000000</td>\n",
       "    </tr>\n",
       "    <tr>\n",
       "      <th>75%</th>\n",
       "      <td>1.000000</td>\n",
       "      <td>0.000000</td>\n",
       "      <td>0.000000</td>\n",
       "      <td>0.000000</td>\n",
       "      <td>2.000000</td>\n",
       "    </tr>\n",
       "    <tr>\n",
       "      <th>max</th>\n",
       "      <td>8.000000</td>\n",
       "      <td>349.000000</td>\n",
       "      <td>161.000000</td>\n",
       "      <td>380.000000</td>\n",
       "      <td>699.000000</td>\n",
       "    </tr>\n",
       "  </tbody>\n",
       "</table>\n",
       "</div>"
      ],
      "text/plain": [
       "       Number.of.Engines  Total.Fatal.Injuries  Total.Serious.Injuries  \\\n",
       "count       82805.000000          77488.000000            76379.000000   \n",
       "mean            1.146585              0.647855                0.279881   \n",
       "std             0.446510              5.485960                1.544084   \n",
       "min             0.000000              0.000000                0.000000   \n",
       "25%             1.000000              0.000000                0.000000   \n",
       "50%             1.000000              0.000000                0.000000   \n",
       "75%             1.000000              0.000000                0.000000   \n",
       "max             8.000000            349.000000              161.000000   \n",
       "\n",
       "       Total.Minor.Injuries  Total.Uninjured  \n",
       "count          76956.000000     82977.000000  \n",
       "mean               0.357061         5.325440  \n",
       "std                2.235625        27.913634  \n",
       "min                0.000000         0.000000  \n",
       "25%                0.000000         0.000000  \n",
       "50%                0.000000         1.000000  \n",
       "75%                0.000000         2.000000  \n",
       "max              380.000000       699.000000  "
      ]
     },
     "execution_count": 5,
     "metadata": {},
     "output_type": "execute_result"
    }
   ],
   "source": [
    "# Describe the numerical data\n",
    "aviation_data_raw.describe()"
   ]
  },
  {
   "cell_type": "code",
   "execution_count": 6,
   "metadata": {
    "ExecuteTime": {
     "end_time": "2023-04-19T22:56:47.586022Z",
     "start_time": "2023-04-19T22:56:47.024340Z"
    }
   },
   "outputs": [
    {
     "data": {
      "text/html": [
       "<div>\n",
       "<style scoped>\n",
       "    .dataframe tbody tr th:only-of-type {\n",
       "        vertical-align: middle;\n",
       "    }\n",
       "\n",
       "    .dataframe tbody tr th {\n",
       "        vertical-align: top;\n",
       "    }\n",
       "\n",
       "    .dataframe thead th {\n",
       "        text-align: right;\n",
       "    }\n",
       "</style>\n",
       "<table border=\"1\" class=\"dataframe\">\n",
       "  <thead>\n",
       "    <tr style=\"text-align: right;\">\n",
       "      <th></th>\n",
       "      <th>Event.Id</th>\n",
       "      <th>Investigation.Type</th>\n",
       "      <th>Accident.Number</th>\n",
       "      <th>Event.Date</th>\n",
       "      <th>Location</th>\n",
       "      <th>Country</th>\n",
       "      <th>Latitude</th>\n",
       "      <th>Longitude</th>\n",
       "      <th>Airport.Code</th>\n",
       "      <th>Airport.Name</th>\n",
       "      <th>...</th>\n",
       "      <th>Amateur.Built</th>\n",
       "      <th>Engine.Type</th>\n",
       "      <th>FAR.Description</th>\n",
       "      <th>Schedule</th>\n",
       "      <th>Purpose.of.flight</th>\n",
       "      <th>Air.carrier</th>\n",
       "      <th>Weather.Condition</th>\n",
       "      <th>Broad.phase.of.flight</th>\n",
       "      <th>Report.Status</th>\n",
       "      <th>Publication.Date</th>\n",
       "    </tr>\n",
       "  </thead>\n",
       "  <tbody>\n",
       "    <tr>\n",
       "      <th>count</th>\n",
       "      <td>88889</td>\n",
       "      <td>90348</td>\n",
       "      <td>88889</td>\n",
       "      <td>88889</td>\n",
       "      <td>88837</td>\n",
       "      <td>88663</td>\n",
       "      <td>34382</td>\n",
       "      <td>34373</td>\n",
       "      <td>50249</td>\n",
       "      <td>52790</td>\n",
       "      <td>...</td>\n",
       "      <td>88787</td>\n",
       "      <td>81812</td>\n",
       "      <td>32023</td>\n",
       "      <td>12582</td>\n",
       "      <td>82697</td>\n",
       "      <td>16648</td>\n",
       "      <td>84397</td>\n",
       "      <td>61724</td>\n",
       "      <td>82508</td>\n",
       "      <td>73659</td>\n",
       "    </tr>\n",
       "    <tr>\n",
       "      <th>unique</th>\n",
       "      <td>87951</td>\n",
       "      <td>71</td>\n",
       "      <td>88863</td>\n",
       "      <td>14782</td>\n",
       "      <td>27758</td>\n",
       "      <td>219</td>\n",
       "      <td>25592</td>\n",
       "      <td>27156</td>\n",
       "      <td>10375</td>\n",
       "      <td>24871</td>\n",
       "      <td>...</td>\n",
       "      <td>2</td>\n",
       "      <td>13</td>\n",
       "      <td>31</td>\n",
       "      <td>3</td>\n",
       "      <td>26</td>\n",
       "      <td>13590</td>\n",
       "      <td>4</td>\n",
       "      <td>12</td>\n",
       "      <td>17007</td>\n",
       "      <td>2923</td>\n",
       "    </tr>\n",
       "    <tr>\n",
       "      <th>top</th>\n",
       "      <td>20001214X45071</td>\n",
       "      <td>Accident</td>\n",
       "      <td>WPR23LA045</td>\n",
       "      <td>1984-06-30</td>\n",
       "      <td>ANCHORAGE, AK</td>\n",
       "      <td>United States</td>\n",
       "      <td>332739N</td>\n",
       "      <td>0112457W</td>\n",
       "      <td>NONE</td>\n",
       "      <td>Private</td>\n",
       "      <td>...</td>\n",
       "      <td>No</td>\n",
       "      <td>Reciprocating</td>\n",
       "      <td>091</td>\n",
       "      <td>NSCH</td>\n",
       "      <td>Personal</td>\n",
       "      <td>Pilot</td>\n",
       "      <td>VMC</td>\n",
       "      <td>Landing</td>\n",
       "      <td>Probable Cause</td>\n",
       "      <td>25-09-2020</td>\n",
       "    </tr>\n",
       "    <tr>\n",
       "      <th>freq</th>\n",
       "      <td>3</td>\n",
       "      <td>85015</td>\n",
       "      <td>2</td>\n",
       "      <td>25</td>\n",
       "      <td>434</td>\n",
       "      <td>82248</td>\n",
       "      <td>19</td>\n",
       "      <td>24</td>\n",
       "      <td>1488</td>\n",
       "      <td>240</td>\n",
       "      <td>...</td>\n",
       "      <td>80312</td>\n",
       "      <td>69530</td>\n",
       "      <td>18221</td>\n",
       "      <td>4474</td>\n",
       "      <td>49448</td>\n",
       "      <td>258</td>\n",
       "      <td>77303</td>\n",
       "      <td>15428</td>\n",
       "      <td>61754</td>\n",
       "      <td>16317</td>\n",
       "    </tr>\n",
       "  </tbody>\n",
       "</table>\n",
       "<p>4 rows × 26 columns</p>\n",
       "</div>"
      ],
      "text/plain": [
       "              Event.Id Investigation.Type Accident.Number  Event.Date  \\\n",
       "count            88889              90348           88889       88889   \n",
       "unique           87951                 71           88863       14782   \n",
       "top     20001214X45071           Accident      WPR23LA045  1984-06-30   \n",
       "freq                 3              85015               2          25   \n",
       "\n",
       "             Location        Country Latitude Longitude Airport.Code  \\\n",
       "count           88837          88663    34382     34373        50249   \n",
       "unique          27758            219    25592     27156        10375   \n",
       "top     ANCHORAGE, AK  United States  332739N  0112457W         NONE   \n",
       "freq              434          82248       19        24         1488   \n",
       "\n",
       "       Airport.Name  ... Amateur.Built    Engine.Type FAR.Description  \\\n",
       "count         52790  ...         88787          81812           32023   \n",
       "unique        24871  ...             2             13              31   \n",
       "top         Private  ...            No  Reciprocating             091   \n",
       "freq            240  ...         80312          69530           18221   \n",
       "\n",
       "       Schedule Purpose.of.flight Air.carrier Weather.Condition  \\\n",
       "count     12582             82697       16648             84397   \n",
       "unique        3                26       13590                 4   \n",
       "top        NSCH          Personal       Pilot               VMC   \n",
       "freq       4474             49448         258             77303   \n",
       "\n",
       "       Broad.phase.of.flight   Report.Status Publication.Date  \n",
       "count                  61724           82508            73659  \n",
       "unique                    12           17007             2923  \n",
       "top                  Landing  Probable Cause       25-09-2020  \n",
       "freq                   15428           61754            16317  \n",
       "\n",
       "[4 rows x 26 columns]"
      ]
     },
     "execution_count": 6,
     "metadata": {},
     "output_type": "execute_result"
    }
   ],
   "source": [
    "# Describle the non-numerical data\n",
    "aviation_data_raw.describe(include=object)"
   ]
  },
  {
   "cell_type": "code",
   "execution_count": 7,
   "metadata": {
    "ExecuteTime": {
     "end_time": "2023-04-19T22:56:47.599764Z",
     "start_time": "2023-04-19T22:56:47.588970Z"
    }
   },
   "outputs": [
    {
     "data": {
      "text/plain": [
       "(90348, 31)"
      ]
     },
     "execution_count": 7,
     "metadata": {},
     "output_type": "execute_result"
    }
   ],
   "source": [
    "# Check the shape\n",
    "aviation_data_raw.shape"
   ]
  },
  {
   "cell_type": "code",
   "execution_count": 8,
   "metadata": {
    "ExecuteTime": {
     "end_time": "2023-04-19T22:56:47.610296Z",
     "start_time": "2023-04-19T22:56:47.607584Z"
    }
   },
   "outputs": [],
   "source": [
    "# Create a copy for cleaning\n",
    "aviation_data_cleaned = aviation_data_raw"
   ]
  },
  {
   "cell_type": "markdown",
   "metadata": {},
   "source": [
    "## Handling Column Names\n",
    "We will start by cleaning the column names so that they will be easy to access\n",
    "We will:\n",
    "- Strip spaces\n",
    "- Replace periods with underscores\n",
    "- lowercase all column names"
   ]
  },
  {
   "cell_type": "code",
   "execution_count": 9,
   "metadata": {
    "ExecuteTime": {
     "end_time": "2023-04-19T22:56:47.621533Z",
     "start_time": "2023-04-19T22:56:47.614860Z"
    }
   },
   "outputs": [
    {
     "data": {
      "text/plain": [
       "Index(['Event.Id', 'Investigation.Type', 'Accident.Number', 'Event.Date',\n",
       "       'Location', 'Country', 'Latitude', 'Longitude', 'Airport.Code',\n",
       "       'Airport.Name', 'Injury.Severity', 'Aircraft.damage',\n",
       "       'Aircraft.Category', 'Registration.Number', 'Make', 'Model',\n",
       "       'Amateur.Built', 'Number.of.Engines', 'Engine.Type', 'FAR.Description',\n",
       "       'Schedule', 'Purpose.of.flight', 'Air.carrier', 'Total.Fatal.Injuries',\n",
       "       'Total.Serious.Injuries', 'Total.Minor.Injuries', 'Total.Uninjured',\n",
       "       'Weather.Condition', 'Broad.phase.of.flight', 'Report.Status',\n",
       "       'Publication.Date'],\n",
       "      dtype='object')"
      ]
     },
     "execution_count": 9,
     "metadata": {},
     "output_type": "execute_result"
    }
   ],
   "source": [
    "# Check out column names\n",
    "aviation_data_cleaned.columns"
   ]
  },
  {
   "cell_type": "code",
   "execution_count": 10,
   "metadata": {
    "ExecuteTime": {
     "end_time": "2023-04-19T22:56:47.632495Z",
     "start_time": "2023-04-19T22:56:47.623765Z"
    },
    "scrolled": true
   },
   "outputs": [
    {
     "data": {
      "text/plain": [
       "Index(['Event.Id', 'Investigation.Type', 'Accident.Number', 'Event.Date',\n",
       "       'Location', 'Country', 'Latitude', 'Longitude', 'Airport.Code',\n",
       "       'Airport.Name', 'Injury.Severity', 'Aircraft.damage',\n",
       "       'Aircraft.Category', 'Registration.Number', 'Make', 'Model',\n",
       "       'Amateur.Built', 'Number.of.Engines', 'Engine.Type', 'FAR.Description',\n",
       "       'Schedule', 'Purpose.of.flight', 'Air.carrier', 'Total.Fatal.Injuries',\n",
       "       'Total.Serious.Injuries', 'Total.Minor.Injuries', 'Total.Uninjured',\n",
       "       'Weather.Condition', 'Broad.phase.of.flight', 'Report.Status',\n",
       "       'Publication.Date'],\n",
       "      dtype='object')"
      ]
     },
     "execution_count": 10,
     "metadata": {},
     "output_type": "execute_result"
    }
   ],
   "source": [
    "# Start by stripping white space\n",
    "aviation_data_cleaned.columns = aviation_data_cleaned.columns.str.strip()\n",
    "aviation_data_cleaned.columns"
   ]
  },
  {
   "cell_type": "code",
   "execution_count": 11,
   "metadata": {
    "ExecuteTime": {
     "end_time": "2023-04-19T22:56:47.644068Z",
     "start_time": "2023-04-19T22:56:47.637098Z"
    }
   },
   "outputs": [
    {
     "data": {
      "text/plain": [
       "Index(['Event_Id', 'Investigation_Type', 'Accident_Number', 'Event_Date',\n",
       "       'Location', 'Country', 'Latitude', 'Longitude', 'Airport_Code',\n",
       "       'Airport_Name', 'Injury_Severity', 'Aircraft_damage',\n",
       "       'Aircraft_Category', 'Registration_Number', 'Make', 'Model',\n",
       "       'Amateur_Built', 'Number_of_Engines', 'Engine_Type', 'FAR_Description',\n",
       "       'Schedule', 'Purpose_of_flight', 'Air_carrier', 'Total_Fatal_Injuries',\n",
       "       'Total_Serious_Injuries', 'Total_Minor_Injuries', 'Total_Uninjured',\n",
       "       'Weather_Condition', 'Broad_phase_of_flight', 'Report_Status',\n",
       "       'Publication_Date'],\n",
       "      dtype='object')"
      ]
     },
     "execution_count": 11,
     "metadata": {},
     "output_type": "execute_result"
    }
   ],
   "source": [
    "# Replace . with _\n",
    "aviation_data_cleaned.columns = aviation_data_cleaned.columns.str.replace(\".\",\"_\")\n",
    "aviation_data_cleaned.columns"
   ]
  },
  {
   "cell_type": "code",
   "execution_count": 12,
   "metadata": {
    "ExecuteTime": {
     "end_time": "2023-04-19T22:56:47.655490Z",
     "start_time": "2023-04-19T22:56:47.648587Z"
    }
   },
   "outputs": [
    {
     "data": {
      "text/plain": [
       "Index(['event_id', 'investigation_type', 'accident_number', 'event_date',\n",
       "       'location', 'country', 'latitude', 'longitude', 'airport_code',\n",
       "       'airport_name', 'injury_severity', 'aircraft_damage',\n",
       "       'aircraft_category', 'registration_number', 'make', 'model',\n",
       "       'amateur_built', 'number_of_engines', 'engine_type', 'far_description',\n",
       "       'schedule', 'purpose_of_flight', 'air_carrier', 'total_fatal_injuries',\n",
       "       'total_serious_injuries', 'total_minor_injuries', 'total_uninjured',\n",
       "       'weather_condition', 'broad_phase_of_flight', 'report_status',\n",
       "       'publication_date'],\n",
       "      dtype='object')"
      ]
     },
     "execution_count": 12,
     "metadata": {},
     "output_type": "execute_result"
    }
   ],
   "source": [
    "# Lowercase all names\n",
    "aviation_data_cleaned.columns = aviation_data_cleaned.columns.str.lower()\n",
    "aviation_data_cleaned.columns"
   ]
  },
  {
   "cell_type": "markdown",
   "metadata": {},
   "source": [
    "## Handling Duplicate\n",
    "We will check for duplicates and see how we should handle them"
   ]
  },
  {
   "cell_type": "code",
   "execution_count": 13,
   "metadata": {
    "ExecuteTime": {
     "end_time": "2023-04-19T22:56:47.920580Z",
     "start_time": "2023-04-19T22:56:47.657814Z"
    }
   },
   "outputs": [
    {
     "data": {
      "text/plain": [
       "False    88958\n",
       "True      1390\n",
       "dtype: int64"
      ]
     },
     "execution_count": 13,
     "metadata": {},
     "output_type": "execute_result"
    }
   ],
   "source": [
    "#Check for duplicates\n",
    "aviation_data_raw.duplicated().value_counts()"
   ]
  },
  {
   "cell_type": "code",
   "execution_count": 14,
   "metadata": {
    "ExecuteTime": {
     "end_time": "2023-04-19T22:56:48.182161Z",
     "start_time": "2023-04-19T22:56:47.922652Z"
    },
    "scrolled": false
   },
   "outputs": [
    {
     "data": {
      "text/html": [
       "<div>\n",
       "<style scoped>\n",
       "    .dataframe tbody tr th:only-of-type {\n",
       "        vertical-align: middle;\n",
       "    }\n",
       "\n",
       "    .dataframe tbody tr th {\n",
       "        vertical-align: top;\n",
       "    }\n",
       "\n",
       "    .dataframe thead th {\n",
       "        text-align: right;\n",
       "    }\n",
       "</style>\n",
       "<table border=\"1\" class=\"dataframe\">\n",
       "  <thead>\n",
       "    <tr style=\"text-align: right;\">\n",
       "      <th></th>\n",
       "      <th>event_id</th>\n",
       "      <th>investigation_type</th>\n",
       "      <th>accident_number</th>\n",
       "      <th>event_date</th>\n",
       "      <th>location</th>\n",
       "      <th>country</th>\n",
       "      <th>latitude</th>\n",
       "      <th>longitude</th>\n",
       "      <th>airport_code</th>\n",
       "      <th>airport_name</th>\n",
       "      <th>...</th>\n",
       "      <th>purpose_of_flight</th>\n",
       "      <th>air_carrier</th>\n",
       "      <th>total_fatal_injuries</th>\n",
       "      <th>total_serious_injuries</th>\n",
       "      <th>total_minor_injuries</th>\n",
       "      <th>total_uninjured</th>\n",
       "      <th>weather_condition</th>\n",
       "      <th>broad_phase_of_flight</th>\n",
       "      <th>report_status</th>\n",
       "      <th>publication_date</th>\n",
       "    </tr>\n",
       "  </thead>\n",
       "  <tbody>\n",
       "    <tr>\n",
       "      <th>64030</th>\n",
       "      <td>NaN</td>\n",
       "      <td>25-09-2020</td>\n",
       "      <td>NaN</td>\n",
       "      <td>NaN</td>\n",
       "      <td>NaN</td>\n",
       "      <td>NaN</td>\n",
       "      <td>NaN</td>\n",
       "      <td>NaN</td>\n",
       "      <td>NaN</td>\n",
       "      <td>NaN</td>\n",
       "      <td>...</td>\n",
       "      <td>NaN</td>\n",
       "      <td>NaN</td>\n",
       "      <td>NaN</td>\n",
       "      <td>NaN</td>\n",
       "      <td>NaN</td>\n",
       "      <td>NaN</td>\n",
       "      <td>NaN</td>\n",
       "      <td>NaN</td>\n",
       "      <td>NaN</td>\n",
       "      <td>NaN</td>\n",
       "    </tr>\n",
       "    <tr>\n",
       "      <th>64050</th>\n",
       "      <td>NaN</td>\n",
       "      <td>25-09-2020</td>\n",
       "      <td>NaN</td>\n",
       "      <td>NaN</td>\n",
       "      <td>NaN</td>\n",
       "      <td>NaN</td>\n",
       "      <td>NaN</td>\n",
       "      <td>NaN</td>\n",
       "      <td>NaN</td>\n",
       "      <td>NaN</td>\n",
       "      <td>...</td>\n",
       "      <td>NaN</td>\n",
       "      <td>NaN</td>\n",
       "      <td>NaN</td>\n",
       "      <td>NaN</td>\n",
       "      <td>NaN</td>\n",
       "      <td>NaN</td>\n",
       "      <td>NaN</td>\n",
       "      <td>NaN</td>\n",
       "      <td>NaN</td>\n",
       "      <td>NaN</td>\n",
       "    </tr>\n",
       "    <tr>\n",
       "      <th>64052</th>\n",
       "      <td>NaN</td>\n",
       "      <td>25-09-2020</td>\n",
       "      <td>NaN</td>\n",
       "      <td>NaN</td>\n",
       "      <td>NaN</td>\n",
       "      <td>NaN</td>\n",
       "      <td>NaN</td>\n",
       "      <td>NaN</td>\n",
       "      <td>NaN</td>\n",
       "      <td>NaN</td>\n",
       "      <td>...</td>\n",
       "      <td>NaN</td>\n",
       "      <td>NaN</td>\n",
       "      <td>NaN</td>\n",
       "      <td>NaN</td>\n",
       "      <td>NaN</td>\n",
       "      <td>NaN</td>\n",
       "      <td>NaN</td>\n",
       "      <td>NaN</td>\n",
       "      <td>NaN</td>\n",
       "      <td>NaN</td>\n",
       "    </tr>\n",
       "    <tr>\n",
       "      <th>64388</th>\n",
       "      <td>NaN</td>\n",
       "      <td>25-09-2020</td>\n",
       "      <td>NaN</td>\n",
       "      <td>NaN</td>\n",
       "      <td>NaN</td>\n",
       "      <td>NaN</td>\n",
       "      <td>NaN</td>\n",
       "      <td>NaN</td>\n",
       "      <td>NaN</td>\n",
       "      <td>NaN</td>\n",
       "      <td>...</td>\n",
       "      <td>NaN</td>\n",
       "      <td>NaN</td>\n",
       "      <td>NaN</td>\n",
       "      <td>NaN</td>\n",
       "      <td>NaN</td>\n",
       "      <td>NaN</td>\n",
       "      <td>NaN</td>\n",
       "      <td>NaN</td>\n",
       "      <td>NaN</td>\n",
       "      <td>NaN</td>\n",
       "    </tr>\n",
       "    <tr>\n",
       "      <th>64541</th>\n",
       "      <td>NaN</td>\n",
       "      <td>25-09-2020</td>\n",
       "      <td>NaN</td>\n",
       "      <td>NaN</td>\n",
       "      <td>NaN</td>\n",
       "      <td>NaN</td>\n",
       "      <td>NaN</td>\n",
       "      <td>NaN</td>\n",
       "      <td>NaN</td>\n",
       "      <td>NaN</td>\n",
       "      <td>...</td>\n",
       "      <td>NaN</td>\n",
       "      <td>NaN</td>\n",
       "      <td>NaN</td>\n",
       "      <td>NaN</td>\n",
       "      <td>NaN</td>\n",
       "      <td>NaN</td>\n",
       "      <td>NaN</td>\n",
       "      <td>NaN</td>\n",
       "      <td>NaN</td>\n",
       "      <td>NaN</td>\n",
       "    </tr>\n",
       "    <tr>\n",
       "      <th>...</th>\n",
       "      <td>...</td>\n",
       "      <td>...</td>\n",
       "      <td>...</td>\n",
       "      <td>...</td>\n",
       "      <td>...</td>\n",
       "      <td>...</td>\n",
       "      <td>...</td>\n",
       "      <td>...</td>\n",
       "      <td>...</td>\n",
       "      <td>...</td>\n",
       "      <td>...</td>\n",
       "      <td>...</td>\n",
       "      <td>...</td>\n",
       "      <td>...</td>\n",
       "      <td>...</td>\n",
       "      <td>...</td>\n",
       "      <td>...</td>\n",
       "      <td>...</td>\n",
       "      <td>...</td>\n",
       "      <td>...</td>\n",
       "      <td>...</td>\n",
       "    </tr>\n",
       "    <tr>\n",
       "      <th>90004</th>\n",
       "      <td>NaN</td>\n",
       "      <td>15-12-2022</td>\n",
       "      <td>NaN</td>\n",
       "      <td>NaN</td>\n",
       "      <td>NaN</td>\n",
       "      <td>NaN</td>\n",
       "      <td>NaN</td>\n",
       "      <td>NaN</td>\n",
       "      <td>NaN</td>\n",
       "      <td>NaN</td>\n",
       "      <td>...</td>\n",
       "      <td>NaN</td>\n",
       "      <td>NaN</td>\n",
       "      <td>NaN</td>\n",
       "      <td>NaN</td>\n",
       "      <td>NaN</td>\n",
       "      <td>NaN</td>\n",
       "      <td>NaN</td>\n",
       "      <td>NaN</td>\n",
       "      <td>NaN</td>\n",
       "      <td>NaN</td>\n",
       "    </tr>\n",
       "    <tr>\n",
       "      <th>90010</th>\n",
       "      <td>NaN</td>\n",
       "      <td>15-12-2022</td>\n",
       "      <td>NaN</td>\n",
       "      <td>NaN</td>\n",
       "      <td>NaN</td>\n",
       "      <td>NaN</td>\n",
       "      <td>NaN</td>\n",
       "      <td>NaN</td>\n",
       "      <td>NaN</td>\n",
       "      <td>NaN</td>\n",
       "      <td>...</td>\n",
       "      <td>NaN</td>\n",
       "      <td>NaN</td>\n",
       "      <td>NaN</td>\n",
       "      <td>NaN</td>\n",
       "      <td>NaN</td>\n",
       "      <td>NaN</td>\n",
       "      <td>NaN</td>\n",
       "      <td>NaN</td>\n",
       "      <td>NaN</td>\n",
       "      <td>NaN</td>\n",
       "    </tr>\n",
       "    <tr>\n",
       "      <th>90031</th>\n",
       "      <td>NaN</td>\n",
       "      <td>15-12-2022</td>\n",
       "      <td>NaN</td>\n",
       "      <td>NaN</td>\n",
       "      <td>NaN</td>\n",
       "      <td>NaN</td>\n",
       "      <td>NaN</td>\n",
       "      <td>NaN</td>\n",
       "      <td>NaN</td>\n",
       "      <td>NaN</td>\n",
       "      <td>...</td>\n",
       "      <td>NaN</td>\n",
       "      <td>NaN</td>\n",
       "      <td>NaN</td>\n",
       "      <td>NaN</td>\n",
       "      <td>NaN</td>\n",
       "      <td>NaN</td>\n",
       "      <td>NaN</td>\n",
       "      <td>NaN</td>\n",
       "      <td>NaN</td>\n",
       "      <td>NaN</td>\n",
       "    </tr>\n",
       "    <tr>\n",
       "      <th>90090</th>\n",
       "      <td>NaN</td>\n",
       "      <td>20-12-2022</td>\n",
       "      <td>NaN</td>\n",
       "      <td>NaN</td>\n",
       "      <td>NaN</td>\n",
       "      <td>NaN</td>\n",
       "      <td>NaN</td>\n",
       "      <td>NaN</td>\n",
       "      <td>NaN</td>\n",
       "      <td>NaN</td>\n",
       "      <td>...</td>\n",
       "      <td>NaN</td>\n",
       "      <td>NaN</td>\n",
       "      <td>NaN</td>\n",
       "      <td>NaN</td>\n",
       "      <td>NaN</td>\n",
       "      <td>NaN</td>\n",
       "      <td>NaN</td>\n",
       "      <td>NaN</td>\n",
       "      <td>NaN</td>\n",
       "      <td>NaN</td>\n",
       "    </tr>\n",
       "    <tr>\n",
       "      <th>90097</th>\n",
       "      <td>NaN</td>\n",
       "      <td>20-12-2022</td>\n",
       "      <td>NaN</td>\n",
       "      <td>NaN</td>\n",
       "      <td>NaN</td>\n",
       "      <td>NaN</td>\n",
       "      <td>NaN</td>\n",
       "      <td>NaN</td>\n",
       "      <td>NaN</td>\n",
       "      <td>NaN</td>\n",
       "      <td>...</td>\n",
       "      <td>NaN</td>\n",
       "      <td>NaN</td>\n",
       "      <td>NaN</td>\n",
       "      <td>NaN</td>\n",
       "      <td>NaN</td>\n",
       "      <td>NaN</td>\n",
       "      <td>NaN</td>\n",
       "      <td>NaN</td>\n",
       "      <td>NaN</td>\n",
       "      <td>NaN</td>\n",
       "    </tr>\n",
       "  </tbody>\n",
       "</table>\n",
       "<p>1447 rows × 31 columns</p>\n",
       "</div>"
      ],
      "text/plain": [
       "      event_id investigation_type accident_number event_date location country  \\\n",
       "64030      NaN         25-09-2020             NaN        NaN      NaN     NaN   \n",
       "64050      NaN         25-09-2020             NaN        NaN      NaN     NaN   \n",
       "64052      NaN         25-09-2020             NaN        NaN      NaN     NaN   \n",
       "64388      NaN         25-09-2020             NaN        NaN      NaN     NaN   \n",
       "64541      NaN         25-09-2020             NaN        NaN      NaN     NaN   \n",
       "...        ...                ...             ...        ...      ...     ...   \n",
       "90004      NaN         15-12-2022             NaN        NaN      NaN     NaN   \n",
       "90010      NaN         15-12-2022             NaN        NaN      NaN     NaN   \n",
       "90031      NaN         15-12-2022             NaN        NaN      NaN     NaN   \n",
       "90090      NaN         20-12-2022             NaN        NaN      NaN     NaN   \n",
       "90097      NaN         20-12-2022             NaN        NaN      NaN     NaN   \n",
       "\n",
       "      latitude longitude airport_code airport_name  ... purpose_of_flight  \\\n",
       "64030      NaN       NaN          NaN          NaN  ...               NaN   \n",
       "64050      NaN       NaN          NaN          NaN  ...               NaN   \n",
       "64052      NaN       NaN          NaN          NaN  ...               NaN   \n",
       "64388      NaN       NaN          NaN          NaN  ...               NaN   \n",
       "64541      NaN       NaN          NaN          NaN  ...               NaN   \n",
       "...        ...       ...          ...          ...  ...               ...   \n",
       "90004      NaN       NaN          NaN          NaN  ...               NaN   \n",
       "90010      NaN       NaN          NaN          NaN  ...               NaN   \n",
       "90031      NaN       NaN          NaN          NaN  ...               NaN   \n",
       "90090      NaN       NaN          NaN          NaN  ...               NaN   \n",
       "90097      NaN       NaN          NaN          NaN  ...               NaN   \n",
       "\n",
       "      air_carrier total_fatal_injuries total_serious_injuries  \\\n",
       "64030         NaN                  NaN                    NaN   \n",
       "64050         NaN                  NaN                    NaN   \n",
       "64052         NaN                  NaN                    NaN   \n",
       "64388         NaN                  NaN                    NaN   \n",
       "64541         NaN                  NaN                    NaN   \n",
       "...           ...                  ...                    ...   \n",
       "90004         NaN                  NaN                    NaN   \n",
       "90010         NaN                  NaN                    NaN   \n",
       "90031         NaN                  NaN                    NaN   \n",
       "90090         NaN                  NaN                    NaN   \n",
       "90097         NaN                  NaN                    NaN   \n",
       "\n",
       "      total_minor_injuries total_uninjured weather_condition  \\\n",
       "64030                  NaN             NaN               NaN   \n",
       "64050                  NaN             NaN               NaN   \n",
       "64052                  NaN             NaN               NaN   \n",
       "64388                  NaN             NaN               NaN   \n",
       "64541                  NaN             NaN               NaN   \n",
       "...                    ...             ...               ...   \n",
       "90004                  NaN             NaN               NaN   \n",
       "90010                  NaN             NaN               NaN   \n",
       "90031                  NaN             NaN               NaN   \n",
       "90090                  NaN             NaN               NaN   \n",
       "90097                  NaN             NaN               NaN   \n",
       "\n",
       "       broad_phase_of_flight report_status publication_date  \n",
       "64030                    NaN           NaN              NaN  \n",
       "64050                    NaN           NaN              NaN  \n",
       "64052                    NaN           NaN              NaN  \n",
       "64388                    NaN           NaN              NaN  \n",
       "64541                    NaN           NaN              NaN  \n",
       "...                      ...           ...              ...  \n",
       "90004                    NaN           NaN              NaN  \n",
       "90010                    NaN           NaN              NaN  \n",
       "90031                    NaN           NaN              NaN  \n",
       "90090                    NaN           NaN              NaN  \n",
       "90097                    NaN           NaN              NaN  \n",
       "\n",
       "[1447 rows x 31 columns]"
      ]
     },
     "execution_count": 14,
     "metadata": {},
     "output_type": "execute_result"
    }
   ],
   "source": [
    "# Investigated duplicates\n",
    "aviation_data_raw[aviation_data_raw.duplicated(keep=False)]"
   ]
  },
  {
   "cell_type": "markdown",
   "metadata": {},
   "source": [
    "The duplicates seem to be mostly empty data, we can drop these rows"
   ]
  },
  {
   "cell_type": "code",
   "execution_count": 15,
   "metadata": {
    "ExecuteTime": {
     "end_time": "2023-04-19T22:56:48.443016Z",
     "start_time": "2023-04-19T22:56:48.186427Z"
    }
   },
   "outputs": [],
   "source": [
    "# Drop the duplicates\n",
    "aviation_data_cleaned = aviation_data_cleaned.drop_duplicates()"
   ]
  },
  {
   "cell_type": "code",
   "execution_count": 16,
   "metadata": {
    "ExecuteTime": {
     "end_time": "2023-04-19T22:56:48.676006Z",
     "start_time": "2023-04-19T22:56:48.448583Z"
    },
    "scrolled": false
   },
   "outputs": [
    {
     "data": {
      "text/plain": [
       "False    88958\n",
       "dtype: int64"
      ]
     },
     "execution_count": 16,
     "metadata": {},
     "output_type": "execute_result"
    }
   ],
   "source": [
    "#Confirm there are no duplicates in the cleaned data\n",
    "aviation_data_cleaned.duplicated().value_counts()"
   ]
  },
  {
   "cell_type": "code",
   "execution_count": 17,
   "metadata": {
    "ExecuteTime": {
     "end_time": "2023-04-19T22:56:48.701886Z",
     "start_time": "2023-04-19T22:56:48.679144Z"
    },
    "scrolled": false
   },
   "outputs": [
    {
     "data": {
      "text/html": [
       "<div>\n",
       "<style scoped>\n",
       "    .dataframe tbody tr th:only-of-type {\n",
       "        vertical-align: middle;\n",
       "    }\n",
       "\n",
       "    .dataframe tbody tr th {\n",
       "        vertical-align: top;\n",
       "    }\n",
       "\n",
       "    .dataframe thead th {\n",
       "        text-align: right;\n",
       "    }\n",
       "</style>\n",
       "<table border=\"1\" class=\"dataframe\">\n",
       "  <thead>\n",
       "    <tr style=\"text-align: right;\">\n",
       "      <th></th>\n",
       "      <th>event_id</th>\n",
       "      <th>investigation_type</th>\n",
       "      <th>accident_number</th>\n",
       "      <th>event_date</th>\n",
       "      <th>location</th>\n",
       "      <th>country</th>\n",
       "      <th>latitude</th>\n",
       "      <th>longitude</th>\n",
       "      <th>airport_code</th>\n",
       "      <th>airport_name</th>\n",
       "      <th>...</th>\n",
       "      <th>purpose_of_flight</th>\n",
       "      <th>air_carrier</th>\n",
       "      <th>total_fatal_injuries</th>\n",
       "      <th>total_serious_injuries</th>\n",
       "      <th>total_minor_injuries</th>\n",
       "      <th>total_uninjured</th>\n",
       "      <th>weather_condition</th>\n",
       "      <th>broad_phase_of_flight</th>\n",
       "      <th>report_status</th>\n",
       "      <th>publication_date</th>\n",
       "    </tr>\n",
       "  </thead>\n",
       "  <tbody>\n",
       "    <tr>\n",
       "      <th>0</th>\n",
       "      <td>20001218X45444</td>\n",
       "      <td>Accident</td>\n",
       "      <td>SEA87LA080</td>\n",
       "      <td>1948-10-24</td>\n",
       "      <td>MOOSE CREEK, ID</td>\n",
       "      <td>United States</td>\n",
       "      <td>NaN</td>\n",
       "      <td>NaN</td>\n",
       "      <td>NaN</td>\n",
       "      <td>NaN</td>\n",
       "      <td>...</td>\n",
       "      <td>Personal</td>\n",
       "      <td>NaN</td>\n",
       "      <td>2.0</td>\n",
       "      <td>0.0</td>\n",
       "      <td>0.0</td>\n",
       "      <td>0.0</td>\n",
       "      <td>UNK</td>\n",
       "      <td>Cruise</td>\n",
       "      <td>Probable Cause</td>\n",
       "      <td>NaN</td>\n",
       "    </tr>\n",
       "    <tr>\n",
       "      <th>1</th>\n",
       "      <td>20001218X45447</td>\n",
       "      <td>Accident</td>\n",
       "      <td>LAX94LA336</td>\n",
       "      <td>1962-07-19</td>\n",
       "      <td>BRIDGEPORT, CA</td>\n",
       "      <td>United States</td>\n",
       "      <td>NaN</td>\n",
       "      <td>NaN</td>\n",
       "      <td>NaN</td>\n",
       "      <td>NaN</td>\n",
       "      <td>...</td>\n",
       "      <td>Personal</td>\n",
       "      <td>NaN</td>\n",
       "      <td>4.0</td>\n",
       "      <td>0.0</td>\n",
       "      <td>0.0</td>\n",
       "      <td>0.0</td>\n",
       "      <td>UNK</td>\n",
       "      <td>Unknown</td>\n",
       "      <td>Probable Cause</td>\n",
       "      <td>19-09-1996</td>\n",
       "    </tr>\n",
       "    <tr>\n",
       "      <th>2</th>\n",
       "      <td>20061025X01555</td>\n",
       "      <td>Accident</td>\n",
       "      <td>NYC07LA005</td>\n",
       "      <td>1974-08-30</td>\n",
       "      <td>Saltville, VA</td>\n",
       "      <td>United States</td>\n",
       "      <td>36.9222</td>\n",
       "      <td>-81.8781</td>\n",
       "      <td>NaN</td>\n",
       "      <td>NaN</td>\n",
       "      <td>...</td>\n",
       "      <td>Personal</td>\n",
       "      <td>NaN</td>\n",
       "      <td>3.0</td>\n",
       "      <td>NaN</td>\n",
       "      <td>NaN</td>\n",
       "      <td>NaN</td>\n",
       "      <td>IMC</td>\n",
       "      <td>Cruise</td>\n",
       "      <td>Probable Cause</td>\n",
       "      <td>26-02-2007</td>\n",
       "    </tr>\n",
       "    <tr>\n",
       "      <th>3</th>\n",
       "      <td>20001218X45448</td>\n",
       "      <td>Accident</td>\n",
       "      <td>LAX96LA321</td>\n",
       "      <td>1977-06-19</td>\n",
       "      <td>EUREKA, CA</td>\n",
       "      <td>United States</td>\n",
       "      <td>NaN</td>\n",
       "      <td>NaN</td>\n",
       "      <td>NaN</td>\n",
       "      <td>NaN</td>\n",
       "      <td>...</td>\n",
       "      <td>Personal</td>\n",
       "      <td>NaN</td>\n",
       "      <td>2.0</td>\n",
       "      <td>0.0</td>\n",
       "      <td>0.0</td>\n",
       "      <td>0.0</td>\n",
       "      <td>IMC</td>\n",
       "      <td>Cruise</td>\n",
       "      <td>Probable Cause</td>\n",
       "      <td>12-09-2000</td>\n",
       "    </tr>\n",
       "    <tr>\n",
       "      <th>4</th>\n",
       "      <td>20041105X01764</td>\n",
       "      <td>Accident</td>\n",
       "      <td>CHI79FA064</td>\n",
       "      <td>1979-08-02</td>\n",
       "      <td>Canton, OH</td>\n",
       "      <td>United States</td>\n",
       "      <td>NaN</td>\n",
       "      <td>NaN</td>\n",
       "      <td>NaN</td>\n",
       "      <td>NaN</td>\n",
       "      <td>...</td>\n",
       "      <td>Personal</td>\n",
       "      <td>NaN</td>\n",
       "      <td>1.0</td>\n",
       "      <td>2.0</td>\n",
       "      <td>NaN</td>\n",
       "      <td>0.0</td>\n",
       "      <td>VMC</td>\n",
       "      <td>Approach</td>\n",
       "      <td>Probable Cause</td>\n",
       "      <td>16-04-1980</td>\n",
       "    </tr>\n",
       "  </tbody>\n",
       "</table>\n",
       "<p>5 rows × 31 columns</p>\n",
       "</div>"
      ],
      "text/plain": [
       "         event_id investigation_type accident_number  event_date  \\\n",
       "0  20001218X45444           Accident      SEA87LA080  1948-10-24   \n",
       "1  20001218X45447           Accident      LAX94LA336  1962-07-19   \n",
       "2  20061025X01555           Accident      NYC07LA005  1974-08-30   \n",
       "3  20001218X45448           Accident      LAX96LA321  1977-06-19   \n",
       "4  20041105X01764           Accident      CHI79FA064  1979-08-02   \n",
       "\n",
       "          location        country latitude longitude airport_code  \\\n",
       "0  MOOSE CREEK, ID  United States      NaN       NaN          NaN   \n",
       "1   BRIDGEPORT, CA  United States      NaN       NaN          NaN   \n",
       "2    Saltville, VA  United States  36.9222  -81.8781          NaN   \n",
       "3       EUREKA, CA  United States      NaN       NaN          NaN   \n",
       "4       Canton, OH  United States      NaN       NaN          NaN   \n",
       "\n",
       "  airport_name  ... purpose_of_flight air_carrier total_fatal_injuries  \\\n",
       "0          NaN  ...          Personal         NaN                  2.0   \n",
       "1          NaN  ...          Personal         NaN                  4.0   \n",
       "2          NaN  ...          Personal         NaN                  3.0   \n",
       "3          NaN  ...          Personal         NaN                  2.0   \n",
       "4          NaN  ...          Personal         NaN                  1.0   \n",
       "\n",
       "  total_serious_injuries total_minor_injuries total_uninjured  \\\n",
       "0                    0.0                  0.0             0.0   \n",
       "1                    0.0                  0.0             0.0   \n",
       "2                    NaN                  NaN             NaN   \n",
       "3                    0.0                  0.0             0.0   \n",
       "4                    2.0                  NaN             0.0   \n",
       "\n",
       "  weather_condition  broad_phase_of_flight   report_status publication_date  \n",
       "0               UNK                 Cruise  Probable Cause              NaN  \n",
       "1               UNK                Unknown  Probable Cause       19-09-1996  \n",
       "2               IMC                 Cruise  Probable Cause       26-02-2007  \n",
       "3               IMC                 Cruise  Probable Cause       12-09-2000  \n",
       "4               VMC               Approach  Probable Cause       16-04-1980  \n",
       "\n",
       "[5 rows x 31 columns]"
      ]
     },
     "execution_count": 17,
     "metadata": {},
     "output_type": "execute_result"
    }
   ],
   "source": [
    "# Check out dataframe to see what other columns we may want to check for duplicates\n",
    "aviation_data_cleaned.head()"
   ]
  },
  {
   "cell_type": "code",
   "execution_count": 18,
   "metadata": {
    "ExecuteTime": {
     "end_time": "2023-04-19T22:56:48.719070Z",
     "start_time": "2023-04-19T22:56:48.705197Z"
    },
    "scrolled": true
   },
   "outputs": [
    {
     "data": {
      "text/plain": [
       "False    87952\n",
       "True      1006\n",
       "Name: event_id, dtype: int64"
      ]
     },
     "execution_count": 18,
     "metadata": {},
     "output_type": "execute_result"
    }
   ],
   "source": [
    "# Check for duplicates in event_id\n",
    "aviation_data_cleaned['event_id'].duplicated().value_counts()"
   ]
  },
  {
   "cell_type": "code",
   "execution_count": 19,
   "metadata": {
    "ExecuteTime": {
     "end_time": "2023-04-19T22:56:48.766124Z",
     "start_time": "2023-04-19T22:56:48.723057Z"
    },
    "scrolled": false
   },
   "outputs": [
    {
     "data": {
      "text/html": [
       "<div>\n",
       "<style scoped>\n",
       "    .dataframe tbody tr th:only-of-type {\n",
       "        vertical-align: middle;\n",
       "    }\n",
       "\n",
       "    .dataframe tbody tr th {\n",
       "        vertical-align: top;\n",
       "    }\n",
       "\n",
       "    .dataframe thead th {\n",
       "        text-align: right;\n",
       "    }\n",
       "</style>\n",
       "<table border=\"1\" class=\"dataframe\">\n",
       "  <thead>\n",
       "    <tr style=\"text-align: right;\">\n",
       "      <th></th>\n",
       "      <th>event_id</th>\n",
       "      <th>investigation_type</th>\n",
       "      <th>accident_number</th>\n",
       "      <th>event_date</th>\n",
       "      <th>location</th>\n",
       "      <th>country</th>\n",
       "      <th>latitude</th>\n",
       "      <th>longitude</th>\n",
       "      <th>airport_code</th>\n",
       "      <th>airport_name</th>\n",
       "      <th>...</th>\n",
       "      <th>purpose_of_flight</th>\n",
       "      <th>air_carrier</th>\n",
       "      <th>total_fatal_injuries</th>\n",
       "      <th>total_serious_injuries</th>\n",
       "      <th>total_minor_injuries</th>\n",
       "      <th>total_uninjured</th>\n",
       "      <th>weather_condition</th>\n",
       "      <th>broad_phase_of_flight</th>\n",
       "      <th>report_status</th>\n",
       "      <th>publication_date</th>\n",
       "    </tr>\n",
       "  </thead>\n",
       "  <tbody>\n",
       "    <tr>\n",
       "      <th>45562</th>\n",
       "      <td>20001204X00086</td>\n",
       "      <td>Accident</td>\n",
       "      <td>LAX99LA086B</td>\n",
       "      <td>1999-01-29</td>\n",
       "      <td>MADERA, CA</td>\n",
       "      <td>United States</td>\n",
       "      <td>NaN</td>\n",
       "      <td>NaN</td>\n",
       "      <td>MAE</td>\n",
       "      <td>MADERA MUNICIPAL AIRPORT</td>\n",
       "      <td>...</td>\n",
       "      <td>Personal</td>\n",
       "      <td>NaN</td>\n",
       "      <td>0.0</td>\n",
       "      <td>0.0</td>\n",
       "      <td>0.0</td>\n",
       "      <td>2.0</td>\n",
       "      <td>VMC</td>\n",
       "      <td>Taxi</td>\n",
       "      <td>Probable Cause</td>\n",
       "      <td>30-11-2000</td>\n",
       "    </tr>\n",
       "    <tr>\n",
       "      <th>45564</th>\n",
       "      <td>20001204X00086</td>\n",
       "      <td>Accident</td>\n",
       "      <td>LAX99LA086A</td>\n",
       "      <td>1999-01-29</td>\n",
       "      <td>MADERA, CA</td>\n",
       "      <td>United States</td>\n",
       "      <td>NaN</td>\n",
       "      <td>NaN</td>\n",
       "      <td>MAE</td>\n",
       "      <td>MADERA MUNICIPAL AIRPORT</td>\n",
       "      <td>...</td>\n",
       "      <td>Personal</td>\n",
       "      <td>NaN</td>\n",
       "      <td>0.0</td>\n",
       "      <td>0.0</td>\n",
       "      <td>0.0</td>\n",
       "      <td>2.0</td>\n",
       "      <td>VMC</td>\n",
       "      <td>Taxi</td>\n",
       "      <td>Probable Cause</td>\n",
       "      <td>30-11-2000</td>\n",
       "    </tr>\n",
       "    <tr>\n",
       "      <th>45703</th>\n",
       "      <td>20001205X00276</td>\n",
       "      <td>Incident</td>\n",
       "      <td>CHI99IA100B</td>\n",
       "      <td>1999-03-02</td>\n",
       "      <td>SALINA, KS</td>\n",
       "      <td>United States</td>\n",
       "      <td>NaN</td>\n",
       "      <td>NaN</td>\n",
       "      <td>NaN</td>\n",
       "      <td>NaN</td>\n",
       "      <td>...</td>\n",
       "      <td>Unknown</td>\n",
       "      <td>NaN</td>\n",
       "      <td>0.0</td>\n",
       "      <td>0.0</td>\n",
       "      <td>0.0</td>\n",
       "      <td>6.0</td>\n",
       "      <td>VMC</td>\n",
       "      <td>Cruise</td>\n",
       "      <td>Probable Cause</td>\n",
       "      <td>30-11-2000</td>\n",
       "    </tr>\n",
       "    <tr>\n",
       "      <th>45704</th>\n",
       "      <td>20001205X00276</td>\n",
       "      <td>Incident</td>\n",
       "      <td>CHI99IA100A</td>\n",
       "      <td>1999-03-02</td>\n",
       "      <td>SALINA, KS</td>\n",
       "      <td>United States</td>\n",
       "      <td>NaN</td>\n",
       "      <td>NaN</td>\n",
       "      <td>NaN</td>\n",
       "      <td>NaN</td>\n",
       "      <td>...</td>\n",
       "      <td>Unknown</td>\n",
       "      <td>NaN</td>\n",
       "      <td>0.0</td>\n",
       "      <td>0.0</td>\n",
       "      <td>0.0</td>\n",
       "      <td>6.0</td>\n",
       "      <td>VMC</td>\n",
       "      <td>Cruise</td>\n",
       "      <td>Probable Cause</td>\n",
       "      <td>30-11-2000</td>\n",
       "    </tr>\n",
       "    <tr>\n",
       "      <th>45716</th>\n",
       "      <td>20001205X00305</td>\n",
       "      <td>Accident</td>\n",
       "      <td>DEN99LA047B</td>\n",
       "      <td>1999-03-05</td>\n",
       "      <td>DENVER, CO</td>\n",
       "      <td>United States</td>\n",
       "      <td>NaN</td>\n",
       "      <td>NaN</td>\n",
       "      <td>DEN</td>\n",
       "      <td>DENVER INTERNATIONAL</td>\n",
       "      <td>...</td>\n",
       "      <td>Unknown</td>\n",
       "      <td>NaN</td>\n",
       "      <td>0.0</td>\n",
       "      <td>0.0</td>\n",
       "      <td>0.0</td>\n",
       "      <td>2.0</td>\n",
       "      <td>VMC</td>\n",
       "      <td>Taxi</td>\n",
       "      <td>Probable Cause</td>\n",
       "      <td>25-04-2001</td>\n",
       "    </tr>\n",
       "    <tr>\n",
       "      <th>...</th>\n",
       "      <td>...</td>\n",
       "      <td>...</td>\n",
       "      <td>...</td>\n",
       "      <td>...</td>\n",
       "      <td>...</td>\n",
       "      <td>...</td>\n",
       "      <td>...</td>\n",
       "      <td>...</td>\n",
       "      <td>...</td>\n",
       "      <td>...</td>\n",
       "      <td>...</td>\n",
       "      <td>...</td>\n",
       "      <td>...</td>\n",
       "      <td>...</td>\n",
       "      <td>...</td>\n",
       "      <td>...</td>\n",
       "      <td>...</td>\n",
       "      <td>...</td>\n",
       "      <td>...</td>\n",
       "      <td>...</td>\n",
       "      <td>...</td>\n",
       "    </tr>\n",
       "    <tr>\n",
       "      <th>89440</th>\n",
       "      <td>NaN</td>\n",
       "      <td>02-12-2022</td>\n",
       "      <td>NaN</td>\n",
       "      <td>NaN</td>\n",
       "      <td>NaN</td>\n",
       "      <td>NaN</td>\n",
       "      <td>NaN</td>\n",
       "      <td>NaN</td>\n",
       "      <td>NaN</td>\n",
       "      <td>NaN</td>\n",
       "      <td>...</td>\n",
       "      <td>NaN</td>\n",
       "      <td>NaN</td>\n",
       "      <td>NaN</td>\n",
       "      <td>NaN</td>\n",
       "      <td>NaN</td>\n",
       "      <td>NaN</td>\n",
       "      <td>NaN</td>\n",
       "      <td>NaN</td>\n",
       "      <td>NaN</td>\n",
       "      <td>NaN</td>\n",
       "    </tr>\n",
       "    <tr>\n",
       "      <th>89492</th>\n",
       "      <td>NaN</td>\n",
       "      <td>05-08-2022</td>\n",
       "      <td>NaN</td>\n",
       "      <td>NaN</td>\n",
       "      <td>NaN</td>\n",
       "      <td>NaN</td>\n",
       "      <td>NaN</td>\n",
       "      <td>NaN</td>\n",
       "      <td>NaN</td>\n",
       "      <td>NaN</td>\n",
       "      <td>...</td>\n",
       "      <td>NaN</td>\n",
       "      <td>NaN</td>\n",
       "      <td>NaN</td>\n",
       "      <td>NaN</td>\n",
       "      <td>NaN</td>\n",
       "      <td>NaN</td>\n",
       "      <td>NaN</td>\n",
       "      <td>NaN</td>\n",
       "      <td>NaN</td>\n",
       "      <td>NaN</td>\n",
       "    </tr>\n",
       "    <tr>\n",
       "      <th>89763</th>\n",
       "      <td>NaN</td>\n",
       "      <td>08-12-2022</td>\n",
       "      <td>NaN</td>\n",
       "      <td>NaN</td>\n",
       "      <td>NaN</td>\n",
       "      <td>NaN</td>\n",
       "      <td>NaN</td>\n",
       "      <td>NaN</td>\n",
       "      <td>NaN</td>\n",
       "      <td>NaN</td>\n",
       "      <td>...</td>\n",
       "      <td>NaN</td>\n",
       "      <td>NaN</td>\n",
       "      <td>NaN</td>\n",
       "      <td>NaN</td>\n",
       "      <td>NaN</td>\n",
       "      <td>NaN</td>\n",
       "      <td>NaN</td>\n",
       "      <td>NaN</td>\n",
       "      <td>NaN</td>\n",
       "      <td>NaN</td>\n",
       "    </tr>\n",
       "    <tr>\n",
       "      <th>89943</th>\n",
       "      <td>NaN</td>\n",
       "      <td>15-12-2022</td>\n",
       "      <td>NaN</td>\n",
       "      <td>NaN</td>\n",
       "      <td>NaN</td>\n",
       "      <td>NaN</td>\n",
       "      <td>NaN</td>\n",
       "      <td>NaN</td>\n",
       "      <td>NaN</td>\n",
       "      <td>NaN</td>\n",
       "      <td>...</td>\n",
       "      <td>NaN</td>\n",
       "      <td>NaN</td>\n",
       "      <td>NaN</td>\n",
       "      <td>NaN</td>\n",
       "      <td>NaN</td>\n",
       "      <td>NaN</td>\n",
       "      <td>NaN</td>\n",
       "      <td>NaN</td>\n",
       "      <td>NaN</td>\n",
       "      <td>NaN</td>\n",
       "    </tr>\n",
       "    <tr>\n",
       "      <th>90090</th>\n",
       "      <td>NaN</td>\n",
       "      <td>20-12-2022</td>\n",
       "      <td>NaN</td>\n",
       "      <td>NaN</td>\n",
       "      <td>NaN</td>\n",
       "      <td>NaN</td>\n",
       "      <td>NaN</td>\n",
       "      <td>NaN</td>\n",
       "      <td>NaN</td>\n",
       "      <td>NaN</td>\n",
       "      <td>...</td>\n",
       "      <td>NaN</td>\n",
       "      <td>NaN</td>\n",
       "      <td>NaN</td>\n",
       "      <td>NaN</td>\n",
       "      <td>NaN</td>\n",
       "      <td>NaN</td>\n",
       "      <td>NaN</td>\n",
       "      <td>NaN</td>\n",
       "      <td>NaN</td>\n",
       "      <td>NaN</td>\n",
       "    </tr>\n",
       "  </tbody>\n",
       "</table>\n",
       "<p>1943 rows × 31 columns</p>\n",
       "</div>"
      ],
      "text/plain": [
       "             event_id investigation_type accident_number  event_date  \\\n",
       "45562  20001204X00086           Accident     LAX99LA086B  1999-01-29   \n",
       "45564  20001204X00086           Accident     LAX99LA086A  1999-01-29   \n",
       "45703  20001205X00276           Incident     CHI99IA100B  1999-03-02   \n",
       "45704  20001205X00276           Incident     CHI99IA100A  1999-03-02   \n",
       "45716  20001205X00305           Accident     DEN99LA047B  1999-03-05   \n",
       "...               ...                ...             ...         ...   \n",
       "89440             NaN         02-12-2022             NaN         NaN   \n",
       "89492             NaN         05-08-2022             NaN         NaN   \n",
       "89763             NaN         08-12-2022             NaN         NaN   \n",
       "89943             NaN         15-12-2022             NaN         NaN   \n",
       "90090             NaN         20-12-2022             NaN         NaN   \n",
       "\n",
       "         location        country latitude longitude airport_code  \\\n",
       "45562  MADERA, CA  United States      NaN       NaN          MAE   \n",
       "45564  MADERA, CA  United States      NaN       NaN          MAE   \n",
       "45703  SALINA, KS  United States      NaN       NaN          NaN   \n",
       "45704  SALINA, KS  United States      NaN       NaN          NaN   \n",
       "45716  DENVER, CO  United States      NaN       NaN          DEN   \n",
       "...           ...            ...      ...       ...          ...   \n",
       "89440         NaN            NaN      NaN       NaN          NaN   \n",
       "89492         NaN            NaN      NaN       NaN          NaN   \n",
       "89763         NaN            NaN      NaN       NaN          NaN   \n",
       "89943         NaN            NaN      NaN       NaN          NaN   \n",
       "90090         NaN            NaN      NaN       NaN          NaN   \n",
       "\n",
       "                   airport_name  ... purpose_of_flight air_carrier  \\\n",
       "45562  MADERA MUNICIPAL AIRPORT  ...          Personal         NaN   \n",
       "45564  MADERA MUNICIPAL AIRPORT  ...          Personal         NaN   \n",
       "45703                       NaN  ...           Unknown         NaN   \n",
       "45704                       NaN  ...           Unknown         NaN   \n",
       "45716      DENVER INTERNATIONAL  ...           Unknown         NaN   \n",
       "...                         ...  ...               ...         ...   \n",
       "89440                       NaN  ...               NaN         NaN   \n",
       "89492                       NaN  ...               NaN         NaN   \n",
       "89763                       NaN  ...               NaN         NaN   \n",
       "89943                       NaN  ...               NaN         NaN   \n",
       "90090                       NaN  ...               NaN         NaN   \n",
       "\n",
       "      total_fatal_injuries total_serious_injuries total_minor_injuries  \\\n",
       "45562                  0.0                    0.0                  0.0   \n",
       "45564                  0.0                    0.0                  0.0   \n",
       "45703                  0.0                    0.0                  0.0   \n",
       "45704                  0.0                    0.0                  0.0   \n",
       "45716                  0.0                    0.0                  0.0   \n",
       "...                    ...                    ...                  ...   \n",
       "89440                  NaN                    NaN                  NaN   \n",
       "89492                  NaN                    NaN                  NaN   \n",
       "89763                  NaN                    NaN                  NaN   \n",
       "89943                  NaN                    NaN                  NaN   \n",
       "90090                  NaN                    NaN                  NaN   \n",
       "\n",
       "      total_uninjured weather_condition  broad_phase_of_flight  \\\n",
       "45562             2.0               VMC                   Taxi   \n",
       "45564             2.0               VMC                   Taxi   \n",
       "45703             6.0               VMC                 Cruise   \n",
       "45704             6.0               VMC                 Cruise   \n",
       "45716             2.0               VMC                   Taxi   \n",
       "...               ...               ...                    ...   \n",
       "89440             NaN               NaN                    NaN   \n",
       "89492             NaN               NaN                    NaN   \n",
       "89763             NaN               NaN                    NaN   \n",
       "89943             NaN               NaN                    NaN   \n",
       "90090             NaN               NaN                    NaN   \n",
       "\n",
       "        report_status publication_date  \n",
       "45562  Probable Cause       30-11-2000  \n",
       "45564  Probable Cause       30-11-2000  \n",
       "45703  Probable Cause       30-11-2000  \n",
       "45704  Probable Cause       30-11-2000  \n",
       "45716  Probable Cause       25-04-2001  \n",
       "...               ...              ...  \n",
       "89440             NaN              NaN  \n",
       "89492             NaN              NaN  \n",
       "89763             NaN              NaN  \n",
       "89943             NaN              NaN  \n",
       "90090             NaN              NaN  \n",
       "\n",
       "[1943 rows x 31 columns]"
      ]
     },
     "execution_count": 19,
     "metadata": {},
     "output_type": "execute_result"
    }
   ],
   "source": [
    "# Investigate the event_id duplicates\n",
    "aviation_data_cleaned[aviation_data_cleaned['event_id'].duplicated(keep=False)].sort_values(by=['event_id'])"
   ]
  },
  {
   "cell_type": "markdown",
   "metadata": {
    "ExecuteTime": {
     "end_time": "2023-04-17T22:18:05.545449Z",
     "start_time": "2023-04-17T22:18:05.540233Z"
    }
   },
   "source": [
    "**Observations**\n",
    "- The duplicates seem to be caused by multiple accident numbers referring to the same event\n",
    "- Some have different air carriers\n",
    "- Some have different broad_phase_of_flight\t\n",
    "- We can likely keep one pair for each duplicate as the data is still good"
   ]
  },
  {
   "cell_type": "code",
   "execution_count": 20,
   "metadata": {
    "ExecuteTime": {
     "end_time": "2023-04-19T22:56:48.817282Z",
     "start_time": "2023-04-19T22:56:48.770985Z"
    }
   },
   "outputs": [],
   "source": [
    "# Drip duplicate events but keep the first reported event\n",
    "aviation_data_cleaned = aviation_data_cleaned.drop_duplicates(subset=['event_id'], keep='first')"
   ]
  },
  {
   "cell_type": "code",
   "execution_count": 21,
   "metadata": {
    "ExecuteTime": {
     "end_time": "2023-04-19T22:56:48.832878Z",
     "start_time": "2023-04-19T22:56:48.820427Z"
    },
    "scrolled": true
   },
   "outputs": [
    {
     "data": {
      "text/plain": [
       "False    87952\n",
       "Name: event_id, dtype: int64"
      ]
     },
     "execution_count": 21,
     "metadata": {},
     "output_type": "execute_result"
    }
   ],
   "source": [
    "# Confirm there are no more event_id duplicates\n",
    "aviation_data_cleaned['event_id'].duplicated().value_counts()"
   ]
  },
  {
   "cell_type": "markdown",
   "metadata": {},
   "source": [
    "### Removing undesired data \n",
    "We don't want all the data so let's remove what we don't want\n",
    "- We only want USA based planes\n",
    "- We don't want amateur built planes\n",
    "- We don't want old data"
   ]
  },
  {
   "cell_type": "code",
   "execution_count": 22,
   "metadata": {
    "ExecuteTime": {
     "end_time": "2023-04-19T22:56:48.934138Z",
     "start_time": "2023-04-19T22:56:48.838753Z"
    },
    "scrolled": false
   },
   "outputs": [
    {
     "name": "stdout",
     "output_type": "stream",
     "text": [
      "<class 'pandas.core.frame.DataFrame'>\n",
      "Int64Index: 87952 entries, 0 to 90347\n",
      "Data columns (total 31 columns):\n",
      " #   Column                  Non-Null Count  Dtype  \n",
      "---  ------                  --------------  -----  \n",
      " 0   event_id                87951 non-null  object \n",
      " 1   investigation_type      87952 non-null  object \n",
      " 2   accident_number         87951 non-null  object \n",
      " 3   event_date              87951 non-null  object \n",
      " 4   location                87899 non-null  object \n",
      " 5   country                 87729 non-null  object \n",
      " 6   latitude                34212 non-null  object \n",
      " 7   longitude               34203 non-null  object \n",
      " 8   airport_code            49601 non-null  object \n",
      " 9   airport_name            52117 non-null  object \n",
      " 10  injury_severity         86961 non-null  object \n",
      " 11  aircraft_damage         84848 non-null  object \n",
      " 12  aircraft_category       32181 non-null  object \n",
      " 13  registration_number     86666 non-null  object \n",
      " 14  make                    87888 non-null  object \n",
      " 15  model                   87859 non-null  object \n",
      " 16  amateur_built           87851 non-null  object \n",
      " 17  number_of_engines       81924 non-null  float64\n",
      " 18  engine_type             80927 non-null  object \n",
      " 19  far_description         31915 non-null  object \n",
      " 20  schedule                12360 non-null  object \n",
      " 21  purpose_of_flight       81829 non-null  object \n",
      " 22  air_carrier             16533 non-null  object \n",
      " 23  total_fatal_injuries    76684 non-null  float64\n",
      " 24  total_serious_injuries  75629 non-null  float64\n",
      " 25  total_minor_injuries    76191 non-null  float64\n",
      " 26  total_uninjured         82088 non-null  float64\n",
      " 27  weather_condition       83478 non-null  object \n",
      " 28  broad_phase_of_flight   60837 non-null  object \n",
      " 29  report_status           81590 non-null  object \n",
      " 30  publication_date        72894 non-null  object \n",
      "dtypes: float64(5), object(26)\n",
      "memory usage: 21.5+ MB\n"
     ]
    }
   ],
   "source": [
    "# Investigate the data\n",
    "aviation_data_cleaned.info()"
   ]
  },
  {
   "cell_type": "code",
   "execution_count": 23,
   "metadata": {
    "ExecuteTime": {
     "end_time": "2023-04-19T22:56:48.976093Z",
     "start_time": "2023-04-19T22:56:48.937389Z"
    }
   },
   "outputs": [],
   "source": [
    "# Including data only from the USA\n",
    "usa_filter = aviation_data_cleaned['country'] == 'United States'\n",
    "aviation_data_cleaned = aviation_data_cleaned[usa_filter]"
   ]
  },
  {
   "cell_type": "code",
   "execution_count": 24,
   "metadata": {
    "ExecuteTime": {
     "end_time": "2023-04-19T22:56:48.992629Z",
     "start_time": "2023-04-19T22:56:48.978585Z"
    },
    "scrolled": true
   },
   "outputs": [
    {
     "data": {
      "text/plain": [
       "United States    81355\n",
       "Name: country, dtype: int64"
      ]
     },
     "execution_count": 24,
     "metadata": {},
     "output_type": "execute_result"
    }
   ],
   "source": [
    "# Check the value counts of country\n",
    "aviation_data_cleaned['country'].value_counts()"
   ]
  },
  {
   "cell_type": "code",
   "execution_count": 25,
   "metadata": {
    "ExecuteTime": {
     "end_time": "2023-04-19T22:56:49.095339Z",
     "start_time": "2023-04-19T22:56:48.997960Z"
    },
    "scrolled": false
   },
   "outputs": [
    {
     "name": "stdout",
     "output_type": "stream",
     "text": [
      "<class 'pandas.core.frame.DataFrame'>\n",
      "Int64Index: 81355 entries, 0 to 90347\n",
      "Data columns (total 30 columns):\n",
      " #   Column                  Non-Null Count  Dtype  \n",
      "---  ------                  --------------  -----  \n",
      " 0   event_id                81355 non-null  object \n",
      " 1   investigation_type      81355 non-null  object \n",
      " 2   accident_number         81355 non-null  object \n",
      " 3   event_date              81355 non-null  object \n",
      " 4   location                81344 non-null  object \n",
      " 5   latitude                32103 non-null  object \n",
      " 6   longitude               32093 non-null  object \n",
      " 7   airport_code            48548 non-null  object \n",
      " 8   airport_name            50990 non-null  object \n",
      " 9   injury_severity         81250 non-null  object \n",
      " 10  aircraft_damage         79453 non-null  object \n",
      " 11  aircraft_category       28062 non-null  object \n",
      " 12  registration_number     81318 non-null  object \n",
      " 13  make                    81334 non-null  object \n",
      " 14  model                   81317 non-null  object \n",
      " 15  amateur_built           81335 non-null  object \n",
      " 16  number_of_engines       79509 non-null  float64\n",
      " 17  engine_type             78363 non-null  object \n",
      " 18  far_description         28132 non-null  object \n",
      " 19  schedule                10098 non-null  object \n",
      " 20  purpose_of_flight       78979 non-null  object \n",
      " 21  air_carrier             14389 non-null  object \n",
      " 22  total_fatal_injuries    70828 non-null  float64\n",
      " 23  total_serious_injuries  70149 non-null  float64\n",
      " 24  total_minor_injuries    70781 non-null  float64\n",
      " 25  total_uninjured         76389 non-null  float64\n",
      " 26  weather_condition       80714 non-null  object \n",
      " 27  broad_phase_of_flight   60283 non-null  object \n",
      " 28  report_status           78756 non-null  object \n",
      " 29  publication_date        67379 non-null  object \n",
      "dtypes: float64(5), object(25)\n",
      "memory usage: 19.2+ MB\n"
     ]
    }
   ],
   "source": [
    "# Drop the column since there is now only one value\n",
    "aviation_data_cleaned = aviation_data_cleaned.drop('country', axis=1)\n",
    "aviation_data_cleaned.info()"
   ]
  },
  {
   "cell_type": "markdown",
   "metadata": {},
   "source": [
    "**Removing Amateur Built Airplanes**"
   ]
  },
  {
   "cell_type": "code",
   "execution_count": 26,
   "metadata": {
    "ExecuteTime": {
     "end_time": "2023-04-19T22:56:49.118287Z",
     "start_time": "2023-04-19T22:56:49.106013Z"
    }
   },
   "outputs": [
    {
     "data": {
      "text/plain": [
       "No     73068\n",
       "Yes     8267\n",
       "Name: amateur_built, dtype: int64"
      ]
     },
     "execution_count": 26,
     "metadata": {},
     "output_type": "execute_result"
    }
   ],
   "source": [
    "# Check out the data for amateur_built column\n",
    "aviation_data_cleaned['amateur_built'].value_counts()"
   ]
  },
  {
   "cell_type": "code",
   "execution_count": 27,
   "metadata": {
    "ExecuteTime": {
     "end_time": "2023-04-19T22:56:49.165412Z",
     "start_time": "2023-04-19T22:56:49.132350Z"
    }
   },
   "outputs": [],
   "source": [
    "# We don't want any amateur built airplanes so let's remove the data \n",
    "pro_filter = aviation_data_cleaned['amateur_built'] == 'No'\n",
    "aviation_data_cleaned = aviation_data_cleaned[pro_filter]"
   ]
  },
  {
   "cell_type": "code",
   "execution_count": 28,
   "metadata": {
    "ExecuteTime": {
     "end_time": "2023-04-19T22:56:49.256666Z",
     "start_time": "2023-04-19T22:56:49.168132Z"
    }
   },
   "outputs": [
    {
     "name": "stdout",
     "output_type": "stream",
     "text": [
      "<class 'pandas.core.frame.DataFrame'>\n",
      "Int64Index: 73068 entries, 0 to 90347\n",
      "Data columns (total 29 columns):\n",
      " #   Column                  Non-Null Count  Dtype  \n",
      "---  ------                  --------------  -----  \n",
      " 0   event_id                73068 non-null  object \n",
      " 1   investigation_type      73068 non-null  object \n",
      " 2   accident_number         73068 non-null  object \n",
      " 3   event_date              73068 non-null  object \n",
      " 4   location                73058 non-null  object \n",
      " 5   latitude                27974 non-null  object \n",
      " 6   longitude               27967 non-null  object \n",
      " 7   airport_code            43439 non-null  object \n",
      " 8   airport_name            45668 non-null  object \n",
      " 9   injury_severity         72963 non-null  object \n",
      " 10  aircraft_damage         71187 non-null  object \n",
      " 11  aircraft_category       24609 non-null  object \n",
      " 12  registration_number     73031 non-null  object \n",
      " 13  make                    73059 non-null  object \n",
      " 14  model                   73053 non-null  object \n",
      " 15  number_of_engines       71426 non-null  float64\n",
      " 16  engine_type             70348 non-null  object \n",
      " 17  far_description         24678 non-null  object \n",
      " 18  schedule                9898 non-null   object \n",
      " 19  purpose_of_flight       70695 non-null  object \n",
      " 20  air_carrier             13412 non-null  object \n",
      " 21  total_fatal_injuries    63705 non-null  float64\n",
      " 22  total_serious_injuries  63167 non-null  float64\n",
      " 23  total_minor_injuries    63746 non-null  float64\n",
      " 24  total_uninjured         69027 non-null  float64\n",
      " 25  weather_condition       72451 non-null  object \n",
      " 26  broad_phase_of_flight   54773 non-null  object \n",
      " 27  report_status           70750 non-null  object \n",
      " 28  publication_date        60185 non-null  object \n",
      "dtypes: float64(5), object(24)\n",
      "memory usage: 16.7+ MB\n"
     ]
    }
   ],
   "source": [
    "# Now drop the amateur_built column since all remaining aircraft are professionally built\n",
    "aviation_data_cleaned = aviation_data_cleaned.drop('amateur_built', axis=1)\n",
    "aviation_data_cleaned.info()"
   ]
  },
  {
   "cell_type": "markdown",
   "metadata": {},
   "source": [
    "**Removing Old Data**"
   ]
  },
  {
   "cell_type": "markdown",
   "metadata": {},
   "source": [
    "The dates are in the `Event.Date` column in the format 'YYYY-MM-DD'"
   ]
  },
  {
   "cell_type": "code",
   "execution_count": 29,
   "metadata": {
    "ExecuteTime": {
     "end_time": "2023-04-19T22:56:49.290350Z",
     "start_time": "2023-04-19T22:56:49.264947Z"
    },
    "scrolled": true
   },
   "outputs": [
    {
     "data": {
      "text/plain": [
       "0   1948-10-24\n",
       "1   1962-07-19\n",
       "2   1974-08-30\n",
       "3   1977-06-19\n",
       "4   1979-08-02\n",
       "Name: event_date, dtype: datetime64[ns]"
      ]
     },
     "execution_count": 29,
     "metadata": {},
     "output_type": "execute_result"
    }
   ],
   "source": [
    "# Check chaging the Event.Date column to dates\n",
    "pd.to_datetime(aviation_data_cleaned['event_date']).head()"
   ]
  },
  {
   "cell_type": "code",
   "execution_count": 30,
   "metadata": {
    "ExecuteTime": {
     "end_time": "2023-04-19T22:56:49.335991Z",
     "start_time": "2023-04-19T22:56:49.292982Z"
    },
    "scrolled": true
   },
   "outputs": [],
   "source": [
    "# Update the column to the correct datetime type\n",
    "aviation_data_cleaned['event_date'] = pd.to_datetime(aviation_data_cleaned['event_date'])"
   ]
  },
  {
   "cell_type": "code",
   "execution_count": 31,
   "metadata": {
    "ExecuteTime": {
     "end_time": "2023-04-19T22:56:49.357457Z",
     "start_time": "2023-04-19T22:56:49.340325Z"
    },
    "scrolled": true
   },
   "outputs": [
    {
     "data": {
      "text/plain": [
       "0   1948-10-24\n",
       "1   1962-07-19\n",
       "2   1974-08-30\n",
       "3   1977-06-19\n",
       "4   1979-08-02\n",
       "Name: event_date, dtype: datetime64[ns]"
      ]
     },
     "execution_count": 31,
     "metadata": {},
     "output_type": "execute_result"
    }
   ],
   "source": [
    "# Confirm that it worked\n",
    "aviation_data_cleaned['event_date'].head()"
   ]
  },
  {
   "cell_type": "code",
   "execution_count": 32,
   "metadata": {
    "ExecuteTime": {
     "end_time": "2023-04-19T22:56:49.435858Z",
     "start_time": "2023-04-19T22:56:49.360277Z"
    }
   },
   "outputs": [
    {
     "name": "stdout",
     "output_type": "stream",
     "text": [
      "<class 'pandas.core.frame.DataFrame'>\n",
      "Int64Index: 73068 entries, 0 to 90347\n",
      "Data columns (total 29 columns):\n",
      " #   Column                  Non-Null Count  Dtype         \n",
      "---  ------                  --------------  -----         \n",
      " 0   event_id                73068 non-null  object        \n",
      " 1   investigation_type      73068 non-null  object        \n",
      " 2   accident_number         73068 non-null  object        \n",
      " 3   event_date              73068 non-null  datetime64[ns]\n",
      " 4   location                73058 non-null  object        \n",
      " 5   latitude                27974 non-null  object        \n",
      " 6   longitude               27967 non-null  object        \n",
      " 7   airport_code            43439 non-null  object        \n",
      " 8   airport_name            45668 non-null  object        \n",
      " 9   injury_severity         72963 non-null  object        \n",
      " 10  aircraft_damage         71187 non-null  object        \n",
      " 11  aircraft_category       24609 non-null  object        \n",
      " 12  registration_number     73031 non-null  object        \n",
      " 13  make                    73059 non-null  object        \n",
      " 14  model                   73053 non-null  object        \n",
      " 15  number_of_engines       71426 non-null  float64       \n",
      " 16  engine_type             70348 non-null  object        \n",
      " 17  far_description         24678 non-null  object        \n",
      " 18  schedule                9898 non-null   object        \n",
      " 19  purpose_of_flight       70695 non-null  object        \n",
      " 20  air_carrier             13412 non-null  object        \n",
      " 21  total_fatal_injuries    63705 non-null  float64       \n",
      " 22  total_serious_injuries  63167 non-null  float64       \n",
      " 23  total_minor_injuries    63746 non-null  float64       \n",
      " 24  total_uninjured         69027 non-null  float64       \n",
      " 25  weather_condition       72451 non-null  object        \n",
      " 26  broad_phase_of_flight   54773 non-null  object        \n",
      " 27  report_status           70750 non-null  object        \n",
      " 28  publication_date        60185 non-null  object        \n",
      "dtypes: datetime64[ns](1), float64(5), object(23)\n",
      "memory usage: 16.7+ MB\n"
     ]
    }
   ],
   "source": [
    "aviation_data_cleaned.info()"
   ]
  },
  {
   "cell_type": "markdown",
   "metadata": {},
   "source": [
    "Great! It looks like it worked, now let's investigate the timframes we are working with"
   ]
  },
  {
   "cell_type": "code",
   "execution_count": 33,
   "metadata": {
    "ExecuteTime": {
     "end_time": "2023-04-19T22:56:49.448443Z",
     "start_time": "2023-04-19T22:56:49.439483Z"
    },
    "scrolled": false
   },
   "outputs": [
    {
     "data": {
      "text/plain": [
       "1982    3275\n",
       "1983    3196\n",
       "1984    3143\n",
       "1985    2842\n",
       "1986    2597\n",
       "1987    2565\n",
       "1988    2452\n",
       "1989    2283\n",
       "1990    2243\n",
       "1991    2178\n",
       "1992    2027\n",
       "1993    2016\n",
       "1995    1965\n",
       "1994    1957\n",
       "1996    1871\n",
       "1997    1816\n",
       "1999    1813\n",
       "1998    1807\n",
       "2000    1765\n",
       "2003    1694\n",
       "2001    1653\n",
       "2002    1629\n",
       "2005    1597\n",
       "2007    1566\n",
       "2004    1565\n",
       "2008    1485\n",
       "2006    1427\n",
       "2011    1382\n",
       "2010    1364\n",
       "2009    1363\n",
       "2012    1356\n",
       "2016    1166\n",
       "2013    1162\n",
       "2018    1154\n",
       "2017    1142\n",
       "2015    1130\n",
       "2019    1128\n",
       "2014    1119\n",
       "2022    1114\n",
       "2021    1067\n",
       "2020     987\n",
       "1979       2\n",
       "1977       1\n",
       "1948       1\n",
       "1981       1\n",
       "1962       1\n",
       "1974       1\n",
       "Name: event_date, dtype: int64"
      ]
     },
     "execution_count": 33,
     "metadata": {},
     "output_type": "execute_result"
    }
   ],
   "source": [
    "aviation_data_cleaned['event_date'].dt.year.value_counts()"
   ]
  },
  {
   "cell_type": "code",
   "execution_count": 34,
   "metadata": {
    "ExecuteTime": {
     "end_time": "2023-04-19T22:56:49.476984Z",
     "start_time": "2023-04-19T22:56:49.450850Z"
    }
   },
   "outputs": [],
   "source": [
    "# There are only a few datapoints before 1082 so let's remove them\n",
    "aviation_data_cleaned = aviation_data_cleaned[aviation_data_cleaned['event_date'].dt.year >= 1982]"
   ]
  },
  {
   "cell_type": "code",
   "execution_count": 35,
   "metadata": {
    "ExecuteTime": {
     "end_time": "2023-04-19T22:56:49.489871Z",
     "start_time": "2023-04-19T22:56:49.479600Z"
    },
    "scrolled": false
   },
   "outputs": [
    {
     "data": {
      "text/plain": [
       "1982    3275\n",
       "1983    3196\n",
       "1984    3143\n",
       "1985    2842\n",
       "1986    2597\n",
       "1987    2565\n",
       "1988    2452\n",
       "1989    2283\n",
       "1990    2243\n",
       "1991    2178\n",
       "1992    2027\n",
       "1993    2016\n",
       "1995    1965\n",
       "1994    1957\n",
       "1996    1871\n",
       "1997    1816\n",
       "1999    1813\n",
       "1998    1807\n",
       "2000    1765\n",
       "2003    1694\n",
       "2001    1653\n",
       "2002    1629\n",
       "2005    1597\n",
       "2007    1566\n",
       "2004    1565\n",
       "2008    1485\n",
       "2006    1427\n",
       "2011    1382\n",
       "2010    1364\n",
       "2009    1363\n",
       "2012    1356\n",
       "2016    1166\n",
       "2013    1162\n",
       "2018    1154\n",
       "2017    1142\n",
       "2015    1130\n",
       "2019    1128\n",
       "2014    1119\n",
       "2022    1114\n",
       "2021    1067\n",
       "2020     987\n",
       "Name: event_date, dtype: int64"
      ]
     },
     "execution_count": 35,
     "metadata": {},
     "output_type": "execute_result"
    }
   ],
   "source": [
    "# Check to make sure we now only have the dates we want\n",
    "aviation_data_cleaned['event_date'].dt.year.value_counts()"
   ]
  },
  {
   "cell_type": "code",
   "execution_count": 36,
   "metadata": {
    "ExecuteTime": {
     "end_time": "2023-04-19T22:56:49.505206Z",
     "start_time": "2023-04-19T22:56:49.491695Z"
    },
    "scrolled": false
   },
   "outputs": [
    {
     "data": {
      "text/plain": [
       "25-09-2020    12704\n",
       "26-09-2020     1079\n",
       "31-03-1993      399\n",
       "25-11-2003      346\n",
       "15-02-2001      325\n",
       "              ...  \n",
       "05-05-1992        1\n",
       "20-05-2022        1\n",
       "13-12-2011        1\n",
       "15-11-1994        1\n",
       "21-08-2022        1\n",
       "Name: publication_date, Length: 1986, dtype: int64"
      ]
     },
     "execution_count": 36,
     "metadata": {},
     "output_type": "execute_result"
    }
   ],
   "source": [
    "aviation_data_cleaned['publication_date'].value_counts()"
   ]
  },
  {
   "cell_type": "markdown",
   "metadata": {
    "ExecuteTime": {
     "end_time": "2023-04-19T23:11:09.100811Z",
     "start_time": "2023-04-19T23:11:09.094521Z"
    }
   },
   "source": [
    "### Investigate the type of investitaion"
   ]
  },
  {
   "cell_type": "code",
   "execution_count": 100,
   "metadata": {
    "ExecuteTime": {
     "end_time": "2023-04-19T23:10:42.412279Z",
     "start_time": "2023-04-19T23:10:42.391672Z"
    }
   },
   "outputs": [
    {
     "data": {
      "text/plain": [
       "Accident      85015\n",
       "Incident       3874\n",
       "25-09-2020      702\n",
       "26-09-2020       60\n",
       "02-02-2021       39\n",
       "              ...  \n",
       "03-11-2020        1\n",
       "31-03-2021        1\n",
       "11-12-2020        1\n",
       "05-08-2022        1\n",
       "06-01-2021        1\n",
       "Name: investigation_type, Length: 71, dtype: int64"
      ]
     },
     "execution_count": 100,
     "metadata": {},
     "output_type": "execute_result"
    }
   ],
   "source": [
    "# Check the value counts\n",
    "aviation_data_cleaned['investigation_type'].value_counts()"
   ]
  },
  {
   "cell_type": "code",
   "execution_count": 37,
   "metadata": {
    "ExecuteTime": {
     "end_time": "2023-04-19T22:56:49.521941Z",
     "start_time": "2023-04-19T22:56:49.507303Z"
    }
   },
   "outputs": [
    {
     "data": {
      "text/plain": [
       "Probable Cause                                                                                                                                                                                                                                                                                                                                                                                                                                                                                                                        1749\n",
       "Foreign                                                                                                                                                                                                                                                                                                                                                                                                                                                                                                                                  4\n",
       "A failure of the nose landing gear end cap due to fatigue. Contributing to the failure were the ineffective inspection and the unknown effect of grain direction on fatigue life.                                                                                                                                                                                                                                                                                                                                                        3\n",
       "The failure of the vertical stabilizer control adapter due to reverse bending fatigue.                                                                                                                                                                                                                                                                                                                                                                                                                                                   2\n",
       "The failure of the nose landing gear due to unanticipated fatigue loads.                                                                                                                                                                                                                                                                                                                                                                                                                                                                 2\n",
       "                                                                                                                                                                                                                                                                                                                                                                                                                                                                                                                                      ... \n",
       "The flight crew's misidentification of the desired landing runway due to excess altitude requiring an extended downwind, and failure to use all available navigation information.                                                                                                                                                                                                                                                                                                                                                        1\n",
       "Maintenance personnel's failure to identify stress corrosion cracking in the stabilator control cable during the most recent inspection, and the subsequent failure of the cable on the flight after the inspection.                                                                                                                                                                                                                                                                                                                     1\n",
       "A mechanical failure of internal components of the right main landing gear door actuator resulting in the flight crew being unable to fully extend the right main landing gear using the normal and alternate procedures.\\r\\n\\r\\nContributing to this incident was a circular reference in the company Flight Manual in which the Landing Gear Gravity Extension checklist referred back to the Landing Gear Unsafe Indication After Extension checklist rather than the Landing Gear - Partial Gear or Gear Up Landing checklist.       1\n",
       "Fatigue failure of the left main wheel assembly on takeoff, which resulted in a loss of directional control and runway excursion.                                                                                                                                                                                                                                                                                                                                                                                                        1\n",
       "The air traffic controller's failure to ensure the runway surface area was clear of vehicles before clearing an aircraft for takeoff. Also causal was the flight crew's decision to initiate a takeoff while the Runway Status Lights (RWSL) Takeoff Hold Lights (THLs) were activated. Contributing to the incident was the lack of a standard procedure for vehicle operators to request runway clearances and resultant \"hear back/read back\" error between the vehicle operator and the air traffic controller.                      1\n",
       "Name: report_status, Length: 412, dtype: int64"
      ]
     },
     "execution_count": 37,
     "metadata": {},
     "output_type": "execute_result"
    }
   ],
   "source": [
    "# Check out what incidents look like\n",
    "aviation_data_cleaned[aviation_data_cleaned['investigation_type']=='Incident']['report_status'].value_counts()"
   ]
  },
  {
   "cell_type": "code",
   "execution_count": 38,
   "metadata": {
    "ExecuteTime": {
     "end_time": "2023-04-19T22:56:49.555677Z",
     "start_time": "2023-04-19T22:56:49.524205Z"
    }
   },
   "outputs": [],
   "source": [
    "# Remove the incidents, only keep accidents\n",
    "aviation_data_cleaned = aviation_data_cleaned[aviation_data_cleaned['investigation_type']=='Accident']"
   ]
  },
  {
   "cell_type": "markdown",
   "metadata": {},
   "source": [
    "## Removing unneeded columns\n",
    "Columns we don't need include:\n",
    "- event_id: we've made the dataset unique on event_id and we don't need the id for joins\n",
    "- accident_number: we already have an event_id and have removed duplicates because of accident_numbers\n",
    "- registration_number: private information not needed for the analysis\n",
    "- publication_date: we don't need to know when the data was published for the analysis\n",
    "- investigation_type: we already filtered to just accidents\n",
    "- report_status: the data is long sentance form and we don't have the ability to parse it"
   ]
  },
  {
   "cell_type": "code",
   "execution_count": 39,
   "metadata": {
    "ExecuteTime": {
     "end_time": "2023-04-19T22:56:49.626776Z",
     "start_time": "2023-04-19T22:56:49.559648Z"
    }
   },
   "outputs": [
    {
     "name": "stdout",
     "output_type": "stream",
     "text": [
      "<class 'pandas.core.frame.DataFrame'>\n",
      "Int64Index: 70848 entries, 7 to 90347\n",
      "Data columns (total 23 columns):\n",
      " #   Column                  Non-Null Count  Dtype         \n",
      "---  ------                  --------------  -----         \n",
      " 0   event_date              70848 non-null  datetime64[ns]\n",
      " 1   location                70838 non-null  object        \n",
      " 2   latitude                27253 non-null  object        \n",
      " 3   longitude               27246 non-null  object        \n",
      " 4   airport_code            41898 non-null  object        \n",
      " 5   airport_name            44097 non-null  object        \n",
      " 6   injury_severity         70798 non-null  object        \n",
      " 7   aircraft_damage         69747 non-null  object        \n",
      " 8   aircraft_category       24000 non-null  object        \n",
      " 9   make                    70848 non-null  object        \n",
      " 10  model                   70842 non-null  object        \n",
      " 11  number_of_engines       69305 non-null  float64       \n",
      " 12  engine_type             68237 non-null  object        \n",
      " 13  far_description         24055 non-null  object        \n",
      " 14  schedule                8373 non-null   object        \n",
      " 15  purpose_of_flight       68999 non-null  object        \n",
      " 16  air_carrier             12244 non-null  object        \n",
      " 17  total_fatal_injuries    61837 non-null  float64       \n",
      " 18  total_serious_injuries  61301 non-null  float64       \n",
      " 19  total_minor_injuries    61864 non-null  float64       \n",
      " 20  total_uninjured         66818 non-null  float64       \n",
      " 21  weather_condition       70310 non-null  object        \n",
      " 22  broad_phase_of_flight   53022 non-null  object        \n",
      "dtypes: datetime64[ns](1), float64(5), object(17)\n",
      "memory usage: 13.0+ MB\n"
     ]
    }
   ],
   "source": [
    "aviation_data_cleaned = aviation_data_cleaned.drop([\n",
    "    'event_id',\n",
    "    'accident_number',\n",
    "    'registration_number',\n",
    "    'publication_date',\n",
    "    'investigation_type',\n",
    "    'report_status'\n",
    "    ], axis=1)\n",
    "aviation_data_cleaned.info()"
   ]
  },
  {
   "cell_type": "markdown",
   "metadata": {},
   "source": [
    "We also want to remove columns with low data coverage"
   ]
  },
  {
   "cell_type": "code",
   "execution_count": 40,
   "metadata": {
    "ExecuteTime": {
     "end_time": "2023-04-19T22:56:49.681809Z",
     "start_time": "2023-04-19T22:56:49.631610Z"
    }
   },
   "outputs": [
    {
     "data": {
      "text/plain": [
       "schedule                  0.881817\n",
       "air_carrier               0.827179\n",
       "aircraft_category         0.661247\n",
       "far_description           0.660470\n",
       "longitude                 0.615430\n",
       "latitude                  0.615331\n",
       "airport_code              0.408621\n",
       "airport_name              0.377583\n",
       "broad_phase_of_flight     0.251609\n",
       "total_serious_injuries    0.134753\n",
       "total_fatal_injuries      0.127188\n",
       "total_minor_injuries      0.126807\n",
       "total_uninjured           0.056882\n",
       "engine_type               0.036854\n",
       "purpose_of_flight         0.026098\n",
       "number_of_engines         0.021779\n",
       "aircraft_damage           0.015540\n",
       "weather_condition         0.007594\n",
       "injury_severity           0.000706\n",
       "location                  0.000141\n",
       "model                     0.000085\n",
       "make                      0.000000\n",
       "event_date                0.000000\n",
       "dtype: float64"
      ]
     },
     "execution_count": 40,
     "metadata": {},
     "output_type": "execute_result"
    }
   ],
   "source": [
    "missing_data = (aviation_data_cleaned.isna().sum() / len(aviation_data_cleaned)).sort_values(ascending=False)\n",
    "missing_data"
   ]
  },
  {
   "cell_type": "markdown",
   "metadata": {},
   "source": [
    "**Observations**\n",
    "- We can likely exclude the columns with significant missing data\n",
    "- We should keep those relevant to our business questions such as `airport_code` and `airport_name`"
   ]
  },
  {
   "cell_type": "code",
   "execution_count": 41,
   "metadata": {
    "ExecuteTime": {
     "end_time": "2023-04-19T22:56:49.690415Z",
     "start_time": "2023-04-19T22:56:49.684438Z"
    }
   },
   "outputs": [
    {
     "data": {
      "text/plain": [
       "['schedule',\n",
       " 'air_carrier',\n",
       " 'aircraft_category',\n",
       " 'far_description',\n",
       " 'longitude',\n",
       " 'latitude']"
      ]
     },
     "execution_count": 41,
     "metadata": {},
     "output_type": "execute_result"
    }
   ],
   "source": [
    "# Pull out columns to drop\n",
    "columns_to_drop = missing_data[missing_data.values > 0.6].index.to_list()\n",
    "columns_to_drop"
   ]
  },
  {
   "cell_type": "code",
   "execution_count": 42,
   "metadata": {
    "ExecuteTime": {
     "end_time": "2023-04-19T22:56:49.743294Z",
     "start_time": "2023-04-19T22:56:49.692363Z"
    }
   },
   "outputs": [
    {
     "name": "stdout",
     "output_type": "stream",
     "text": [
      "<class 'pandas.core.frame.DataFrame'>\n",
      "Int64Index: 70848 entries, 7 to 90347\n",
      "Data columns (total 17 columns):\n",
      " #   Column                  Non-Null Count  Dtype         \n",
      "---  ------                  --------------  -----         \n",
      " 0   event_date              70848 non-null  datetime64[ns]\n",
      " 1   location                70838 non-null  object        \n",
      " 2   airport_code            41898 non-null  object        \n",
      " 3   airport_name            44097 non-null  object        \n",
      " 4   injury_severity         70798 non-null  object        \n",
      " 5   aircraft_damage         69747 non-null  object        \n",
      " 6   make                    70848 non-null  object        \n",
      " 7   model                   70842 non-null  object        \n",
      " 8   number_of_engines       69305 non-null  float64       \n",
      " 9   engine_type             68237 non-null  object        \n",
      " 10  purpose_of_flight       68999 non-null  object        \n",
      " 11  total_fatal_injuries    61837 non-null  float64       \n",
      " 12  total_serious_injuries  61301 non-null  float64       \n",
      " 13  total_minor_injuries    61864 non-null  float64       \n",
      " 14  total_uninjured         66818 non-null  float64       \n",
      " 15  weather_condition       70310 non-null  object        \n",
      " 16  broad_phase_of_flight   53022 non-null  object        \n",
      "dtypes: datetime64[ns](1), float64(5), object(11)\n",
      "memory usage: 9.7+ MB\n"
     ]
    }
   ],
   "source": [
    "aviation_data_cleaned = aviation_data_cleaned.drop(columns_to_drop, axis=1)\n",
    "aviation_data_cleaned.info()"
   ]
  },
  {
   "cell_type": "markdown",
   "metadata": {},
   "source": [
    "## Handling NaNs\n",
    "- Look through each column and decide how to handle NaN values\n"
   ]
  },
  {
   "cell_type": "code",
   "execution_count": 43,
   "metadata": {
    "ExecuteTime": {
     "end_time": "2023-04-19T22:56:49.772487Z",
     "start_time": "2023-04-19T22:56:49.747628Z"
    },
    "scrolled": true
   },
   "outputs": [
    {
     "data": {
      "text/html": [
       "<div>\n",
       "<style scoped>\n",
       "    .dataframe tbody tr th:only-of-type {\n",
       "        vertical-align: middle;\n",
       "    }\n",
       "\n",
       "    .dataframe tbody tr th {\n",
       "        vertical-align: top;\n",
       "    }\n",
       "\n",
       "    .dataframe thead th {\n",
       "        text-align: right;\n",
       "    }\n",
       "</style>\n",
       "<table border=\"1\" class=\"dataframe\">\n",
       "  <thead>\n",
       "    <tr style=\"text-align: right;\">\n",
       "      <th></th>\n",
       "      <th>event_date</th>\n",
       "      <th>location</th>\n",
       "      <th>airport_code</th>\n",
       "      <th>airport_name</th>\n",
       "      <th>injury_severity</th>\n",
       "      <th>aircraft_damage</th>\n",
       "      <th>make</th>\n",
       "      <th>model</th>\n",
       "      <th>number_of_engines</th>\n",
       "      <th>engine_type</th>\n",
       "      <th>purpose_of_flight</th>\n",
       "      <th>total_fatal_injuries</th>\n",
       "      <th>total_serious_injuries</th>\n",
       "      <th>total_minor_injuries</th>\n",
       "      <th>total_uninjured</th>\n",
       "      <th>weather_condition</th>\n",
       "      <th>broad_phase_of_flight</th>\n",
       "    </tr>\n",
       "  </thead>\n",
       "  <tbody>\n",
       "    <tr>\n",
       "      <th>7</th>\n",
       "      <td>1982-01-01</td>\n",
       "      <td>PULLMAN, WA</td>\n",
       "      <td>NaN</td>\n",
       "      <td>BLACKBURN AG STRIP</td>\n",
       "      <td>Non-Fatal</td>\n",
       "      <td>Substantial</td>\n",
       "      <td>Cessna</td>\n",
       "      <td>140</td>\n",
       "      <td>1.0</td>\n",
       "      <td>Reciprocating</td>\n",
       "      <td>Personal</td>\n",
       "      <td>0.0</td>\n",
       "      <td>0.0</td>\n",
       "      <td>0.0</td>\n",
       "      <td>2.0</td>\n",
       "      <td>VMC</td>\n",
       "      <td>Takeoff</td>\n",
       "    </tr>\n",
       "    <tr>\n",
       "      <th>8</th>\n",
       "      <td>1982-01-01</td>\n",
       "      <td>EAST HANOVER, NJ</td>\n",
       "      <td>N58</td>\n",
       "      <td>HANOVER</td>\n",
       "      <td>Non-Fatal</td>\n",
       "      <td>Substantial</td>\n",
       "      <td>Cessna</td>\n",
       "      <td>401B</td>\n",
       "      <td>2.0</td>\n",
       "      <td>Reciprocating</td>\n",
       "      <td>Business</td>\n",
       "      <td>0.0</td>\n",
       "      <td>0.0</td>\n",
       "      <td>0.0</td>\n",
       "      <td>2.0</td>\n",
       "      <td>IMC</td>\n",
       "      <td>Landing</td>\n",
       "    </tr>\n",
       "    <tr>\n",
       "      <th>9</th>\n",
       "      <td>1982-01-01</td>\n",
       "      <td>JACKSONVILLE, FL</td>\n",
       "      <td>JAX</td>\n",
       "      <td>JACKSONVILLE INTL</td>\n",
       "      <td>Non-Fatal</td>\n",
       "      <td>Substantial</td>\n",
       "      <td>North American</td>\n",
       "      <td>NAVION L-17B</td>\n",
       "      <td>1.0</td>\n",
       "      <td>Reciprocating</td>\n",
       "      <td>Personal</td>\n",
       "      <td>0.0</td>\n",
       "      <td>0.0</td>\n",
       "      <td>3.0</td>\n",
       "      <td>0.0</td>\n",
       "      <td>IMC</td>\n",
       "      <td>Cruise</td>\n",
       "    </tr>\n",
       "    <tr>\n",
       "      <th>10</th>\n",
       "      <td>1982-01-01</td>\n",
       "      <td>HOBBS, NM</td>\n",
       "      <td>NaN</td>\n",
       "      <td>NaN</td>\n",
       "      <td>Non-Fatal</td>\n",
       "      <td>Substantial</td>\n",
       "      <td>Piper</td>\n",
       "      <td>PA-28-161</td>\n",
       "      <td>1.0</td>\n",
       "      <td>Reciprocating</td>\n",
       "      <td>Personal</td>\n",
       "      <td>0.0</td>\n",
       "      <td>0.0</td>\n",
       "      <td>0.0</td>\n",
       "      <td>1.0</td>\n",
       "      <td>VMC</td>\n",
       "      <td>Approach</td>\n",
       "    </tr>\n",
       "    <tr>\n",
       "      <th>11</th>\n",
       "      <td>1982-01-01</td>\n",
       "      <td>TUSKEGEE, AL</td>\n",
       "      <td>NaN</td>\n",
       "      <td>TUSKEGEE</td>\n",
       "      <td>Non-Fatal</td>\n",
       "      <td>Substantial</td>\n",
       "      <td>Beech</td>\n",
       "      <td>V35B</td>\n",
       "      <td>1.0</td>\n",
       "      <td>Reciprocating</td>\n",
       "      <td>Personal</td>\n",
       "      <td>0.0</td>\n",
       "      <td>0.0</td>\n",
       "      <td>0.0</td>\n",
       "      <td>1.0</td>\n",
       "      <td>VMC</td>\n",
       "      <td>Landing</td>\n",
       "    </tr>\n",
       "  </tbody>\n",
       "</table>\n",
       "</div>"
      ],
      "text/plain": [
       "   event_date          location airport_code        airport_name  \\\n",
       "7  1982-01-01       PULLMAN, WA          NaN  BLACKBURN AG STRIP   \n",
       "8  1982-01-01  EAST HANOVER, NJ          N58             HANOVER   \n",
       "9  1982-01-01  JACKSONVILLE, FL          JAX   JACKSONVILLE INTL   \n",
       "10 1982-01-01         HOBBS, NM          NaN                 NaN   \n",
       "11 1982-01-01      TUSKEGEE, AL          NaN            TUSKEGEE   \n",
       "\n",
       "   injury_severity aircraft_damage            make         model  \\\n",
       "7        Non-Fatal     Substantial          Cessna           140   \n",
       "8        Non-Fatal     Substantial          Cessna          401B   \n",
       "9        Non-Fatal     Substantial  North American  NAVION L-17B   \n",
       "10       Non-Fatal     Substantial           Piper     PA-28-161   \n",
       "11       Non-Fatal     Substantial           Beech          V35B   \n",
       "\n",
       "    number_of_engines    engine_type purpose_of_flight  total_fatal_injuries  \\\n",
       "7                 1.0  Reciprocating          Personal                   0.0   \n",
       "8                 2.0  Reciprocating          Business                   0.0   \n",
       "9                 1.0  Reciprocating          Personal                   0.0   \n",
       "10                1.0  Reciprocating          Personal                   0.0   \n",
       "11                1.0  Reciprocating          Personal                   0.0   \n",
       "\n",
       "    total_serious_injuries  total_minor_injuries  total_uninjured  \\\n",
       "7                      0.0                   0.0              2.0   \n",
       "8                      0.0                   0.0              2.0   \n",
       "9                      0.0                   3.0              0.0   \n",
       "10                     0.0                   0.0              1.0   \n",
       "11                     0.0                   0.0              1.0   \n",
       "\n",
       "   weather_condition broad_phase_of_flight  \n",
       "7                VMC               Takeoff  \n",
       "8                IMC               Landing  \n",
       "9                IMC                Cruise  \n",
       "10               VMC              Approach  \n",
       "11               VMC               Landing  "
      ]
     },
     "execution_count": 43,
     "metadata": {},
     "output_type": "execute_result"
    }
   ],
   "source": [
    "# Check out the data again\n",
    "aviation_data_cleaned.head()"
   ]
  },
  {
   "cell_type": "code",
   "execution_count": 44,
   "metadata": {
    "ExecuteTime": {
     "end_time": "2023-04-19T22:56:49.932752Z",
     "start_time": "2023-04-19T22:56:49.874579Z"
    },
    "scrolled": false
   },
   "outputs": [
    {
     "data": {
      "text/plain": [
       "event_date                    0\n",
       "location                     10\n",
       "airport_code              28950\n",
       "airport_name              26751\n",
       "injury_severity              50\n",
       "aircraft_damage            1101\n",
       "make                          0\n",
       "model                         6\n",
       "number_of_engines          1543\n",
       "engine_type                2611\n",
       "purpose_of_flight          1849\n",
       "total_fatal_injuries       9011\n",
       "total_serious_injuries     9547\n",
       "total_minor_injuries       8984\n",
       "total_uninjured            4030\n",
       "weather_condition           538\n",
       "broad_phase_of_flight     17826\n",
       "dtype: int64"
      ]
     },
     "execution_count": 44,
     "metadata": {},
     "output_type": "execute_result"
    }
   ],
   "source": [
    "# Explore the number of nulls\n",
    "aviation_data_cleaned.isna().sum()"
   ]
  },
  {
   "cell_type": "markdown",
   "metadata": {
    "ExecuteTime": {
     "end_time": "2023-04-18T15:13:40.111839Z",
     "start_time": "2023-04-18T15:13:40.103688Z"
    }
   },
   "source": [
    "### location"
   ]
  },
  {
   "cell_type": "code",
   "execution_count": 45,
   "metadata": {
    "ExecuteTime": {
     "end_time": "2023-04-19T22:56:49.946077Z",
     "start_time": "2023-04-19T22:56:49.936244Z"
    },
    "scrolled": true
   },
   "outputs": [
    {
     "data": {
      "text/plain": [
       "7          PULLMAN, WA\n",
       "8     EAST HANOVER, NJ\n",
       "9     JACKSONVILLE, FL\n",
       "10           HOBBS, NM\n",
       "11        TUSKEGEE, AL\n",
       "Name: location, dtype: object"
      ]
     },
     "execution_count": 45,
     "metadata": {},
     "output_type": "execute_result"
    }
   ],
   "source": [
    "# Check data\n",
    "aviation_data_cleaned['location'].head()"
   ]
  },
  {
   "cell_type": "markdown",
   "metadata": {},
   "source": [
    "There are only 10 events with missing location data which is a crucial piece of of information so we can drop them"
   ]
  },
  {
   "cell_type": "code",
   "execution_count": 46,
   "metadata": {
    "ExecuteTime": {
     "end_time": "2023-04-19T22:56:49.965140Z",
     "start_time": "2023-04-19T22:56:49.948798Z"
    }
   },
   "outputs": [],
   "source": [
    "# Check data\n",
    "aviation_data_cleaned = aviation_data_cleaned[aviation_data_cleaned['location'].notna()]"
   ]
  },
  {
   "cell_type": "code",
   "execution_count": 47,
   "metadata": {
    "ExecuteTime": {
     "end_time": "2023-04-19T22:56:49.976587Z",
     "start_time": "2023-04-19T22:56:49.969093Z"
    }
   },
   "outputs": [
    {
     "data": {
      "text/plain": [
       "0"
      ]
     },
     "execution_count": 47,
     "metadata": {},
     "output_type": "execute_result"
    }
   ],
   "source": [
    "# Check to confirm we dropped nulles\n",
    "aviation_data_cleaned['location'].isna().sum()"
   ]
  },
  {
   "cell_type": "markdown",
   "metadata": {
    "ExecuteTime": {
     "end_time": "2023-04-18T15:16:53.916379Z",
     "start_time": "2023-04-18T15:16:53.890684Z"
    }
   },
   "source": [
    "### Airport Code"
   ]
  },
  {
   "cell_type": "code",
   "execution_count": 48,
   "metadata": {
    "ExecuteTime": {
     "end_time": "2023-04-19T22:56:49.993175Z",
     "start_time": "2023-04-19T22:56:49.983286Z"
    }
   },
   "outputs": [
    {
     "data": {
      "text/html": [
       "<div>\n",
       "<style scoped>\n",
       "    .dataframe tbody tr th:only-of-type {\n",
       "        vertical-align: middle;\n",
       "    }\n",
       "\n",
       "    .dataframe tbody tr th {\n",
       "        vertical-align: top;\n",
       "    }\n",
       "\n",
       "    .dataframe thead th {\n",
       "        text-align: right;\n",
       "    }\n",
       "</style>\n",
       "<table border=\"1\" class=\"dataframe\">\n",
       "  <thead>\n",
       "    <tr style=\"text-align: right;\">\n",
       "      <th></th>\n",
       "      <th>airport_code</th>\n",
       "      <th>airport_name</th>\n",
       "    </tr>\n",
       "  </thead>\n",
       "  <tbody>\n",
       "    <tr>\n",
       "      <th>7</th>\n",
       "      <td>NaN</td>\n",
       "      <td>BLACKBURN AG STRIP</td>\n",
       "    </tr>\n",
       "    <tr>\n",
       "      <th>8</th>\n",
       "      <td>N58</td>\n",
       "      <td>HANOVER</td>\n",
       "    </tr>\n",
       "    <tr>\n",
       "      <th>9</th>\n",
       "      <td>JAX</td>\n",
       "      <td>JACKSONVILLE INTL</td>\n",
       "    </tr>\n",
       "    <tr>\n",
       "      <th>10</th>\n",
       "      <td>NaN</td>\n",
       "      <td>NaN</td>\n",
       "    </tr>\n",
       "    <tr>\n",
       "      <th>11</th>\n",
       "      <td>NaN</td>\n",
       "      <td>TUSKEGEE</td>\n",
       "    </tr>\n",
       "  </tbody>\n",
       "</table>\n",
       "</div>"
      ],
      "text/plain": [
       "   airport_code        airport_name\n",
       "7           NaN  BLACKBURN AG STRIP\n",
       "8           N58             HANOVER\n",
       "9           JAX   JACKSONVILLE INTL\n",
       "10          NaN                 NaN\n",
       "11          NaN            TUSKEGEE"
      ]
     },
     "execution_count": 48,
     "metadata": {},
     "output_type": "execute_result"
    }
   ],
   "source": [
    "# Check data\n",
    "aviation_data_cleaned[['airport_code', 'airport_name']].head()"
   ]
  },
  {
   "cell_type": "markdown",
   "metadata": {},
   "source": [
    "We have 30k missing airport codes and names, so we can replace missing with unknown"
   ]
  },
  {
   "cell_type": "code",
   "execution_count": 49,
   "metadata": {
    "ExecuteTime": {
     "end_time": "2023-04-19T22:56:50.020368Z",
     "start_time": "2023-04-19T22:56:49.997576Z"
    }
   },
   "outputs": [],
   "source": [
    "# Replace missing airport data with unknowns\n",
    "aviation_data_cleaned[['airport_code', 'airport_name']] = aviation_data_cleaned[['airport_code', 'airport_name']].fillna('Unknown')"
   ]
  },
  {
   "cell_type": "code",
   "execution_count": 50,
   "metadata": {
    "ExecuteTime": {
     "end_time": "2023-04-19T22:56:50.033744Z",
     "start_time": "2023-04-19T22:56:50.022384Z"
    },
    "scrolled": true
   },
   "outputs": [
    {
     "data": {
      "text/html": [
       "<div>\n",
       "<style scoped>\n",
       "    .dataframe tbody tr th:only-of-type {\n",
       "        vertical-align: middle;\n",
       "    }\n",
       "\n",
       "    .dataframe tbody tr th {\n",
       "        vertical-align: top;\n",
       "    }\n",
       "\n",
       "    .dataframe thead th {\n",
       "        text-align: right;\n",
       "    }\n",
       "</style>\n",
       "<table border=\"1\" class=\"dataframe\">\n",
       "  <thead>\n",
       "    <tr style=\"text-align: right;\">\n",
       "      <th></th>\n",
       "      <th>airport_code</th>\n",
       "      <th>airport_name</th>\n",
       "    </tr>\n",
       "  </thead>\n",
       "  <tbody>\n",
       "    <tr>\n",
       "      <th>7</th>\n",
       "      <td>Unknown</td>\n",
       "      <td>BLACKBURN AG STRIP</td>\n",
       "    </tr>\n",
       "    <tr>\n",
       "      <th>8</th>\n",
       "      <td>N58</td>\n",
       "      <td>HANOVER</td>\n",
       "    </tr>\n",
       "    <tr>\n",
       "      <th>9</th>\n",
       "      <td>JAX</td>\n",
       "      <td>JACKSONVILLE INTL</td>\n",
       "    </tr>\n",
       "    <tr>\n",
       "      <th>10</th>\n",
       "      <td>Unknown</td>\n",
       "      <td>Unknown</td>\n",
       "    </tr>\n",
       "    <tr>\n",
       "      <th>11</th>\n",
       "      <td>Unknown</td>\n",
       "      <td>TUSKEGEE</td>\n",
       "    </tr>\n",
       "  </tbody>\n",
       "</table>\n",
       "</div>"
      ],
      "text/plain": [
       "   airport_code        airport_name\n",
       "7       Unknown  BLACKBURN AG STRIP\n",
       "8           N58             HANOVER\n",
       "9           JAX   JACKSONVILLE INTL\n",
       "10      Unknown             Unknown\n",
       "11      Unknown            TUSKEGEE"
      ]
     },
     "execution_count": 50,
     "metadata": {},
     "output_type": "execute_result"
    }
   ],
   "source": [
    "# Check dataset to make sure NaNs were removed\n",
    "aviation_data_cleaned[['airport_code', 'airport_name']].head()"
   ]
  },
  {
   "cell_type": "markdown",
   "metadata": {},
   "source": [
    "### Handling injuries"
   ]
  },
  {
   "cell_type": "code",
   "execution_count": 51,
   "metadata": {
    "ExecuteTime": {
     "end_time": "2023-04-19T22:56:50.050551Z",
     "start_time": "2023-04-19T22:56:50.038337Z"
    }
   },
   "outputs": [
    {
     "data": {
      "text/plain": [
       "injury_severity             50\n",
       "total_fatal_injuries      9008\n",
       "total_serious_injuries    9542\n",
       "total_minor_injuries      8978\n",
       "total_uninjured           4027\n",
       "dtype: int64"
      ]
     },
     "execution_count": 51,
     "metadata": {},
     "output_type": "execute_result"
    }
   ],
   "source": [
    "# Check out the number of missing data for injury data\n",
    "aviation_data_cleaned[[\n",
    "    'injury_severity', \n",
    "    'total_fatal_injuries', \n",
    "    'total_serious_injuries',\n",
    "    'total_minor_injuries',\n",
    "    'total_uninjured'\n",
    "]].isna().sum()"
   ]
  },
  {
   "cell_type": "code",
   "execution_count": 52,
   "metadata": {
    "ExecuteTime": {
     "end_time": "2023-04-19T22:56:50.063468Z",
     "start_time": "2023-04-19T22:56:50.053730Z"
    },
    "scrolled": true
   },
   "outputs": [
    {
     "data": {
      "text/plain": [
       "31605"
      ]
     },
     "execution_count": 52,
     "metadata": {},
     "output_type": "execute_result"
    }
   ],
   "source": [
    "# Check to see if the missing data overlaps\n",
    "aviation_data_cleaned[[\n",
    "    'injury_severity', \n",
    "    'total_fatal_injuries', \n",
    "    'total_serious_injuries',\n",
    "    'total_minor_injuries',\n",
    "    'total_uninjured'\n",
    "]].isna().sum(axis=1).sum()"
   ]
  },
  {
   "cell_type": "markdown",
   "metadata": {},
   "source": [
    "We have 30k rows with at least one injury column being missing. Thus we can't just drop them all.\n",
    "\n",
    "The total columns are numerical so replacing the values will require investigation"
   ]
  },
  {
   "cell_type": "markdown",
   "metadata": {
    "ExecuteTime": {
     "end_time": "2023-04-18T15:32:20.903494Z",
     "start_time": "2023-04-18T15:32:20.885448Z"
    }
   },
   "source": [
    "**Injury Severity**"
   ]
  },
  {
   "cell_type": "code",
   "execution_count": 53,
   "metadata": {
    "ExecuteTime": {
     "end_time": "2023-04-19T22:56:50.086628Z",
     "start_time": "2023-04-19T22:56:50.065766Z"
    },
    "scrolled": false
   },
   "outputs": [],
   "source": [
    "# We can drop these rows since there's only 15\n",
    "aviation_data_cleaned.dropna(subset=['injury_severity'], inplace=True)"
   ]
  },
  {
   "cell_type": "code",
   "execution_count": 54,
   "metadata": {
    "ExecuteTime": {
     "end_time": "2023-04-19T22:56:50.102520Z",
     "start_time": "2023-04-19T22:56:50.088629Z"
    }
   },
   "outputs": [
    {
     "data": {
      "text/plain": [
       "injury_severity              0\n",
       "total_fatal_injuries      9008\n",
       "total_serious_injuries    9542\n",
       "total_minor_injuries      8978\n",
       "total_uninjured           4027\n",
       "dtype: int64"
      ]
     },
     "execution_count": 54,
     "metadata": {},
     "output_type": "execute_result"
    }
   ],
   "source": [
    "aviation_data_cleaned[[\n",
    "    'injury_severity', \n",
    "    'total_fatal_injuries', \n",
    "    'total_serious_injuries',\n",
    "    'total_minor_injuries',\n",
    "    'total_uninjured'\n",
    "]].isna().sum()"
   ]
  },
  {
   "cell_type": "markdown",
   "metadata": {},
   "source": [
    "**Handling the Totals**"
   ]
  },
  {
   "cell_type": "code",
   "execution_count": 55,
   "metadata": {
    "ExecuteTime": {
     "end_time": "2023-04-19T22:56:50.135926Z",
     "start_time": "2023-04-19T22:56:50.105798Z"
    },
    "scrolled": true
   },
   "outputs": [
    {
     "data": {
      "text/html": [
       "<div>\n",
       "<style scoped>\n",
       "    .dataframe tbody tr th:only-of-type {\n",
       "        vertical-align: middle;\n",
       "    }\n",
       "\n",
       "    .dataframe tbody tr th {\n",
       "        vertical-align: top;\n",
       "    }\n",
       "\n",
       "    .dataframe thead th {\n",
       "        text-align: right;\n",
       "    }\n",
       "</style>\n",
       "<table border=\"1\" class=\"dataframe\">\n",
       "  <thead>\n",
       "    <tr style=\"text-align: right;\">\n",
       "      <th></th>\n",
       "      <th>total_fatal_injuries</th>\n",
       "      <th>total_serious_injuries</th>\n",
       "      <th>total_minor_injuries</th>\n",
       "      <th>total_uninjured</th>\n",
       "    </tr>\n",
       "  </thead>\n",
       "  <tbody>\n",
       "    <tr>\n",
       "      <th>count</th>\n",
       "      <td>61780.000000</td>\n",
       "      <td>61246.000000</td>\n",
       "      <td>61810.000000</td>\n",
       "      <td>66761.000000</td>\n",
       "    </tr>\n",
       "    <tr>\n",
       "      <th>mean</th>\n",
       "      <td>0.427031</td>\n",
       "      <td>0.261144</td>\n",
       "      <td>0.338893</td>\n",
       "      <td>2.879615</td>\n",
       "    </tr>\n",
       "    <tr>\n",
       "      <th>std</th>\n",
       "      <td>2.573864</td>\n",
       "      <td>1.153832</td>\n",
       "      <td>1.327737</td>\n",
       "      <td>17.011328</td>\n",
       "    </tr>\n",
       "    <tr>\n",
       "      <th>min</th>\n",
       "      <td>0.000000</td>\n",
       "      <td>0.000000</td>\n",
       "      <td>0.000000</td>\n",
       "      <td>0.000000</td>\n",
       "    </tr>\n",
       "    <tr>\n",
       "      <th>25%</th>\n",
       "      <td>0.000000</td>\n",
       "      <td>0.000000</td>\n",
       "      <td>0.000000</td>\n",
       "      <td>0.000000</td>\n",
       "    </tr>\n",
       "    <tr>\n",
       "      <th>50%</th>\n",
       "      <td>0.000000</td>\n",
       "      <td>0.000000</td>\n",
       "      <td>0.000000</td>\n",
       "      <td>1.000000</td>\n",
       "    </tr>\n",
       "    <tr>\n",
       "      <th>75%</th>\n",
       "      <td>0.000000</td>\n",
       "      <td>0.000000</td>\n",
       "      <td>0.000000</td>\n",
       "      <td>2.000000</td>\n",
       "    </tr>\n",
       "    <tr>\n",
       "      <th>max</th>\n",
       "      <td>265.000000</td>\n",
       "      <td>137.000000</td>\n",
       "      <td>125.000000</td>\n",
       "      <td>699.000000</td>\n",
       "    </tr>\n",
       "  </tbody>\n",
       "</table>\n",
       "</div>"
      ],
      "text/plain": [
       "       total_fatal_injuries  total_serious_injuries  total_minor_injuries  \\\n",
       "count          61780.000000            61246.000000          61810.000000   \n",
       "mean               0.427031                0.261144              0.338893   \n",
       "std                2.573864                1.153832              1.327737   \n",
       "min                0.000000                0.000000              0.000000   \n",
       "25%                0.000000                0.000000              0.000000   \n",
       "50%                0.000000                0.000000              0.000000   \n",
       "75%                0.000000                0.000000              0.000000   \n",
       "max              265.000000              137.000000            125.000000   \n",
       "\n",
       "       total_uninjured  \n",
       "count     66761.000000  \n",
       "mean          2.879615  \n",
       "std          17.011328  \n",
       "min           0.000000  \n",
       "25%           0.000000  \n",
       "50%           1.000000  \n",
       "75%           2.000000  \n",
       "max         699.000000  "
      ]
     },
     "execution_count": 55,
     "metadata": {},
     "output_type": "execute_result"
    }
   ],
   "source": [
    "aviation_data_cleaned[[\n",
    "    'total_fatal_injuries', \n",
    "    'total_serious_injuries',\n",
    "    'total_minor_injuries',\n",
    "    'total_uninjured'\n",
    "]].describe()"
   ]
  },
  {
   "cell_type": "markdown",
   "metadata": {
    "ExecuteTime": {
     "end_time": "2023-04-18T15:42:58.137049Z",
     "start_time": "2023-04-18T15:42:58.126996Z"
    }
   },
   "source": [
    "**Observations**\n",
    "- We have significant outliers so we can't replace missing with means\n",
    "- We want all the data, uninjured can be used to figure out the deadliness of the crash\n",
    "- min, 25%, 50%, and 75% are 0 for all but uninjured\n",
    "\n",
    "Conclusion: \n",
    "- Replace missing injury records with 0 since most seem to be 0\n",
    "- Replace missing uninjured counts with the median since we don't know the number of passengers"
   ]
  },
  {
   "cell_type": "code",
   "execution_count": 56,
   "metadata": {
    "ExecuteTime": {
     "end_time": "2023-04-19T22:56:50.145710Z",
     "start_time": "2023-04-19T22:56:50.139493Z"
    }
   },
   "outputs": [],
   "source": [
    "# Replace total uninjured with median\n",
    "total_uninjured_median = aviation_data_cleaned['total_uninjured'].median()\n",
    "aviation_data_cleaned['total_uninjured'].fillna(value=total_uninjured_median, inplace=True)"
   ]
  },
  {
   "cell_type": "code",
   "execution_count": 57,
   "metadata": {
    "ExecuteTime": {
     "end_time": "2023-04-19T22:56:50.153433Z",
     "start_time": "2023-04-19T22:56:50.148339Z"
    }
   },
   "outputs": [],
   "source": [
    "# Assume missing injury data had 0 in column\n",
    "aviation_data_cleaned['total_fatal_injuries'].fillna(value=0, inplace=True)\n",
    "aviation_data_cleaned['total_serious_injuries'].fillna(value=0, inplace=True)\n",
    "aviation_data_cleaned['total_minor_injuries'].fillna(value=0, inplace=True)"
   ]
  },
  {
   "cell_type": "code",
   "execution_count": 58,
   "metadata": {
    "ExecuteTime": {
     "end_time": "2023-04-19T22:56:50.165563Z",
     "start_time": "2023-04-19T22:56:50.155429Z"
    },
    "scrolled": true
   },
   "outputs": [
    {
     "data": {
      "text/plain": [
       "injury_severity           0\n",
       "total_fatal_injuries      0\n",
       "total_serious_injuries    0\n",
       "total_minor_injuries      0\n",
       "total_uninjured           0\n",
       "dtype: int64"
      ]
     },
     "execution_count": 58,
     "metadata": {},
     "output_type": "execute_result"
    }
   ],
   "source": [
    "# Check to make sure NaNs were removed\n",
    "aviation_data_cleaned[[\n",
    "    'injury_severity', \n",
    "    'total_fatal_injuries', \n",
    "    'total_serious_injuries',\n",
    "    'total_minor_injuries',\n",
    "    'total_uninjured'\n",
    "]].isna().sum()"
   ]
  },
  {
   "cell_type": "code",
   "execution_count": 59,
   "metadata": {
    "ExecuteTime": {
     "end_time": "2023-04-19T22:56:50.204281Z",
     "start_time": "2023-04-19T22:56:50.170127Z"
    }
   },
   "outputs": [
    {
     "data": {
      "text/plain": [
       "event_date                    0\n",
       "location                      0\n",
       "airport_code                  0\n",
       "airport_name                  0\n",
       "injury_severity               0\n",
       "aircraft_damage            1082\n",
       "make                          0\n",
       "model                         6\n",
       "number_of_engines          1521\n",
       "engine_type                2579\n",
       "purpose_of_flight          1814\n",
       "total_fatal_injuries          0\n",
       "total_serious_injuries        0\n",
       "total_minor_injuries          0\n",
       "total_uninjured               0\n",
       "weather_condition           514\n",
       "broad_phase_of_flight     17776\n",
       "dtype: int64"
      ]
     },
     "execution_count": 59,
     "metadata": {},
     "output_type": "execute_result"
    }
   ],
   "source": [
    "# Explore the number of nulls\n",
    "aviation_data_cleaned.isna().sum()"
   ]
  },
  {
   "cell_type": "markdown",
   "metadata": {},
   "source": [
    "### Replacing categorical data with unknown\n",
    "There is some categorical data we will want to replace with unknown:\n",
    "- aircraft_damage\n",
    "- make\n",
    "- model\n",
    "- purpose_of_flight\n",
    "- weather_condition\n",
    "- broad_phase_of_flight"
   ]
  },
  {
   "cell_type": "code",
   "execution_count": 60,
   "metadata": {
    "ExecuteTime": {
     "end_time": "2023-04-19T22:56:50.230235Z",
     "start_time": "2023-04-19T22:56:50.206453Z"
    }
   },
   "outputs": [],
   "source": [
    "# Replace NaNs in these columns with unknowns\n",
    "aviation_data_cleaned['aircraft_damage'].fillna(value='Unknown', inplace=True)\n",
    "aviation_data_cleaned['make'].fillna(value='Unknown', inplace=True)\n",
    "aviation_data_cleaned['model'].fillna(value='Unknown', inplace=True)\n",
    "aviation_data_cleaned['purpose_of_flight'].fillna(value='Unknown', inplace=True)\n",
    "aviation_data_cleaned['weather_condition'].fillna(value='Unknown', inplace=True)\n",
    "aviation_data_cleaned['broad_phase_of_flight'].fillna(value='Unknown', inplace=True)"
   ]
  },
  {
   "cell_type": "code",
   "execution_count": 61,
   "metadata": {
    "ExecuteTime": {
     "end_time": "2023-04-19T22:56:50.267109Z",
     "start_time": "2023-04-19T22:56:50.232785Z"
    },
    "scrolled": false
   },
   "outputs": [
    {
     "data": {
      "text/plain": [
       "event_date                   0\n",
       "location                     0\n",
       "airport_code                 0\n",
       "airport_name                 0\n",
       "injury_severity              0\n",
       "aircraft_damage              0\n",
       "make                         0\n",
       "model                        0\n",
       "number_of_engines         1521\n",
       "engine_type               2579\n",
       "purpose_of_flight            0\n",
       "total_fatal_injuries         0\n",
       "total_serious_injuries       0\n",
       "total_minor_injuries         0\n",
       "total_uninjured              0\n",
       "weather_condition            0\n",
       "broad_phase_of_flight        0\n",
       "dtype: int64"
      ]
     },
     "execution_count": 61,
     "metadata": {},
     "output_type": "execute_result"
    }
   ],
   "source": [
    "# Explore the number of nulls\n",
    "aviation_data_cleaned.isna().sum()"
   ]
  },
  {
   "cell_type": "code",
   "execution_count": 62,
   "metadata": {
    "ExecuteTime": {
     "end_time": "2023-04-19T22:56:50.296554Z",
     "start_time": "2023-04-19T22:56:50.270750Z"
    }
   },
   "outputs": [
    {
     "data": {
      "text/html": [
       "<div>\n",
       "<style scoped>\n",
       "    .dataframe tbody tr th:only-of-type {\n",
       "        vertical-align: middle;\n",
       "    }\n",
       "\n",
       "    .dataframe tbody tr th {\n",
       "        vertical-align: top;\n",
       "    }\n",
       "\n",
       "    .dataframe thead th {\n",
       "        text-align: right;\n",
       "    }\n",
       "</style>\n",
       "<table border=\"1\" class=\"dataframe\">\n",
       "  <thead>\n",
       "    <tr style=\"text-align: right;\">\n",
       "      <th></th>\n",
       "      <th>event_date</th>\n",
       "      <th>location</th>\n",
       "      <th>airport_code</th>\n",
       "      <th>airport_name</th>\n",
       "      <th>injury_severity</th>\n",
       "      <th>aircraft_damage</th>\n",
       "      <th>make</th>\n",
       "      <th>model</th>\n",
       "      <th>number_of_engines</th>\n",
       "      <th>engine_type</th>\n",
       "      <th>purpose_of_flight</th>\n",
       "      <th>total_fatal_injuries</th>\n",
       "      <th>total_serious_injuries</th>\n",
       "      <th>total_minor_injuries</th>\n",
       "      <th>total_uninjured</th>\n",
       "      <th>weather_condition</th>\n",
       "      <th>broad_phase_of_flight</th>\n",
       "    </tr>\n",
       "  </thead>\n",
       "  <tbody>\n",
       "    <tr>\n",
       "      <th>3600</th>\n",
       "      <td>1983-01-01</td>\n",
       "      <td>ARROYO GRANDE, CA</td>\n",
       "      <td>Unknown</td>\n",
       "      <td>Unknown</td>\n",
       "      <td>Non-Fatal</td>\n",
       "      <td>Unknown</td>\n",
       "      <td>Piccard</td>\n",
       "      <td>AX-6</td>\n",
       "      <td>NaN</td>\n",
       "      <td>Unknown</td>\n",
       "      <td>Personal</td>\n",
       "      <td>0.0</td>\n",
       "      <td>1.0</td>\n",
       "      <td>0.0</td>\n",
       "      <td>1.0</td>\n",
       "      <td>VMC</td>\n",
       "      <td>Landing</td>\n",
       "    </tr>\n",
       "    <tr>\n",
       "      <th>3741</th>\n",
       "      <td>1983-01-22</td>\n",
       "      <td>NORTH SHORE, CA</td>\n",
       "      <td>Unknown</td>\n",
       "      <td>DESERT AIR SKY RANCH</td>\n",
       "      <td>Non-Fatal</td>\n",
       "      <td>Substantial</td>\n",
       "      <td>Schweizer</td>\n",
       "      <td>2-33A</td>\n",
       "      <td>NaN</td>\n",
       "      <td>Unknown</td>\n",
       "      <td>Instructional</td>\n",
       "      <td>0.0</td>\n",
       "      <td>1.0</td>\n",
       "      <td>0.0</td>\n",
       "      <td>0.0</td>\n",
       "      <td>VMC</td>\n",
       "      <td>Takeoff</td>\n",
       "    </tr>\n",
       "    <tr>\n",
       "      <th>3772</th>\n",
       "      <td>1983-01-29</td>\n",
       "      <td>HEMPSTEAD, TX</td>\n",
       "      <td>35R</td>\n",
       "      <td>HEMPSTEAD</td>\n",
       "      <td>Fatal(1)</td>\n",
       "      <td>Destroyed</td>\n",
       "      <td>Schweizer</td>\n",
       "      <td>SGS 1-26B</td>\n",
       "      <td>NaN</td>\n",
       "      <td>Unknown</td>\n",
       "      <td>Instructional</td>\n",
       "      <td>1.0</td>\n",
       "      <td>0.0</td>\n",
       "      <td>0.0</td>\n",
       "      <td>0.0</td>\n",
       "      <td>VMC</td>\n",
       "      <td>Approach</td>\n",
       "    </tr>\n",
       "    <tr>\n",
       "      <th>3870</th>\n",
       "      <td>1983-02-12</td>\n",
       "      <td>LITTLEFIELD, TX</td>\n",
       "      <td>Q00</td>\n",
       "      <td>LITTLEFIELD</td>\n",
       "      <td>Non-Fatal</td>\n",
       "      <td>Substantial</td>\n",
       "      <td>Pratt-read</td>\n",
       "      <td>PRG-1</td>\n",
       "      <td>NaN</td>\n",
       "      <td>Unknown</td>\n",
       "      <td>Instructional</td>\n",
       "      <td>0.0</td>\n",
       "      <td>0.0</td>\n",
       "      <td>0.0</td>\n",
       "      <td>1.0</td>\n",
       "      <td>VMC</td>\n",
       "      <td>Cruise</td>\n",
       "    </tr>\n",
       "    <tr>\n",
       "      <th>4004</th>\n",
       "      <td>1983-02-28</td>\n",
       "      <td>ANCHORAGE, AK</td>\n",
       "      <td>MRI</td>\n",
       "      <td>MERRILL FIELD</td>\n",
       "      <td>Non-Fatal</td>\n",
       "      <td>Unknown</td>\n",
       "      <td>Raven</td>\n",
       "      <td>RX-7</td>\n",
       "      <td>NaN</td>\n",
       "      <td>Unknown</td>\n",
       "      <td>Personal</td>\n",
       "      <td>0.0</td>\n",
       "      <td>0.0</td>\n",
       "      <td>0.0</td>\n",
       "      <td>5.0</td>\n",
       "      <td>VMC</td>\n",
       "      <td>Climb</td>\n",
       "    </tr>\n",
       "    <tr>\n",
       "      <th>...</th>\n",
       "      <td>...</td>\n",
       "      <td>...</td>\n",
       "      <td>...</td>\n",
       "      <td>...</td>\n",
       "      <td>...</td>\n",
       "      <td>...</td>\n",
       "      <td>...</td>\n",
       "      <td>...</td>\n",
       "      <td>...</td>\n",
       "      <td>...</td>\n",
       "      <td>...</td>\n",
       "      <td>...</td>\n",
       "      <td>...</td>\n",
       "      <td>...</td>\n",
       "      <td>...</td>\n",
       "      <td>...</td>\n",
       "      <td>...</td>\n",
       "    </tr>\n",
       "    <tr>\n",
       "      <th>90339</th>\n",
       "      <td>2022-12-18</td>\n",
       "      <td>San Manual, AZ</td>\n",
       "      <td>Unknown</td>\n",
       "      <td>Unknown</td>\n",
       "      <td>Non-Fatal</td>\n",
       "      <td>Unknown</td>\n",
       "      <td>PIPER</td>\n",
       "      <td>PA28</td>\n",
       "      <td>NaN</td>\n",
       "      <td>NaN</td>\n",
       "      <td>Personal</td>\n",
       "      <td>0.0</td>\n",
       "      <td>0.0</td>\n",
       "      <td>0.0</td>\n",
       "      <td>3.0</td>\n",
       "      <td>Unknown</td>\n",
       "      <td>Unknown</td>\n",
       "    </tr>\n",
       "    <tr>\n",
       "      <th>90340</th>\n",
       "      <td>2022-12-21</td>\n",
       "      <td>Auburn Hills, MI</td>\n",
       "      <td>Unknown</td>\n",
       "      <td>Unknown</td>\n",
       "      <td>Minor</td>\n",
       "      <td>Unknown</td>\n",
       "      <td>CESSNA</td>\n",
       "      <td>172F</td>\n",
       "      <td>NaN</td>\n",
       "      <td>NaN</td>\n",
       "      <td>Personal</td>\n",
       "      <td>0.0</td>\n",
       "      <td>1.0</td>\n",
       "      <td>0.0</td>\n",
       "      <td>0.0</td>\n",
       "      <td>Unknown</td>\n",
       "      <td>Unknown</td>\n",
       "    </tr>\n",
       "    <tr>\n",
       "      <th>90341</th>\n",
       "      <td>2022-12-21</td>\n",
       "      <td>Reserve, LA</td>\n",
       "      <td>Unknown</td>\n",
       "      <td>Unknown</td>\n",
       "      <td>Minor</td>\n",
       "      <td>Unknown</td>\n",
       "      <td>GRUMMAN AMERICAN AVN. CORP.</td>\n",
       "      <td>AA-5B</td>\n",
       "      <td>NaN</td>\n",
       "      <td>NaN</td>\n",
       "      <td>Instructional</td>\n",
       "      <td>0.0</td>\n",
       "      <td>1.0</td>\n",
       "      <td>0.0</td>\n",
       "      <td>1.0</td>\n",
       "      <td>Unknown</td>\n",
       "      <td>Unknown</td>\n",
       "    </tr>\n",
       "    <tr>\n",
       "      <th>90343</th>\n",
       "      <td>2022-12-26</td>\n",
       "      <td>Annapolis, MD</td>\n",
       "      <td>Unknown</td>\n",
       "      <td>Unknown</td>\n",
       "      <td>Minor</td>\n",
       "      <td>Unknown</td>\n",
       "      <td>PIPER</td>\n",
       "      <td>PA-28-151</td>\n",
       "      <td>NaN</td>\n",
       "      <td>NaN</td>\n",
       "      <td>Personal</td>\n",
       "      <td>0.0</td>\n",
       "      <td>1.0</td>\n",
       "      <td>0.0</td>\n",
       "      <td>0.0</td>\n",
       "      <td>Unknown</td>\n",
       "      <td>Unknown</td>\n",
       "    </tr>\n",
       "    <tr>\n",
       "      <th>90347</th>\n",
       "      <td>2022-12-29</td>\n",
       "      <td>Athens, GA</td>\n",
       "      <td>Unknown</td>\n",
       "      <td>Unknown</td>\n",
       "      <td>Minor</td>\n",
       "      <td>Unknown</td>\n",
       "      <td>PIPER</td>\n",
       "      <td>PA-24-260</td>\n",
       "      <td>NaN</td>\n",
       "      <td>NaN</td>\n",
       "      <td>Personal</td>\n",
       "      <td>0.0</td>\n",
       "      <td>1.0</td>\n",
       "      <td>0.0</td>\n",
       "      <td>1.0</td>\n",
       "      <td>Unknown</td>\n",
       "      <td>Unknown</td>\n",
       "    </tr>\n",
       "  </tbody>\n",
       "</table>\n",
       "<p>1521 rows × 17 columns</p>\n",
       "</div>"
      ],
      "text/plain": [
       "      event_date           location airport_code          airport_name  \\\n",
       "3600  1983-01-01  ARROYO GRANDE, CA      Unknown               Unknown   \n",
       "3741  1983-01-22    NORTH SHORE, CA      Unknown  DESERT AIR SKY RANCH   \n",
       "3772  1983-01-29      HEMPSTEAD, TX          35R             HEMPSTEAD   \n",
       "3870  1983-02-12    LITTLEFIELD, TX          Q00           LITTLEFIELD   \n",
       "4004  1983-02-28      ANCHORAGE, AK          MRI         MERRILL FIELD   \n",
       "...          ...                ...          ...                   ...   \n",
       "90339 2022-12-18     San Manual, AZ      Unknown               Unknown   \n",
       "90340 2022-12-21   Auburn Hills, MI      Unknown               Unknown   \n",
       "90341 2022-12-21        Reserve, LA      Unknown               Unknown   \n",
       "90343 2022-12-26      Annapolis, MD      Unknown               Unknown   \n",
       "90347 2022-12-29         Athens, GA      Unknown               Unknown   \n",
       "\n",
       "      injury_severity aircraft_damage                         make      model  \\\n",
       "3600        Non-Fatal         Unknown                      Piccard       AX-6   \n",
       "3741        Non-Fatal     Substantial                    Schweizer      2-33A   \n",
       "3772         Fatal(1)       Destroyed                    Schweizer  SGS 1-26B   \n",
       "3870        Non-Fatal     Substantial                   Pratt-read      PRG-1   \n",
       "4004        Non-Fatal         Unknown                        Raven       RX-7   \n",
       "...               ...             ...                          ...        ...   \n",
       "90339       Non-Fatal         Unknown                        PIPER       PA28   \n",
       "90340           Minor         Unknown                       CESSNA       172F   \n",
       "90341           Minor         Unknown  GRUMMAN AMERICAN AVN. CORP.      AA-5B   \n",
       "90343           Minor         Unknown                        PIPER  PA-28-151   \n",
       "90347           Minor         Unknown                        PIPER  PA-24-260   \n",
       "\n",
       "       number_of_engines engine_type purpose_of_flight  total_fatal_injuries  \\\n",
       "3600                 NaN     Unknown          Personal                   0.0   \n",
       "3741                 NaN     Unknown     Instructional                   0.0   \n",
       "3772                 NaN     Unknown     Instructional                   1.0   \n",
       "3870                 NaN     Unknown     Instructional                   0.0   \n",
       "4004                 NaN     Unknown          Personal                   0.0   \n",
       "...                  ...         ...               ...                   ...   \n",
       "90339                NaN         NaN          Personal                   0.0   \n",
       "90340                NaN         NaN          Personal                   0.0   \n",
       "90341                NaN         NaN     Instructional                   0.0   \n",
       "90343                NaN         NaN          Personal                   0.0   \n",
       "90347                NaN         NaN          Personal                   0.0   \n",
       "\n",
       "       total_serious_injuries  total_minor_injuries  total_uninjured  \\\n",
       "3600                      1.0                   0.0              1.0   \n",
       "3741                      1.0                   0.0              0.0   \n",
       "3772                      0.0                   0.0              0.0   \n",
       "3870                      0.0                   0.0              1.0   \n",
       "4004                      0.0                   0.0              5.0   \n",
       "...                       ...                   ...              ...   \n",
       "90339                     0.0                   0.0              3.0   \n",
       "90340                     1.0                   0.0              0.0   \n",
       "90341                     1.0                   0.0              1.0   \n",
       "90343                     1.0                   0.0              0.0   \n",
       "90347                     1.0                   0.0              1.0   \n",
       "\n",
       "      weather_condition broad_phase_of_flight  \n",
       "3600                VMC               Landing  \n",
       "3741                VMC               Takeoff  \n",
       "3772                VMC              Approach  \n",
       "3870                VMC                Cruise  \n",
       "4004                VMC                 Climb  \n",
       "...                 ...                   ...  \n",
       "90339           Unknown               Unknown  \n",
       "90340           Unknown               Unknown  \n",
       "90341           Unknown               Unknown  \n",
       "90343           Unknown               Unknown  \n",
       "90347           Unknown               Unknown  \n",
       "\n",
       "[1521 rows x 17 columns]"
      ]
     },
     "execution_count": 62,
     "metadata": {},
     "output_type": "execute_result"
    }
   ],
   "source": [
    "aviation_data_cleaned[aviation_data_cleaned['number_of_engines'].isna()]"
   ]
  },
  {
   "cell_type": "code",
   "execution_count": 124,
   "metadata": {
    "ExecuteTime": {
     "end_time": "2023-04-20T02:11:05.099966Z",
     "start_time": "2023-04-20T02:11:03.709819Z"
    },
    "scrolled": true
   },
   "outputs": [
    {
     "data": {
      "text/plain": [
       "[('1200', 'G103'),\n",
       " ('177Mf Llc', 'PITTS MODEL 12'),\n",
       " ('2021Fx3 Llc', 'CCX-2000'),\n",
       " ('A. Schleicher Gmbh & Co.', 'ASW 27-18'),\n",
       " ('Aaa Aircraft Leasing', '192')]"
      ]
     },
     "execution_count": 124,
     "metadata": {},
     "output_type": "execute_result"
    }
   ],
   "source": [
    "# Create a map for the number of engines, take the first mode if there's a tie\n",
    "filter_nans = aviation_data_cleaned['number_of_engines'].notna()\n",
    "enginer_number_map = dict(aviation_data_cleaned[filter_nans].groupby(['make', 'model'])['number_of_engines'].agg(lambda x : pd.Series.mode(x)[0]))\n",
    "list(enginer_number_map.keys())[:5]"
   ]
  },
  {
   "cell_type": "code",
   "execution_count": 64,
   "metadata": {
    "ExecuteTime": {
     "end_time": "2023-04-19T22:56:52.022825Z",
     "start_time": "2023-04-19T22:56:51.905837Z"
    }
   },
   "outputs": [
    {
     "data": {
      "text/plain": [
       "7                               (Cessna, 140)\n",
       "8                              (Cessna, 401B)\n",
       "9              (North American, NAVION L-17B)\n",
       "10                         (Piper, PA-28-161)\n",
       "11                              (Beech, V35B)\n",
       "                         ...                 \n",
       "90340                          (CESSNA, 172F)\n",
       "90341    (GRUMMAN AMERICAN AVN. CORP., AA-5B)\n",
       "90343                      (PIPER, PA-28-151)\n",
       "90345     (AMERICAN CHAMPION AIRCRAFT, 8GCBC)\n",
       "90347                      (PIPER, PA-24-260)\n",
       "Name: engine_number_map, Length: 70788, dtype: object"
      ]
     },
     "execution_count": 64,
     "metadata": {},
     "output_type": "execute_result"
    }
   ],
   "source": [
    "# Apply this map to the numer of enginers column to replace missing values\n",
    "aviation_data_cleaned['engine_number_map'] = tuple(zip(aviation_data_cleaned['make'], aviation_data_cleaned['model']))\n",
    "aviation_data_cleaned['engine_number_map']"
   ]
  },
  {
   "cell_type": "code",
   "execution_count": 65,
   "metadata": {
    "ExecuteTime": {
     "end_time": "2023-04-19T22:56:52.200391Z",
     "start_time": "2023-04-19T22:56:52.024978Z"
    },
    "scrolled": true
   },
   "outputs": [],
   "source": [
    "# Map the engine number to the new column\n",
    "aviation_data_cleaned['engine_number_map'] = aviation_data_cleaned['engine_number_map'].map(enginer_number_map)"
   ]
  },
  {
   "cell_type": "code",
   "execution_count": 66,
   "metadata": {
    "ExecuteTime": {
     "end_time": "2023-04-19T22:56:52.223179Z",
     "start_time": "2023-04-19T22:56:52.203838Z"
    },
    "scrolled": true
   },
   "outputs": [
    {
     "data": {
      "text/html": [
       "<div>\n",
       "<style scoped>\n",
       "    .dataframe tbody tr th:only-of-type {\n",
       "        vertical-align: middle;\n",
       "    }\n",
       "\n",
       "    .dataframe tbody tr th {\n",
       "        vertical-align: top;\n",
       "    }\n",
       "\n",
       "    .dataframe thead th {\n",
       "        text-align: right;\n",
       "    }\n",
       "</style>\n",
       "<table border=\"1\" class=\"dataframe\">\n",
       "  <thead>\n",
       "    <tr style=\"text-align: right;\">\n",
       "      <th></th>\n",
       "      <th>event_date</th>\n",
       "      <th>location</th>\n",
       "      <th>airport_code</th>\n",
       "      <th>airport_name</th>\n",
       "      <th>injury_severity</th>\n",
       "      <th>aircraft_damage</th>\n",
       "      <th>make</th>\n",
       "      <th>model</th>\n",
       "      <th>number_of_engines</th>\n",
       "      <th>engine_type</th>\n",
       "      <th>purpose_of_flight</th>\n",
       "      <th>total_fatal_injuries</th>\n",
       "      <th>total_serious_injuries</th>\n",
       "      <th>total_minor_injuries</th>\n",
       "      <th>total_uninjured</th>\n",
       "      <th>weather_condition</th>\n",
       "      <th>broad_phase_of_flight</th>\n",
       "      <th>engine_number_map</th>\n",
       "    </tr>\n",
       "  </thead>\n",
       "  <tbody>\n",
       "    <tr>\n",
       "      <th>7</th>\n",
       "      <td>1982-01-01</td>\n",
       "      <td>PULLMAN, WA</td>\n",
       "      <td>Unknown</td>\n",
       "      <td>BLACKBURN AG STRIP</td>\n",
       "      <td>Non-Fatal</td>\n",
       "      <td>Substantial</td>\n",
       "      <td>Cessna</td>\n",
       "      <td>140</td>\n",
       "      <td>1.0</td>\n",
       "      <td>Reciprocating</td>\n",
       "      <td>Personal</td>\n",
       "      <td>0.0</td>\n",
       "      <td>0.0</td>\n",
       "      <td>0.0</td>\n",
       "      <td>2.0</td>\n",
       "      <td>VMC</td>\n",
       "      <td>Takeoff</td>\n",
       "      <td>1.0</td>\n",
       "    </tr>\n",
       "    <tr>\n",
       "      <th>8</th>\n",
       "      <td>1982-01-01</td>\n",
       "      <td>EAST HANOVER, NJ</td>\n",
       "      <td>N58</td>\n",
       "      <td>HANOVER</td>\n",
       "      <td>Non-Fatal</td>\n",
       "      <td>Substantial</td>\n",
       "      <td>Cessna</td>\n",
       "      <td>401B</td>\n",
       "      <td>2.0</td>\n",
       "      <td>Reciprocating</td>\n",
       "      <td>Business</td>\n",
       "      <td>0.0</td>\n",
       "      <td>0.0</td>\n",
       "      <td>0.0</td>\n",
       "      <td>2.0</td>\n",
       "      <td>IMC</td>\n",
       "      <td>Landing</td>\n",
       "      <td>2.0</td>\n",
       "    </tr>\n",
       "    <tr>\n",
       "      <th>9</th>\n",
       "      <td>1982-01-01</td>\n",
       "      <td>JACKSONVILLE, FL</td>\n",
       "      <td>JAX</td>\n",
       "      <td>JACKSONVILLE INTL</td>\n",
       "      <td>Non-Fatal</td>\n",
       "      <td>Substantial</td>\n",
       "      <td>North American</td>\n",
       "      <td>NAVION L-17B</td>\n",
       "      <td>1.0</td>\n",
       "      <td>Reciprocating</td>\n",
       "      <td>Personal</td>\n",
       "      <td>0.0</td>\n",
       "      <td>0.0</td>\n",
       "      <td>3.0</td>\n",
       "      <td>0.0</td>\n",
       "      <td>IMC</td>\n",
       "      <td>Cruise</td>\n",
       "      <td>1.0</td>\n",
       "    </tr>\n",
       "    <tr>\n",
       "      <th>10</th>\n",
       "      <td>1982-01-01</td>\n",
       "      <td>HOBBS, NM</td>\n",
       "      <td>Unknown</td>\n",
       "      <td>Unknown</td>\n",
       "      <td>Non-Fatal</td>\n",
       "      <td>Substantial</td>\n",
       "      <td>Piper</td>\n",
       "      <td>PA-28-161</td>\n",
       "      <td>1.0</td>\n",
       "      <td>Reciprocating</td>\n",
       "      <td>Personal</td>\n",
       "      <td>0.0</td>\n",
       "      <td>0.0</td>\n",
       "      <td>0.0</td>\n",
       "      <td>1.0</td>\n",
       "      <td>VMC</td>\n",
       "      <td>Approach</td>\n",
       "      <td>1.0</td>\n",
       "    </tr>\n",
       "    <tr>\n",
       "      <th>11</th>\n",
       "      <td>1982-01-01</td>\n",
       "      <td>TUSKEGEE, AL</td>\n",
       "      <td>Unknown</td>\n",
       "      <td>TUSKEGEE</td>\n",
       "      <td>Non-Fatal</td>\n",
       "      <td>Substantial</td>\n",
       "      <td>Beech</td>\n",
       "      <td>V35B</td>\n",
       "      <td>1.0</td>\n",
       "      <td>Reciprocating</td>\n",
       "      <td>Personal</td>\n",
       "      <td>0.0</td>\n",
       "      <td>0.0</td>\n",
       "      <td>0.0</td>\n",
       "      <td>1.0</td>\n",
       "      <td>VMC</td>\n",
       "      <td>Landing</td>\n",
       "      <td>1.0</td>\n",
       "    </tr>\n",
       "  </tbody>\n",
       "</table>\n",
       "</div>"
      ],
      "text/plain": [
       "   event_date          location airport_code        airport_name  \\\n",
       "7  1982-01-01       PULLMAN, WA      Unknown  BLACKBURN AG STRIP   \n",
       "8  1982-01-01  EAST HANOVER, NJ          N58             HANOVER   \n",
       "9  1982-01-01  JACKSONVILLE, FL          JAX   JACKSONVILLE INTL   \n",
       "10 1982-01-01         HOBBS, NM      Unknown             Unknown   \n",
       "11 1982-01-01      TUSKEGEE, AL      Unknown            TUSKEGEE   \n",
       "\n",
       "   injury_severity aircraft_damage            make         model  \\\n",
       "7        Non-Fatal     Substantial          Cessna           140   \n",
       "8        Non-Fatal     Substantial          Cessna          401B   \n",
       "9        Non-Fatal     Substantial  North American  NAVION L-17B   \n",
       "10       Non-Fatal     Substantial           Piper     PA-28-161   \n",
       "11       Non-Fatal     Substantial           Beech          V35B   \n",
       "\n",
       "    number_of_engines    engine_type purpose_of_flight  total_fatal_injuries  \\\n",
       "7                 1.0  Reciprocating          Personal                   0.0   \n",
       "8                 2.0  Reciprocating          Business                   0.0   \n",
       "9                 1.0  Reciprocating          Personal                   0.0   \n",
       "10                1.0  Reciprocating          Personal                   0.0   \n",
       "11                1.0  Reciprocating          Personal                   0.0   \n",
       "\n",
       "    total_serious_injuries  total_minor_injuries  total_uninjured  \\\n",
       "7                      0.0                   0.0              2.0   \n",
       "8                      0.0                   0.0              2.0   \n",
       "9                      0.0                   3.0              0.0   \n",
       "10                     0.0                   0.0              1.0   \n",
       "11                     0.0                   0.0              1.0   \n",
       "\n",
       "   weather_condition broad_phase_of_flight  engine_number_map  \n",
       "7                VMC               Takeoff                1.0  \n",
       "8                IMC               Landing                2.0  \n",
       "9                IMC                Cruise                1.0  \n",
       "10               VMC              Approach                1.0  \n",
       "11               VMC               Landing                1.0  "
      ]
     },
     "execution_count": 66,
     "metadata": {},
     "output_type": "execute_result"
    }
   ],
   "source": [
    "# Check out our data with the new column\n",
    "aviation_data_cleaned.head()"
   ]
  },
  {
   "cell_type": "code",
   "execution_count": 67,
   "metadata": {
    "ExecuteTime": {
     "end_time": "2023-04-19T22:56:52.276163Z",
     "start_time": "2023-04-19T22:56:52.232051Z"
    }
   },
   "outputs": [
    {
     "name": "stdout",
     "output_type": "stream",
     "text": [
      "<class 'pandas.core.frame.DataFrame'>\n",
      "Int64Index: 70788 entries, 7 to 90347\n",
      "Data columns (total 18 columns):\n",
      " #   Column                  Non-Null Count  Dtype         \n",
      "---  ------                  --------------  -----         \n",
      " 0   event_date              70788 non-null  datetime64[ns]\n",
      " 1   location                70788 non-null  object        \n",
      " 2   airport_code            70788 non-null  object        \n",
      " 3   airport_name            70788 non-null  object        \n",
      " 4   injury_severity         70788 non-null  object        \n",
      " 5   aircraft_damage         70788 non-null  object        \n",
      " 6   make                    70788 non-null  object        \n",
      " 7   model                   70788 non-null  object        \n",
      " 8   number_of_engines       69267 non-null  float64       \n",
      " 9   engine_type             68209 non-null  object        \n",
      " 10  purpose_of_flight       70788 non-null  object        \n",
      " 11  total_fatal_injuries    70788 non-null  float64       \n",
      " 12  total_serious_injuries  70788 non-null  float64       \n",
      " 13  total_minor_injuries    70788 non-null  float64       \n",
      " 14  total_uninjured         70788 non-null  float64       \n",
      " 15  weather_condition       70788 non-null  object        \n",
      " 16  broad_phase_of_flight   70788 non-null  object        \n",
      " 17  engine_number_map       70245 non-null  float64       \n",
      "dtypes: datetime64[ns](1), float64(6), object(11)\n",
      "memory usage: 10.3+ MB\n"
     ]
    }
   ],
   "source": [
    "# Confirm the new column type\n",
    "aviation_data_cleaned.info()"
   ]
  },
  {
   "cell_type": "code",
   "execution_count": 68,
   "metadata": {
    "ExecuteTime": {
     "end_time": "2023-04-19T22:56:52.282663Z",
     "start_time": "2023-04-19T22:56:52.278413Z"
    }
   },
   "outputs": [],
   "source": [
    "# Fill the missing number of engine data with the best guess based on make and model\n",
    "aviation_data_cleaned['number_of_engines'].fillna(value=aviation_data_cleaned['engine_number_map'], inplace=True)"
   ]
  },
  {
   "cell_type": "code",
   "execution_count": 69,
   "metadata": {
    "ExecuteTime": {
     "end_time": "2023-04-19T22:56:52.291215Z",
     "start_time": "2023-04-19T22:56:52.286171Z"
    }
   },
   "outputs": [
    {
     "data": {
      "text/plain": [
       "543"
      ]
     },
     "execution_count": 69,
     "metadata": {},
     "output_type": "execute_result"
    }
   ],
   "source": [
    "# Check the number of missing numbers from the number of engines column\n",
    "aviation_data_cleaned['number_of_engines'].isna().sum()"
   ]
  },
  {
   "cell_type": "code",
   "execution_count": 70,
   "metadata": {
    "ExecuteTime": {
     "end_time": "2023-04-19T22:56:52.334567Z",
     "start_time": "2023-04-19T22:56:52.295007Z"
    }
   },
   "outputs": [
    {
     "data": {
      "text/plain": [
       "event_date                   0\n",
       "location                     0\n",
       "airport_code                 0\n",
       "airport_name                 0\n",
       "injury_severity              0\n",
       "aircraft_damage              0\n",
       "make                         0\n",
       "model                        0\n",
       "number_of_engines          543\n",
       "engine_type               2579\n",
       "purpose_of_flight            0\n",
       "total_fatal_injuries         0\n",
       "total_serious_injuries       0\n",
       "total_minor_injuries         0\n",
       "total_uninjured              0\n",
       "weather_condition            0\n",
       "broad_phase_of_flight        0\n",
       "engine_number_map          543\n",
       "dtype: int64"
      ]
     },
     "execution_count": 70,
     "metadata": {},
     "output_type": "execute_result"
    }
   ],
   "source": [
    "# Check the number of missing data in the dataset\n",
    "aviation_data_cleaned.isna().sum()"
   ]
  },
  {
   "cell_type": "code",
   "execution_count": 71,
   "metadata": {
    "ExecuteTime": {
     "end_time": "2023-04-19T22:56:52.363984Z",
     "start_time": "2023-04-19T22:56:52.338076Z"
    },
    "scrolled": false
   },
   "outputs": [
    {
     "data": {
      "text/html": [
       "<div>\n",
       "<style scoped>\n",
       "    .dataframe tbody tr th:only-of-type {\n",
       "        vertical-align: middle;\n",
       "    }\n",
       "\n",
       "    .dataframe tbody tr th {\n",
       "        vertical-align: top;\n",
       "    }\n",
       "\n",
       "    .dataframe thead th {\n",
       "        text-align: right;\n",
       "    }\n",
       "</style>\n",
       "<table border=\"1\" class=\"dataframe\">\n",
       "  <thead>\n",
       "    <tr style=\"text-align: right;\">\n",
       "      <th></th>\n",
       "      <th>event_date</th>\n",
       "      <th>location</th>\n",
       "      <th>airport_code</th>\n",
       "      <th>airport_name</th>\n",
       "      <th>injury_severity</th>\n",
       "      <th>aircraft_damage</th>\n",
       "      <th>make</th>\n",
       "      <th>model</th>\n",
       "      <th>number_of_engines</th>\n",
       "      <th>engine_type</th>\n",
       "      <th>purpose_of_flight</th>\n",
       "      <th>total_fatal_injuries</th>\n",
       "      <th>total_serious_injuries</th>\n",
       "      <th>total_minor_injuries</th>\n",
       "      <th>total_uninjured</th>\n",
       "      <th>weather_condition</th>\n",
       "      <th>broad_phase_of_flight</th>\n",
       "      <th>engine_number_map</th>\n",
       "    </tr>\n",
       "  </thead>\n",
       "  <tbody>\n",
       "    <tr>\n",
       "      <th>3870</th>\n",
       "      <td>1983-02-12</td>\n",
       "      <td>LITTLEFIELD, TX</td>\n",
       "      <td>Q00</td>\n",
       "      <td>LITTLEFIELD</td>\n",
       "      <td>Non-Fatal</td>\n",
       "      <td>Substantial</td>\n",
       "      <td>Pratt-read</td>\n",
       "      <td>PRG-1</td>\n",
       "      <td>NaN</td>\n",
       "      <td>Unknown</td>\n",
       "      <td>Instructional</td>\n",
       "      <td>0.0</td>\n",
       "      <td>0.0</td>\n",
       "      <td>0.0</td>\n",
       "      <td>1.0</td>\n",
       "      <td>VMC</td>\n",
       "      <td>Cruise</td>\n",
       "      <td>NaN</td>\n",
       "    </tr>\n",
       "    <tr>\n",
       "      <th>4703</th>\n",
       "      <td>1983-05-17</td>\n",
       "      <td>STOCKBRIDGE, MI</td>\n",
       "      <td>Unknown</td>\n",
       "      <td>Unknown</td>\n",
       "      <td>Non-Fatal</td>\n",
       "      <td>Substantial</td>\n",
       "      <td>Schaffer-provencher</td>\n",
       "      <td>UW</td>\n",
       "      <td>NaN</td>\n",
       "      <td>Unknown</td>\n",
       "      <td>Personal</td>\n",
       "      <td>0.0</td>\n",
       "      <td>1.0</td>\n",
       "      <td>0.0</td>\n",
       "      <td>2.0</td>\n",
       "      <td>VMC</td>\n",
       "      <td>Landing</td>\n",
       "      <td>NaN</td>\n",
       "    </tr>\n",
       "    <tr>\n",
       "      <th>4813</th>\n",
       "      <td>1983-05-28</td>\n",
       "      <td>DECATUR, AL</td>\n",
       "      <td>Unknown</td>\n",
       "      <td>Unknown</td>\n",
       "      <td>Non-Fatal</td>\n",
       "      <td>Destroyed</td>\n",
       "      <td>Barnes</td>\n",
       "      <td>AX-6B</td>\n",
       "      <td>NaN</td>\n",
       "      <td>Unknown</td>\n",
       "      <td>Personal</td>\n",
       "      <td>0.0</td>\n",
       "      <td>1.0</td>\n",
       "      <td>1.0</td>\n",
       "      <td>0.0</td>\n",
       "      <td>VMC</td>\n",
       "      <td>Takeoff</td>\n",
       "      <td>NaN</td>\n",
       "    </tr>\n",
       "    <tr>\n",
       "      <th>4822</th>\n",
       "      <td>1983-05-28</td>\n",
       "      <td>LOS LUNAS, NM</td>\n",
       "      <td>E98</td>\n",
       "      <td>MID VALLEY</td>\n",
       "      <td>Non-Fatal</td>\n",
       "      <td>Substantial</td>\n",
       "      <td>Glasflugel</td>\n",
       "      <td>H-301</td>\n",
       "      <td>NaN</td>\n",
       "      <td>Unknown</td>\n",
       "      <td>Personal</td>\n",
       "      <td>0.0</td>\n",
       "      <td>0.0</td>\n",
       "      <td>0.0</td>\n",
       "      <td>1.0</td>\n",
       "      <td>VMC</td>\n",
       "      <td>Takeoff</td>\n",
       "      <td>NaN</td>\n",
       "    </tr>\n",
       "    <tr>\n",
       "      <th>4957</th>\n",
       "      <td>1983-06-07</td>\n",
       "      <td>RENO, NV</td>\n",
       "      <td>4SD</td>\n",
       "      <td>STEAD</td>\n",
       "      <td>Non-Fatal</td>\n",
       "      <td>Substantial</td>\n",
       "      <td>I.c.a. Brasov</td>\n",
       "      <td>IS-29D2</td>\n",
       "      <td>NaN</td>\n",
       "      <td>Unknown</td>\n",
       "      <td>Personal</td>\n",
       "      <td>0.0</td>\n",
       "      <td>0.0</td>\n",
       "      <td>0.0</td>\n",
       "      <td>2.0</td>\n",
       "      <td>VMC</td>\n",
       "      <td>Approach</td>\n",
       "      <td>NaN</td>\n",
       "    </tr>\n",
       "    <tr>\n",
       "      <th>...</th>\n",
       "      <td>...</td>\n",
       "      <td>...</td>\n",
       "      <td>...</td>\n",
       "      <td>...</td>\n",
       "      <td>...</td>\n",
       "      <td>...</td>\n",
       "      <td>...</td>\n",
       "      <td>...</td>\n",
       "      <td>...</td>\n",
       "      <td>...</td>\n",
       "      <td>...</td>\n",
       "      <td>...</td>\n",
       "      <td>...</td>\n",
       "      <td>...</td>\n",
       "      <td>...</td>\n",
       "      <td>...</td>\n",
       "      <td>...</td>\n",
       "      <td>...</td>\n",
       "    </tr>\n",
       "    <tr>\n",
       "      <th>90102</th>\n",
       "      <td>2022-10-07</td>\n",
       "      <td>Albuquerque, NM</td>\n",
       "      <td>Unknown</td>\n",
       "      <td>Unknown</td>\n",
       "      <td>Serious</td>\n",
       "      <td>Minor</td>\n",
       "      <td>AEROSTAR INTERNATIONAL</td>\n",
       "      <td>S53A</td>\n",
       "      <td>NaN</td>\n",
       "      <td>NaN</td>\n",
       "      <td>Personal</td>\n",
       "      <td>0.0</td>\n",
       "      <td>1.0</td>\n",
       "      <td>1.0</td>\n",
       "      <td>1.0</td>\n",
       "      <td>Unknown</td>\n",
       "      <td>Unknown</td>\n",
       "      <td>NaN</td>\n",
       "    </tr>\n",
       "    <tr>\n",
       "      <th>90205</th>\n",
       "      <td>2022-11-02</td>\n",
       "      <td>New Orleans, LA</td>\n",
       "      <td>Unknown</td>\n",
       "      <td>Unknown</td>\n",
       "      <td>Serious</td>\n",
       "      <td>Unknown</td>\n",
       "      <td>AIRBUS</td>\n",
       "      <td>A319-132</td>\n",
       "      <td>NaN</td>\n",
       "      <td>NaN</td>\n",
       "      <td>Unknown</td>\n",
       "      <td>0.0</td>\n",
       "      <td>0.0</td>\n",
       "      <td>1.0</td>\n",
       "      <td>115.0</td>\n",
       "      <td>Unknown</td>\n",
       "      <td>Unknown</td>\n",
       "      <td>NaN</td>\n",
       "    </tr>\n",
       "    <tr>\n",
       "      <th>90259</th>\n",
       "      <td>2022-11-19</td>\n",
       "      <td>Omaha, NE</td>\n",
       "      <td>Unknown</td>\n",
       "      <td>Unknown</td>\n",
       "      <td>Non-Fatal</td>\n",
       "      <td>Unknown</td>\n",
       "      <td>AIRBUS INDUSTRIE</td>\n",
       "      <td>A320-211</td>\n",
       "      <td>NaN</td>\n",
       "      <td>NaN</td>\n",
       "      <td>Unknown</td>\n",
       "      <td>0.0</td>\n",
       "      <td>0.0</td>\n",
       "      <td>0.0</td>\n",
       "      <td>153.0</td>\n",
       "      <td>Unknown</td>\n",
       "      <td>Unknown</td>\n",
       "      <td>NaN</td>\n",
       "    </tr>\n",
       "    <tr>\n",
       "      <th>90314</th>\n",
       "      <td>2022-12-08</td>\n",
       "      <td>Newark, NJ</td>\n",
       "      <td>Unknown</td>\n",
       "      <td>Unknown</td>\n",
       "      <td>Serious</td>\n",
       "      <td>Unknown</td>\n",
       "      <td>BOEING</td>\n",
       "      <td>767-322</td>\n",
       "      <td>NaN</td>\n",
       "      <td>NaN</td>\n",
       "      <td>Unknown</td>\n",
       "      <td>0.0</td>\n",
       "      <td>3.0</td>\n",
       "      <td>1.0</td>\n",
       "      <td>175.0</td>\n",
       "      <td>Unknown</td>\n",
       "      <td>Unknown</td>\n",
       "      <td>NaN</td>\n",
       "    </tr>\n",
       "    <tr>\n",
       "      <th>90337</th>\n",
       "      <td>2022-12-17</td>\n",
       "      <td>Cottonwood, CA</td>\n",
       "      <td>Unknown</td>\n",
       "      <td>Unknown</td>\n",
       "      <td>Minor</td>\n",
       "      <td>Unknown</td>\n",
       "      <td>ROYSE RALPH L</td>\n",
       "      <td>GLASAIR</td>\n",
       "      <td>NaN</td>\n",
       "      <td>NaN</td>\n",
       "      <td>Personal</td>\n",
       "      <td>0.0</td>\n",
       "      <td>1.0</td>\n",
       "      <td>0.0</td>\n",
       "      <td>0.0</td>\n",
       "      <td>Unknown</td>\n",
       "      <td>Unknown</td>\n",
       "      <td>NaN</td>\n",
       "    </tr>\n",
       "  </tbody>\n",
       "</table>\n",
       "<p>543 rows × 18 columns</p>\n",
       "</div>"
      ],
      "text/plain": [
       "      event_date         location airport_code airport_name injury_severity  \\\n",
       "3870  1983-02-12  LITTLEFIELD, TX          Q00  LITTLEFIELD       Non-Fatal   \n",
       "4703  1983-05-17  STOCKBRIDGE, MI      Unknown      Unknown       Non-Fatal   \n",
       "4813  1983-05-28      DECATUR, AL      Unknown      Unknown       Non-Fatal   \n",
       "4822  1983-05-28    LOS LUNAS, NM          E98   MID VALLEY       Non-Fatal   \n",
       "4957  1983-06-07         RENO, NV          4SD        STEAD       Non-Fatal   \n",
       "...          ...              ...          ...          ...             ...   \n",
       "90102 2022-10-07  Albuquerque, NM      Unknown      Unknown         Serious   \n",
       "90205 2022-11-02  New Orleans, LA      Unknown      Unknown         Serious   \n",
       "90259 2022-11-19        Omaha, NE      Unknown      Unknown       Non-Fatal   \n",
       "90314 2022-12-08       Newark, NJ      Unknown      Unknown         Serious   \n",
       "90337 2022-12-17   Cottonwood, CA      Unknown      Unknown           Minor   \n",
       "\n",
       "      aircraft_damage                    make     model  number_of_engines  \\\n",
       "3870      Substantial              Pratt-read     PRG-1                NaN   \n",
       "4703      Substantial     Schaffer-provencher        UW                NaN   \n",
       "4813        Destroyed                  Barnes     AX-6B                NaN   \n",
       "4822      Substantial              Glasflugel     H-301                NaN   \n",
       "4957      Substantial           I.c.a. Brasov   IS-29D2                NaN   \n",
       "...               ...                     ...       ...                ...   \n",
       "90102           Minor  AEROSTAR INTERNATIONAL      S53A                NaN   \n",
       "90205         Unknown                  AIRBUS  A319-132                NaN   \n",
       "90259         Unknown        AIRBUS INDUSTRIE  A320-211                NaN   \n",
       "90314         Unknown                  BOEING   767-322                NaN   \n",
       "90337         Unknown           ROYSE RALPH L   GLASAIR                NaN   \n",
       "\n",
       "      engine_type purpose_of_flight  total_fatal_injuries  \\\n",
       "3870      Unknown     Instructional                   0.0   \n",
       "4703      Unknown          Personal                   0.0   \n",
       "4813      Unknown          Personal                   0.0   \n",
       "4822      Unknown          Personal                   0.0   \n",
       "4957      Unknown          Personal                   0.0   \n",
       "...           ...               ...                   ...   \n",
       "90102         NaN          Personal                   0.0   \n",
       "90205         NaN           Unknown                   0.0   \n",
       "90259         NaN           Unknown                   0.0   \n",
       "90314         NaN           Unknown                   0.0   \n",
       "90337         NaN          Personal                   0.0   \n",
       "\n",
       "       total_serious_injuries  total_minor_injuries  total_uninjured  \\\n",
       "3870                      0.0                   0.0              1.0   \n",
       "4703                      1.0                   0.0              2.0   \n",
       "4813                      1.0                   1.0              0.0   \n",
       "4822                      0.0                   0.0              1.0   \n",
       "4957                      0.0                   0.0              2.0   \n",
       "...                       ...                   ...              ...   \n",
       "90102                     1.0                   1.0              1.0   \n",
       "90205                     0.0                   1.0            115.0   \n",
       "90259                     0.0                   0.0            153.0   \n",
       "90314                     3.0                   1.0            175.0   \n",
       "90337                     1.0                   0.0              0.0   \n",
       "\n",
       "      weather_condition broad_phase_of_flight  engine_number_map  \n",
       "3870                VMC                Cruise                NaN  \n",
       "4703                VMC               Landing                NaN  \n",
       "4813                VMC               Takeoff                NaN  \n",
       "4822                VMC               Takeoff                NaN  \n",
       "4957                VMC              Approach                NaN  \n",
       "...                 ...                   ...                ...  \n",
       "90102           Unknown               Unknown                NaN  \n",
       "90205           Unknown               Unknown                NaN  \n",
       "90259           Unknown               Unknown                NaN  \n",
       "90314           Unknown               Unknown                NaN  \n",
       "90337           Unknown               Unknown                NaN  \n",
       "\n",
       "[543 rows x 18 columns]"
      ]
     },
     "execution_count": 71,
     "metadata": {},
     "output_type": "execute_result"
    }
   ],
   "source": [
    "# Check out the remaining missing data\n",
    "aviation_data_cleaned[aviation_data_cleaned['number_of_engines'].isna()]"
   ]
  },
  {
   "cell_type": "code",
   "execution_count": 72,
   "metadata": {
    "ExecuteTime": {
     "end_time": "2023-04-19T22:56:52.382515Z",
     "start_time": "2023-04-19T22:56:52.366163Z"
    }
   },
   "outputs": [],
   "source": [
    "# The remaining data can be dropped since it is a small amount\n",
    "aviation_data_cleaned = aviation_data_cleaned[aviation_data_cleaned['number_of_engines'].notna()]"
   ]
  },
  {
   "cell_type": "markdown",
   "metadata": {
    "ExecuteTime": {
     "end_time": "2023-04-18T16:29:18.607871Z",
     "start_time": "2023-04-18T16:29:18.596599Z"
    }
   },
   "source": [
    "**Engine Type**\n",
    "- We can take a similar map approach as the number of engines"
   ]
  },
  {
   "cell_type": "code",
   "execution_count": 73,
   "metadata": {
    "ExecuteTime": {
     "end_time": "2023-04-19T22:56:52.425995Z",
     "start_time": "2023-04-19T22:56:52.385131Z"
    }
   },
   "outputs": [
    {
     "data": {
      "text/html": [
       "<div>\n",
       "<style scoped>\n",
       "    .dataframe tbody tr th:only-of-type {\n",
       "        vertical-align: middle;\n",
       "    }\n",
       "\n",
       "    .dataframe tbody tr th {\n",
       "        vertical-align: top;\n",
       "    }\n",
       "\n",
       "    .dataframe thead th {\n",
       "        text-align: right;\n",
       "    }\n",
       "</style>\n",
       "<table border=\"1\" class=\"dataframe\">\n",
       "  <thead>\n",
       "    <tr style=\"text-align: right;\">\n",
       "      <th></th>\n",
       "      <th>make</th>\n",
       "      <th>model</th>\n",
       "      <th>engine_type</th>\n",
       "      <th>count</th>\n",
       "    </tr>\n",
       "  </thead>\n",
       "  <tbody>\n",
       "    <tr>\n",
       "      <th>0</th>\n",
       "      <td>177MF LLC</td>\n",
       "      <td>PITTS MODEL 12</td>\n",
       "      <td>Reciprocating</td>\n",
       "      <td>1</td>\n",
       "    </tr>\n",
       "    <tr>\n",
       "      <th>1</th>\n",
       "      <td>2021FX3 LLC</td>\n",
       "      <td>CCX-2000</td>\n",
       "      <td>Reciprocating</td>\n",
       "      <td>1</td>\n",
       "    </tr>\n",
       "    <tr>\n",
       "      <th>2</th>\n",
       "      <td>AB SPORTINE AVIACIJA</td>\n",
       "      <td>LAK 17</td>\n",
       "      <td>Reciprocating</td>\n",
       "      <td>1</td>\n",
       "    </tr>\n",
       "    <tr>\n",
       "      <th>3</th>\n",
       "      <td>AERO ADVENTURE</td>\n",
       "      <td>ZEPHYR II</td>\n",
       "      <td>Reciprocating</td>\n",
       "      <td>1</td>\n",
       "    </tr>\n",
       "    <tr>\n",
       "      <th>4</th>\n",
       "      <td>AERO AT SP ZOO</td>\n",
       "      <td>AT-4 LSA</td>\n",
       "      <td>Reciprocating</td>\n",
       "      <td>1</td>\n",
       "    </tr>\n",
       "    <tr>\n",
       "      <th>...</th>\n",
       "      <td>...</td>\n",
       "      <td>...</td>\n",
       "      <td>...</td>\n",
       "      <td>...</td>\n",
       "    </tr>\n",
       "    <tr>\n",
       "      <th>9923</th>\n",
       "      <td>de Havilland</td>\n",
       "      <td>DHC-2</td>\n",
       "      <td>Reciprocating</td>\n",
       "      <td>4</td>\n",
       "    </tr>\n",
       "    <tr>\n",
       "      <th>9924</th>\n",
       "      <td>de Havilland</td>\n",
       "      <td>DHC-2 MK I</td>\n",
       "      <td>Reciprocating</td>\n",
       "      <td>1</td>\n",
       "    </tr>\n",
       "    <tr>\n",
       "      <th>9925</th>\n",
       "      <td>de Havilland</td>\n",
       "      <td>DHC-3</td>\n",
       "      <td>Turbo Prop</td>\n",
       "      <td>1</td>\n",
       "    </tr>\n",
       "    <tr>\n",
       "      <th>9926</th>\n",
       "      <td>de Havilland</td>\n",
       "      <td>DHC-6-200</td>\n",
       "      <td>Turbo Prop</td>\n",
       "      <td>1</td>\n",
       "    </tr>\n",
       "    <tr>\n",
       "      <th>9927</th>\n",
       "      <td>de Havilland</td>\n",
       "      <td>DHC-8-202</td>\n",
       "      <td>Turbo Prop</td>\n",
       "      <td>1</td>\n",
       "    </tr>\n",
       "  </tbody>\n",
       "</table>\n",
       "<p>9928 rows × 4 columns</p>\n",
       "</div>"
      ],
      "text/plain": [
       "                      make           model    engine_type  count\n",
       "0                177MF LLC  PITTS MODEL 12  Reciprocating      1\n",
       "1              2021FX3 LLC        CCX-2000  Reciprocating      1\n",
       "2     AB SPORTINE AVIACIJA          LAK 17  Reciprocating      1\n",
       "3           AERO ADVENTURE       ZEPHYR II  Reciprocating      1\n",
       "4           AERO AT SP ZOO        AT-4 LSA  Reciprocating      1\n",
       "...                    ...             ...            ...    ...\n",
       "9923          de Havilland           DHC-2  Reciprocating      4\n",
       "9924          de Havilland      DHC-2 MK I  Reciprocating      1\n",
       "9925          de Havilland           DHC-3     Turbo Prop      1\n",
       "9926          de Havilland       DHC-6-200     Turbo Prop      1\n",
       "9927          de Havilland       DHC-8-202     Turbo Prop      1\n",
       "\n",
       "[9928 rows x 4 columns]"
      ]
     },
     "execution_count": 73,
     "metadata": {},
     "output_type": "execute_result"
    }
   ],
   "source": [
    "# Create a map for the engine type based on the make and model\n",
    "engine_type_dict = aviation_data_cleaned.groupby(['make', 'model', 'engine_type']).size().reset_index().rename(columns={0:'count'})\n",
    "engine_type_dict"
   ]
  },
  {
   "cell_type": "code",
   "execution_count": 74,
   "metadata": {
    "ExecuteTime": {
     "end_time": "2023-04-19T22:56:52.442973Z",
     "start_time": "2023-04-19T22:56:52.429949Z"
    }
   },
   "outputs": [
    {
     "data": {
      "text/plain": [
       "0"
      ]
     },
     "execution_count": 74,
     "metadata": {},
     "output_type": "execute_result"
    }
   ],
   "source": [
    "# Check for Duplicates\n",
    "engine_type_dict[['make', 'model', 'engine_type']].duplicated().sum()"
   ]
  },
  {
   "cell_type": "code",
   "execution_count": 75,
   "metadata": {
    "ExecuteTime": {
     "end_time": "2023-04-19T22:56:52.471361Z",
     "start_time": "2023-04-19T22:56:52.446896Z"
    },
    "scrolled": true
   },
   "outputs": [
    {
     "data": {
      "text/html": [
       "<div>\n",
       "<style scoped>\n",
       "    .dataframe tbody tr th:only-of-type {\n",
       "        vertical-align: middle;\n",
       "    }\n",
       "\n",
       "    .dataframe tbody tr th {\n",
       "        vertical-align: top;\n",
       "    }\n",
       "\n",
       "    .dataframe thead th {\n",
       "        text-align: right;\n",
       "    }\n",
       "</style>\n",
       "<table border=\"1\" class=\"dataframe\">\n",
       "  <thead>\n",
       "    <tr style=\"text-align: right;\">\n",
       "      <th></th>\n",
       "      <th>make</th>\n",
       "      <th>model</th>\n",
       "      <th>engine_type</th>\n",
       "      <th>count</th>\n",
       "      <th>make_model</th>\n",
       "    </tr>\n",
       "  </thead>\n",
       "  <tbody>\n",
       "    <tr>\n",
       "      <th>0</th>\n",
       "      <td>177MF LLC</td>\n",
       "      <td>PITTS MODEL 12</td>\n",
       "      <td>Reciprocating</td>\n",
       "      <td>1</td>\n",
       "      <td>(177MF LLC, PITTS MODEL 12)</td>\n",
       "    </tr>\n",
       "    <tr>\n",
       "      <th>1</th>\n",
       "      <td>2021FX3 LLC</td>\n",
       "      <td>CCX-2000</td>\n",
       "      <td>Reciprocating</td>\n",
       "      <td>1</td>\n",
       "      <td>(2021FX3 LLC, CCX-2000)</td>\n",
       "    </tr>\n",
       "    <tr>\n",
       "      <th>2</th>\n",
       "      <td>AB SPORTINE AVIACIJA</td>\n",
       "      <td>LAK 17</td>\n",
       "      <td>Reciprocating</td>\n",
       "      <td>1</td>\n",
       "      <td>(AB SPORTINE AVIACIJA, LAK 17)</td>\n",
       "    </tr>\n",
       "    <tr>\n",
       "      <th>3</th>\n",
       "      <td>AERO ADVENTURE</td>\n",
       "      <td>ZEPHYR II</td>\n",
       "      <td>Reciprocating</td>\n",
       "      <td>1</td>\n",
       "      <td>(AERO ADVENTURE, ZEPHYR II)</td>\n",
       "    </tr>\n",
       "    <tr>\n",
       "      <th>4</th>\n",
       "      <td>AERO AT SP ZOO</td>\n",
       "      <td>AT-4 LSA</td>\n",
       "      <td>Reciprocating</td>\n",
       "      <td>1</td>\n",
       "      <td>(AERO AT SP ZOO, AT-4 LSA)</td>\n",
       "    </tr>\n",
       "  </tbody>\n",
       "</table>\n",
       "</div>"
      ],
      "text/plain": [
       "                   make           model    engine_type  count  \\\n",
       "0             177MF LLC  PITTS MODEL 12  Reciprocating      1   \n",
       "1           2021FX3 LLC        CCX-2000  Reciprocating      1   \n",
       "2  AB SPORTINE AVIACIJA          LAK 17  Reciprocating      1   \n",
       "3        AERO ADVENTURE       ZEPHYR II  Reciprocating      1   \n",
       "4        AERO AT SP ZOO        AT-4 LSA  Reciprocating      1   \n",
       "\n",
       "                       make_model  \n",
       "0     (177MF LLC, PITTS MODEL 12)  \n",
       "1         (2021FX3 LLC, CCX-2000)  \n",
       "2  (AB SPORTINE AVIACIJA, LAK 17)  \n",
       "3     (AERO ADVENTURE, ZEPHYR II)  \n",
       "4      (AERO AT SP ZOO, AT-4 LSA)  "
      ]
     },
     "execution_count": 75,
     "metadata": {},
     "output_type": "execute_result"
    }
   ],
   "source": [
    "# Create a new column to map the data to\n",
    "engine_type_dict['make_model'] = tuple(zip(engine_type_dict['make'], engine_type_dict['model']))\n",
    "engine_type_dict.head()"
   ]
  },
  {
   "cell_type": "code",
   "execution_count": 123,
   "metadata": {
    "ExecuteTime": {
     "end_time": "2023-04-20T02:10:10.110958Z",
     "start_time": "2023-04-20T02:10:10.101787Z"
    }
   },
   "outputs": [
    {
     "data": {
      "text/plain": [
       "[('177MF LLC', 'PITTS MODEL 12'),\n",
       " ('2021FX3 LLC', 'CCX-2000'),\n",
       " ('AB SPORTINE AVIACIJA', 'LAK 17'),\n",
       " ('AERO ADVENTURE', 'ZEPHYR II'),\n",
       " ('AERO AT SP ZOO', 'AT-4 LSA')]"
      ]
     },
     "execution_count": 123,
     "metadata": {},
     "output_type": "execute_result"
    }
   ],
   "source": [
    "# Make this data frame into a map\n",
    "engine_type_map = dict(zip(engine_type_dict['make_model'], engine_type_dict['engine_type']))\n",
    "list(engine_type_map.keys())[:5]"
   ]
  },
  {
   "cell_type": "code",
   "execution_count": 77,
   "metadata": {
    "ExecuteTime": {
     "end_time": "2023-04-19T22:56:52.903466Z",
     "start_time": "2023-04-19T22:56:52.531131Z"
    },
    "scrolled": true
   },
   "outputs": [
    {
     "data": {
      "text/html": [
       "<div>\n",
       "<style scoped>\n",
       "    .dataframe tbody tr th:only-of-type {\n",
       "        vertical-align: middle;\n",
       "    }\n",
       "\n",
       "    .dataframe tbody tr th {\n",
       "        vertical-align: top;\n",
       "    }\n",
       "\n",
       "    .dataframe thead th {\n",
       "        text-align: right;\n",
       "    }\n",
       "</style>\n",
       "<table border=\"1\" class=\"dataframe\">\n",
       "  <thead>\n",
       "    <tr style=\"text-align: right;\">\n",
       "      <th></th>\n",
       "      <th>event_date</th>\n",
       "      <th>location</th>\n",
       "      <th>airport_code</th>\n",
       "      <th>airport_name</th>\n",
       "      <th>injury_severity</th>\n",
       "      <th>aircraft_damage</th>\n",
       "      <th>make</th>\n",
       "      <th>model</th>\n",
       "      <th>number_of_engines</th>\n",
       "      <th>engine_type</th>\n",
       "      <th>purpose_of_flight</th>\n",
       "      <th>total_fatal_injuries</th>\n",
       "      <th>total_serious_injuries</th>\n",
       "      <th>total_minor_injuries</th>\n",
       "      <th>total_uninjured</th>\n",
       "      <th>weather_condition</th>\n",
       "      <th>broad_phase_of_flight</th>\n",
       "      <th>engine_number_map</th>\n",
       "      <th>engine_type_map</th>\n",
       "    </tr>\n",
       "  </thead>\n",
       "  <tbody>\n",
       "    <tr>\n",
       "      <th>7</th>\n",
       "      <td>1982-01-01</td>\n",
       "      <td>PULLMAN, WA</td>\n",
       "      <td>Unknown</td>\n",
       "      <td>BLACKBURN AG STRIP</td>\n",
       "      <td>Non-Fatal</td>\n",
       "      <td>Substantial</td>\n",
       "      <td>Cessna</td>\n",
       "      <td>140</td>\n",
       "      <td>1.0</td>\n",
       "      <td>Reciprocating</td>\n",
       "      <td>Personal</td>\n",
       "      <td>0.0</td>\n",
       "      <td>0.0</td>\n",
       "      <td>0.0</td>\n",
       "      <td>2.0</td>\n",
       "      <td>VMC</td>\n",
       "      <td>Takeoff</td>\n",
       "      <td>1.0</td>\n",
       "      <td>Reciprocating</td>\n",
       "    </tr>\n",
       "    <tr>\n",
       "      <th>8</th>\n",
       "      <td>1982-01-01</td>\n",
       "      <td>EAST HANOVER, NJ</td>\n",
       "      <td>N58</td>\n",
       "      <td>HANOVER</td>\n",
       "      <td>Non-Fatal</td>\n",
       "      <td>Substantial</td>\n",
       "      <td>Cessna</td>\n",
       "      <td>401B</td>\n",
       "      <td>2.0</td>\n",
       "      <td>Reciprocating</td>\n",
       "      <td>Business</td>\n",
       "      <td>0.0</td>\n",
       "      <td>0.0</td>\n",
       "      <td>0.0</td>\n",
       "      <td>2.0</td>\n",
       "      <td>IMC</td>\n",
       "      <td>Landing</td>\n",
       "      <td>2.0</td>\n",
       "      <td>Reciprocating</td>\n",
       "    </tr>\n",
       "    <tr>\n",
       "      <th>9</th>\n",
       "      <td>1982-01-01</td>\n",
       "      <td>JACKSONVILLE, FL</td>\n",
       "      <td>JAX</td>\n",
       "      <td>JACKSONVILLE INTL</td>\n",
       "      <td>Non-Fatal</td>\n",
       "      <td>Substantial</td>\n",
       "      <td>North American</td>\n",
       "      <td>NAVION L-17B</td>\n",
       "      <td>1.0</td>\n",
       "      <td>Reciprocating</td>\n",
       "      <td>Personal</td>\n",
       "      <td>0.0</td>\n",
       "      <td>0.0</td>\n",
       "      <td>3.0</td>\n",
       "      <td>0.0</td>\n",
       "      <td>IMC</td>\n",
       "      <td>Cruise</td>\n",
       "      <td>1.0</td>\n",
       "      <td>Reciprocating</td>\n",
       "    </tr>\n",
       "    <tr>\n",
       "      <th>10</th>\n",
       "      <td>1982-01-01</td>\n",
       "      <td>HOBBS, NM</td>\n",
       "      <td>Unknown</td>\n",
       "      <td>Unknown</td>\n",
       "      <td>Non-Fatal</td>\n",
       "      <td>Substantial</td>\n",
       "      <td>Piper</td>\n",
       "      <td>PA-28-161</td>\n",
       "      <td>1.0</td>\n",
       "      <td>Reciprocating</td>\n",
       "      <td>Personal</td>\n",
       "      <td>0.0</td>\n",
       "      <td>0.0</td>\n",
       "      <td>0.0</td>\n",
       "      <td>1.0</td>\n",
       "      <td>VMC</td>\n",
       "      <td>Approach</td>\n",
       "      <td>1.0</td>\n",
       "      <td>Unknown</td>\n",
       "    </tr>\n",
       "    <tr>\n",
       "      <th>11</th>\n",
       "      <td>1982-01-01</td>\n",
       "      <td>TUSKEGEE, AL</td>\n",
       "      <td>Unknown</td>\n",
       "      <td>TUSKEGEE</td>\n",
       "      <td>Non-Fatal</td>\n",
       "      <td>Substantial</td>\n",
       "      <td>Beech</td>\n",
       "      <td>V35B</td>\n",
       "      <td>1.0</td>\n",
       "      <td>Reciprocating</td>\n",
       "      <td>Personal</td>\n",
       "      <td>0.0</td>\n",
       "      <td>0.0</td>\n",
       "      <td>0.0</td>\n",
       "      <td>1.0</td>\n",
       "      <td>VMC</td>\n",
       "      <td>Landing</td>\n",
       "      <td>1.0</td>\n",
       "      <td>Reciprocating</td>\n",
       "    </tr>\n",
       "  </tbody>\n",
       "</table>\n",
       "</div>"
      ],
      "text/plain": [
       "   event_date          location airport_code        airport_name  \\\n",
       "7  1982-01-01       PULLMAN, WA      Unknown  BLACKBURN AG STRIP   \n",
       "8  1982-01-01  EAST HANOVER, NJ          N58             HANOVER   \n",
       "9  1982-01-01  JACKSONVILLE, FL          JAX   JACKSONVILLE INTL   \n",
       "10 1982-01-01         HOBBS, NM      Unknown             Unknown   \n",
       "11 1982-01-01      TUSKEGEE, AL      Unknown            TUSKEGEE   \n",
       "\n",
       "   injury_severity aircraft_damage            make         model  \\\n",
       "7        Non-Fatal     Substantial          Cessna           140   \n",
       "8        Non-Fatal     Substantial          Cessna          401B   \n",
       "9        Non-Fatal     Substantial  North American  NAVION L-17B   \n",
       "10       Non-Fatal     Substantial           Piper     PA-28-161   \n",
       "11       Non-Fatal     Substantial           Beech          V35B   \n",
       "\n",
       "    number_of_engines    engine_type purpose_of_flight  total_fatal_injuries  \\\n",
       "7                 1.0  Reciprocating          Personal                   0.0   \n",
       "8                 2.0  Reciprocating          Business                   0.0   \n",
       "9                 1.0  Reciprocating          Personal                   0.0   \n",
       "10                1.0  Reciprocating          Personal                   0.0   \n",
       "11                1.0  Reciprocating          Personal                   0.0   \n",
       "\n",
       "    total_serious_injuries  total_minor_injuries  total_uninjured  \\\n",
       "7                      0.0                   0.0              2.0   \n",
       "8                      0.0                   0.0              2.0   \n",
       "9                      0.0                   3.0              0.0   \n",
       "10                     0.0                   0.0              1.0   \n",
       "11                     0.0                   0.0              1.0   \n",
       "\n",
       "   weather_condition broad_phase_of_flight  engine_number_map engine_type_map  \n",
       "7                VMC               Takeoff                1.0   Reciprocating  \n",
       "8                IMC               Landing                2.0   Reciprocating  \n",
       "9                IMC                Cruise                1.0   Reciprocating  \n",
       "10               VMC              Approach                1.0         Unknown  \n",
       "11               VMC               Landing                1.0   Reciprocating  "
      ]
     },
     "execution_count": 77,
     "metadata": {},
     "output_type": "execute_result"
    }
   ],
   "source": [
    "# Map the engine type to a column\n",
    "aviation_data_cleaned['engine_type_map'] = tuple(zip(aviation_data_cleaned['make'], aviation_data_cleaned['model']))\n",
    "aviation_data_cleaned['engine_type_map'] = aviation_data_cleaned['engine_type_map'].map(engine_type_map)\n",
    "aviation_data_cleaned.head()\n"
   ]
  },
  {
   "cell_type": "code",
   "execution_count": 78,
   "metadata": {
    "ExecuteTime": {
     "end_time": "2023-04-19T22:56:52.916113Z",
     "start_time": "2023-04-19T22:56:52.906588Z"
    }
   },
   "outputs": [],
   "source": [
    "# Fill the missing number of engine data with the best guess based on make and model\n",
    "aviation_data_cleaned['engine_type'].fillna(value=aviation_data_cleaned['engine_type_map'], inplace=True)"
   ]
  },
  {
   "cell_type": "code",
   "execution_count": 79,
   "metadata": {
    "ExecuteTime": {
     "end_time": "2023-04-19T22:56:52.925696Z",
     "start_time": "2023-04-19T22:56:52.919001Z"
    }
   },
   "outputs": [
    {
     "data": {
      "text/plain": [
       "781"
      ]
     },
     "execution_count": 79,
     "metadata": {},
     "output_type": "execute_result"
    }
   ],
   "source": [
    "# Check out null counts\n",
    "aviation_data_cleaned['engine_type'].isna().sum()"
   ]
  },
  {
   "cell_type": "code",
   "execution_count": 80,
   "metadata": {
    "ExecuteTime": {
     "end_time": "2023-04-19T22:56:52.949981Z",
     "start_time": "2023-04-19T22:56:52.944547Z"
    }
   },
   "outputs": [],
   "source": [
    "# We still have some null values so lets replace the rest with 'Unknown'\n",
    "aviation_data_cleaned['engine_type'].fillna(value='Unknown', inplace=True)"
   ]
  },
  {
   "cell_type": "code",
   "execution_count": 81,
   "metadata": {
    "ExecuteTime": {
     "end_time": "2023-04-19T22:56:52.960698Z",
     "start_time": "2023-04-19T22:56:52.954553Z"
    }
   },
   "outputs": [
    {
     "data": {
      "text/plain": [
       "0"
      ]
     },
     "execution_count": 81,
     "metadata": {},
     "output_type": "execute_result"
    }
   ],
   "source": [
    "# Check out null counts\n",
    "aviation_data_cleaned['engine_type'].isna().sum()"
   ]
  },
  {
   "cell_type": "code",
   "execution_count": 82,
   "metadata": {
    "ExecuteTime": {
     "end_time": "2023-04-19T22:56:52.987569Z",
     "start_time": "2023-04-19T22:56:52.964714Z"
    }
   },
   "outputs": [],
   "source": [
    "# Drop Extra Columns\n",
    "aviation_data_cleaned.drop(columns=['engine_number_map', 'engine_type_map'], inplace=True)"
   ]
  },
  {
   "cell_type": "code",
   "execution_count": 83,
   "metadata": {
    "ExecuteTime": {
     "end_time": "2023-04-19T22:56:53.025298Z",
     "start_time": "2023-04-19T22:56:52.989558Z"
    },
    "scrolled": true
   },
   "outputs": [
    {
     "data": {
      "text/plain": [
       "event_date                0\n",
       "location                  0\n",
       "airport_code              0\n",
       "airport_name              0\n",
       "injury_severity           0\n",
       "aircraft_damage           0\n",
       "make                      0\n",
       "model                     0\n",
       "number_of_engines         0\n",
       "engine_type               0\n",
       "purpose_of_flight         0\n",
       "total_fatal_injuries      0\n",
       "total_serious_injuries    0\n",
       "total_minor_injuries      0\n",
       "total_uninjured           0\n",
       "weather_condition         0\n",
       "broad_phase_of_flight     0\n",
       "dtype: int64"
      ]
     },
     "execution_count": 83,
     "metadata": {},
     "output_type": "execute_result"
    }
   ],
   "source": [
    "# Check out null counts for dataset\n",
    "aviation_data_cleaned.isna().sum()"
   ]
  },
  {
   "cell_type": "code",
   "execution_count": 84,
   "metadata": {
    "ExecuteTime": {
     "end_time": "2023-04-19T22:56:53.054336Z",
     "start_time": "2023-04-19T22:56:53.029904Z"
    },
    "scrolled": false
   },
   "outputs": [
    {
     "data": {
      "text/html": [
       "<div>\n",
       "<style scoped>\n",
       "    .dataframe tbody tr th:only-of-type {\n",
       "        vertical-align: middle;\n",
       "    }\n",
       "\n",
       "    .dataframe tbody tr th {\n",
       "        vertical-align: top;\n",
       "    }\n",
       "\n",
       "    .dataframe thead th {\n",
       "        text-align: right;\n",
       "    }\n",
       "</style>\n",
       "<table border=\"1\" class=\"dataframe\">\n",
       "  <thead>\n",
       "    <tr style=\"text-align: right;\">\n",
       "      <th></th>\n",
       "      <th>event_date</th>\n",
       "      <th>location</th>\n",
       "      <th>airport_code</th>\n",
       "      <th>airport_name</th>\n",
       "      <th>injury_severity</th>\n",
       "      <th>aircraft_damage</th>\n",
       "      <th>make</th>\n",
       "      <th>model</th>\n",
       "      <th>number_of_engines</th>\n",
       "      <th>engine_type</th>\n",
       "      <th>purpose_of_flight</th>\n",
       "      <th>total_fatal_injuries</th>\n",
       "      <th>total_serious_injuries</th>\n",
       "      <th>total_minor_injuries</th>\n",
       "      <th>total_uninjured</th>\n",
       "      <th>weather_condition</th>\n",
       "      <th>broad_phase_of_flight</th>\n",
       "    </tr>\n",
       "  </thead>\n",
       "  <tbody>\n",
       "    <tr>\n",
       "      <th>7</th>\n",
       "      <td>1982-01-01</td>\n",
       "      <td>PULLMAN, WA</td>\n",
       "      <td>Unknown</td>\n",
       "      <td>BLACKBURN AG STRIP</td>\n",
       "      <td>Non-Fatal</td>\n",
       "      <td>Substantial</td>\n",
       "      <td>Cessna</td>\n",
       "      <td>140</td>\n",
       "      <td>1.0</td>\n",
       "      <td>Reciprocating</td>\n",
       "      <td>Personal</td>\n",
       "      <td>0.0</td>\n",
       "      <td>0.0</td>\n",
       "      <td>0.0</td>\n",
       "      <td>2.0</td>\n",
       "      <td>VMC</td>\n",
       "      <td>Takeoff</td>\n",
       "    </tr>\n",
       "    <tr>\n",
       "      <th>8</th>\n",
       "      <td>1982-01-01</td>\n",
       "      <td>EAST HANOVER, NJ</td>\n",
       "      <td>N58</td>\n",
       "      <td>HANOVER</td>\n",
       "      <td>Non-Fatal</td>\n",
       "      <td>Substantial</td>\n",
       "      <td>Cessna</td>\n",
       "      <td>401B</td>\n",
       "      <td>2.0</td>\n",
       "      <td>Reciprocating</td>\n",
       "      <td>Business</td>\n",
       "      <td>0.0</td>\n",
       "      <td>0.0</td>\n",
       "      <td>0.0</td>\n",
       "      <td>2.0</td>\n",
       "      <td>IMC</td>\n",
       "      <td>Landing</td>\n",
       "    </tr>\n",
       "    <tr>\n",
       "      <th>9</th>\n",
       "      <td>1982-01-01</td>\n",
       "      <td>JACKSONVILLE, FL</td>\n",
       "      <td>JAX</td>\n",
       "      <td>JACKSONVILLE INTL</td>\n",
       "      <td>Non-Fatal</td>\n",
       "      <td>Substantial</td>\n",
       "      <td>North American</td>\n",
       "      <td>NAVION L-17B</td>\n",
       "      <td>1.0</td>\n",
       "      <td>Reciprocating</td>\n",
       "      <td>Personal</td>\n",
       "      <td>0.0</td>\n",
       "      <td>0.0</td>\n",
       "      <td>3.0</td>\n",
       "      <td>0.0</td>\n",
       "      <td>IMC</td>\n",
       "      <td>Cruise</td>\n",
       "    </tr>\n",
       "    <tr>\n",
       "      <th>10</th>\n",
       "      <td>1982-01-01</td>\n",
       "      <td>HOBBS, NM</td>\n",
       "      <td>Unknown</td>\n",
       "      <td>Unknown</td>\n",
       "      <td>Non-Fatal</td>\n",
       "      <td>Substantial</td>\n",
       "      <td>Piper</td>\n",
       "      <td>PA-28-161</td>\n",
       "      <td>1.0</td>\n",
       "      <td>Reciprocating</td>\n",
       "      <td>Personal</td>\n",
       "      <td>0.0</td>\n",
       "      <td>0.0</td>\n",
       "      <td>0.0</td>\n",
       "      <td>1.0</td>\n",
       "      <td>VMC</td>\n",
       "      <td>Approach</td>\n",
       "    </tr>\n",
       "    <tr>\n",
       "      <th>11</th>\n",
       "      <td>1982-01-01</td>\n",
       "      <td>TUSKEGEE, AL</td>\n",
       "      <td>Unknown</td>\n",
       "      <td>TUSKEGEE</td>\n",
       "      <td>Non-Fatal</td>\n",
       "      <td>Substantial</td>\n",
       "      <td>Beech</td>\n",
       "      <td>V35B</td>\n",
       "      <td>1.0</td>\n",
       "      <td>Reciprocating</td>\n",
       "      <td>Personal</td>\n",
       "      <td>0.0</td>\n",
       "      <td>0.0</td>\n",
       "      <td>0.0</td>\n",
       "      <td>1.0</td>\n",
       "      <td>VMC</td>\n",
       "      <td>Landing</td>\n",
       "    </tr>\n",
       "    <tr>\n",
       "      <th>...</th>\n",
       "      <td>...</td>\n",
       "      <td>...</td>\n",
       "      <td>...</td>\n",
       "      <td>...</td>\n",
       "      <td>...</td>\n",
       "      <td>...</td>\n",
       "      <td>...</td>\n",
       "      <td>...</td>\n",
       "      <td>...</td>\n",
       "      <td>...</td>\n",
       "      <td>...</td>\n",
       "      <td>...</td>\n",
       "      <td>...</td>\n",
       "      <td>...</td>\n",
       "      <td>...</td>\n",
       "      <td>...</td>\n",
       "      <td>...</td>\n",
       "    </tr>\n",
       "    <tr>\n",
       "      <th>90340</th>\n",
       "      <td>2022-12-21</td>\n",
       "      <td>Auburn Hills, MI</td>\n",
       "      <td>Unknown</td>\n",
       "      <td>Unknown</td>\n",
       "      <td>Minor</td>\n",
       "      <td>Unknown</td>\n",
       "      <td>CESSNA</td>\n",
       "      <td>172F</td>\n",
       "      <td>1.0</td>\n",
       "      <td>Reciprocating</td>\n",
       "      <td>Personal</td>\n",
       "      <td>0.0</td>\n",
       "      <td>1.0</td>\n",
       "      <td>0.0</td>\n",
       "      <td>0.0</td>\n",
       "      <td>Unknown</td>\n",
       "      <td>Unknown</td>\n",
       "    </tr>\n",
       "    <tr>\n",
       "      <th>90341</th>\n",
       "      <td>2022-12-21</td>\n",
       "      <td>Reserve, LA</td>\n",
       "      <td>Unknown</td>\n",
       "      <td>Unknown</td>\n",
       "      <td>Minor</td>\n",
       "      <td>Unknown</td>\n",
       "      <td>GRUMMAN AMERICAN AVN. CORP.</td>\n",
       "      <td>AA-5B</td>\n",
       "      <td>1.0</td>\n",
       "      <td>Reciprocating</td>\n",
       "      <td>Instructional</td>\n",
       "      <td>0.0</td>\n",
       "      <td>1.0</td>\n",
       "      <td>0.0</td>\n",
       "      <td>1.0</td>\n",
       "      <td>Unknown</td>\n",
       "      <td>Unknown</td>\n",
       "    </tr>\n",
       "    <tr>\n",
       "      <th>90343</th>\n",
       "      <td>2022-12-26</td>\n",
       "      <td>Annapolis, MD</td>\n",
       "      <td>Unknown</td>\n",
       "      <td>Unknown</td>\n",
       "      <td>Minor</td>\n",
       "      <td>Unknown</td>\n",
       "      <td>PIPER</td>\n",
       "      <td>PA-28-151</td>\n",
       "      <td>1.0</td>\n",
       "      <td>Reciprocating</td>\n",
       "      <td>Personal</td>\n",
       "      <td>0.0</td>\n",
       "      <td>1.0</td>\n",
       "      <td>0.0</td>\n",
       "      <td>0.0</td>\n",
       "      <td>Unknown</td>\n",
       "      <td>Unknown</td>\n",
       "    </tr>\n",
       "    <tr>\n",
       "      <th>90345</th>\n",
       "      <td>2022-12-26</td>\n",
       "      <td>Payson, AZ</td>\n",
       "      <td>PAN</td>\n",
       "      <td>PAYSON</td>\n",
       "      <td>Non-Fatal</td>\n",
       "      <td>Substantial</td>\n",
       "      <td>AMERICAN CHAMPION AIRCRAFT</td>\n",
       "      <td>8GCBC</td>\n",
       "      <td>1.0</td>\n",
       "      <td>Reciprocating</td>\n",
       "      <td>Personal</td>\n",
       "      <td>0.0</td>\n",
       "      <td>0.0</td>\n",
       "      <td>0.0</td>\n",
       "      <td>1.0</td>\n",
       "      <td>VMC</td>\n",
       "      <td>Unknown</td>\n",
       "    </tr>\n",
       "    <tr>\n",
       "      <th>90347</th>\n",
       "      <td>2022-12-29</td>\n",
       "      <td>Athens, GA</td>\n",
       "      <td>Unknown</td>\n",
       "      <td>Unknown</td>\n",
       "      <td>Minor</td>\n",
       "      <td>Unknown</td>\n",
       "      <td>PIPER</td>\n",
       "      <td>PA-24-260</td>\n",
       "      <td>1.0</td>\n",
       "      <td>Reciprocating</td>\n",
       "      <td>Personal</td>\n",
       "      <td>0.0</td>\n",
       "      <td>1.0</td>\n",
       "      <td>0.0</td>\n",
       "      <td>1.0</td>\n",
       "      <td>Unknown</td>\n",
       "      <td>Unknown</td>\n",
       "    </tr>\n",
       "  </tbody>\n",
       "</table>\n",
       "<p>70245 rows × 17 columns</p>\n",
       "</div>"
      ],
      "text/plain": [
       "      event_date          location airport_code        airport_name  \\\n",
       "7     1982-01-01       PULLMAN, WA      Unknown  BLACKBURN AG STRIP   \n",
       "8     1982-01-01  EAST HANOVER, NJ          N58             HANOVER   \n",
       "9     1982-01-01  JACKSONVILLE, FL          JAX   JACKSONVILLE INTL   \n",
       "10    1982-01-01         HOBBS, NM      Unknown             Unknown   \n",
       "11    1982-01-01      TUSKEGEE, AL      Unknown            TUSKEGEE   \n",
       "...          ...               ...          ...                 ...   \n",
       "90340 2022-12-21  Auburn Hills, MI      Unknown             Unknown   \n",
       "90341 2022-12-21       Reserve, LA      Unknown             Unknown   \n",
       "90343 2022-12-26     Annapolis, MD      Unknown             Unknown   \n",
       "90345 2022-12-26        Payson, AZ          PAN              PAYSON   \n",
       "90347 2022-12-29        Athens, GA      Unknown             Unknown   \n",
       "\n",
       "      injury_severity aircraft_damage                         make  \\\n",
       "7           Non-Fatal     Substantial                       Cessna   \n",
       "8           Non-Fatal     Substantial                       Cessna   \n",
       "9           Non-Fatal     Substantial               North American   \n",
       "10          Non-Fatal     Substantial                        Piper   \n",
       "11          Non-Fatal     Substantial                        Beech   \n",
       "...               ...             ...                          ...   \n",
       "90340           Minor         Unknown                       CESSNA   \n",
       "90341           Minor         Unknown  GRUMMAN AMERICAN AVN. CORP.   \n",
       "90343           Minor         Unknown                        PIPER   \n",
       "90345       Non-Fatal     Substantial   AMERICAN CHAMPION AIRCRAFT   \n",
       "90347           Minor         Unknown                        PIPER   \n",
       "\n",
       "              model  number_of_engines    engine_type purpose_of_flight  \\\n",
       "7               140                1.0  Reciprocating          Personal   \n",
       "8              401B                2.0  Reciprocating          Business   \n",
       "9      NAVION L-17B                1.0  Reciprocating          Personal   \n",
       "10        PA-28-161                1.0  Reciprocating          Personal   \n",
       "11             V35B                1.0  Reciprocating          Personal   \n",
       "...             ...                ...            ...               ...   \n",
       "90340          172F                1.0  Reciprocating          Personal   \n",
       "90341         AA-5B                1.0  Reciprocating     Instructional   \n",
       "90343     PA-28-151                1.0  Reciprocating          Personal   \n",
       "90345         8GCBC                1.0  Reciprocating          Personal   \n",
       "90347     PA-24-260                1.0  Reciprocating          Personal   \n",
       "\n",
       "       total_fatal_injuries  total_serious_injuries  total_minor_injuries  \\\n",
       "7                       0.0                     0.0                   0.0   \n",
       "8                       0.0                     0.0                   0.0   \n",
       "9                       0.0                     0.0                   3.0   \n",
       "10                      0.0                     0.0                   0.0   \n",
       "11                      0.0                     0.0                   0.0   \n",
       "...                     ...                     ...                   ...   \n",
       "90340                   0.0                     1.0                   0.0   \n",
       "90341                   0.0                     1.0                   0.0   \n",
       "90343                   0.0                     1.0                   0.0   \n",
       "90345                   0.0                     0.0                   0.0   \n",
       "90347                   0.0                     1.0                   0.0   \n",
       "\n",
       "       total_uninjured weather_condition broad_phase_of_flight  \n",
       "7                  2.0               VMC               Takeoff  \n",
       "8                  2.0               IMC               Landing  \n",
       "9                  0.0               IMC                Cruise  \n",
       "10                 1.0               VMC              Approach  \n",
       "11                 1.0               VMC               Landing  \n",
       "...                ...               ...                   ...  \n",
       "90340              0.0           Unknown               Unknown  \n",
       "90341              1.0           Unknown               Unknown  \n",
       "90343              0.0           Unknown               Unknown  \n",
       "90345              1.0               VMC               Unknown  \n",
       "90347              1.0           Unknown               Unknown  \n",
       "\n",
       "[70245 rows x 17 columns]"
      ]
     },
     "execution_count": 84,
     "metadata": {},
     "output_type": "execute_result"
    }
   ],
   "source": [
    "# Check out our dataset after filling in NaNs\n",
    "aviation_data_cleaned"
   ]
  },
  {
   "cell_type": "code",
   "execution_count": 85,
   "metadata": {
    "ExecuteTime": {
     "end_time": "2023-04-19T22:56:53.081755Z",
     "start_time": "2023-04-19T22:56:53.056309Z"
    }
   },
   "outputs": [
    {
     "data": {
      "text/html": [
       "<div>\n",
       "<style scoped>\n",
       "    .dataframe tbody tr th:only-of-type {\n",
       "        vertical-align: middle;\n",
       "    }\n",
       "\n",
       "    .dataframe tbody tr th {\n",
       "        vertical-align: top;\n",
       "    }\n",
       "\n",
       "    .dataframe thead th {\n",
       "        text-align: right;\n",
       "    }\n",
       "</style>\n",
       "<table border=\"1\" class=\"dataframe\">\n",
       "  <thead>\n",
       "    <tr style=\"text-align: right;\">\n",
       "      <th></th>\n",
       "      <th>event_date</th>\n",
       "      <th>location</th>\n",
       "      <th>airport_code</th>\n",
       "      <th>airport_name</th>\n",
       "      <th>injury_severity</th>\n",
       "      <th>aircraft_damage</th>\n",
       "      <th>make</th>\n",
       "      <th>model</th>\n",
       "      <th>number_of_engines</th>\n",
       "      <th>engine_type</th>\n",
       "      <th>purpose_of_flight</th>\n",
       "      <th>total_fatal_injuries</th>\n",
       "      <th>total_serious_injuries</th>\n",
       "      <th>total_minor_injuries</th>\n",
       "      <th>total_uninjured</th>\n",
       "      <th>weather_condition</th>\n",
       "      <th>broad_phase_of_flight</th>\n",
       "    </tr>\n",
       "  </thead>\n",
       "  <tbody>\n",
       "    <tr>\n",
       "      <th>7</th>\n",
       "      <td>1982-01-01</td>\n",
       "      <td>PULLMAN, WA</td>\n",
       "      <td>Unknown</td>\n",
       "      <td>BLACKBURN AG STRIP</td>\n",
       "      <td>Non-Fatal</td>\n",
       "      <td>Substantial</td>\n",
       "      <td>Cessna</td>\n",
       "      <td>140</td>\n",
       "      <td>1.0</td>\n",
       "      <td>Reciprocating</td>\n",
       "      <td>Personal</td>\n",
       "      <td>0.0</td>\n",
       "      <td>0.0</td>\n",
       "      <td>0.0</td>\n",
       "      <td>2.0</td>\n",
       "      <td>VMC</td>\n",
       "      <td>Takeoff</td>\n",
       "    </tr>\n",
       "    <tr>\n",
       "      <th>8</th>\n",
       "      <td>1982-01-01</td>\n",
       "      <td>EAST HANOVER, NJ</td>\n",
       "      <td>N58</td>\n",
       "      <td>HANOVER</td>\n",
       "      <td>Non-Fatal</td>\n",
       "      <td>Substantial</td>\n",
       "      <td>Cessna</td>\n",
       "      <td>401B</td>\n",
       "      <td>2.0</td>\n",
       "      <td>Reciprocating</td>\n",
       "      <td>Business</td>\n",
       "      <td>0.0</td>\n",
       "      <td>0.0</td>\n",
       "      <td>0.0</td>\n",
       "      <td>2.0</td>\n",
       "      <td>IMC</td>\n",
       "      <td>Landing</td>\n",
       "    </tr>\n",
       "    <tr>\n",
       "      <th>9</th>\n",
       "      <td>1982-01-01</td>\n",
       "      <td>JACKSONVILLE, FL</td>\n",
       "      <td>JAX</td>\n",
       "      <td>JACKSONVILLE INTL</td>\n",
       "      <td>Non-Fatal</td>\n",
       "      <td>Substantial</td>\n",
       "      <td>North American</td>\n",
       "      <td>NAVION L-17B</td>\n",
       "      <td>1.0</td>\n",
       "      <td>Reciprocating</td>\n",
       "      <td>Personal</td>\n",
       "      <td>0.0</td>\n",
       "      <td>0.0</td>\n",
       "      <td>3.0</td>\n",
       "      <td>0.0</td>\n",
       "      <td>IMC</td>\n",
       "      <td>Cruise</td>\n",
       "    </tr>\n",
       "    <tr>\n",
       "      <th>10</th>\n",
       "      <td>1982-01-01</td>\n",
       "      <td>HOBBS, NM</td>\n",
       "      <td>Unknown</td>\n",
       "      <td>Unknown</td>\n",
       "      <td>Non-Fatal</td>\n",
       "      <td>Substantial</td>\n",
       "      <td>Piper</td>\n",
       "      <td>PA-28-161</td>\n",
       "      <td>1.0</td>\n",
       "      <td>Reciprocating</td>\n",
       "      <td>Personal</td>\n",
       "      <td>0.0</td>\n",
       "      <td>0.0</td>\n",
       "      <td>0.0</td>\n",
       "      <td>1.0</td>\n",
       "      <td>VMC</td>\n",
       "      <td>Approach</td>\n",
       "    </tr>\n",
       "    <tr>\n",
       "      <th>11</th>\n",
       "      <td>1982-01-01</td>\n",
       "      <td>TUSKEGEE, AL</td>\n",
       "      <td>Unknown</td>\n",
       "      <td>TUSKEGEE</td>\n",
       "      <td>Non-Fatal</td>\n",
       "      <td>Substantial</td>\n",
       "      <td>Beech</td>\n",
       "      <td>V35B</td>\n",
       "      <td>1.0</td>\n",
       "      <td>Reciprocating</td>\n",
       "      <td>Personal</td>\n",
       "      <td>0.0</td>\n",
       "      <td>0.0</td>\n",
       "      <td>0.0</td>\n",
       "      <td>1.0</td>\n",
       "      <td>VMC</td>\n",
       "      <td>Landing</td>\n",
       "    </tr>\n",
       "    <tr>\n",
       "      <th>...</th>\n",
       "      <td>...</td>\n",
       "      <td>...</td>\n",
       "      <td>...</td>\n",
       "      <td>...</td>\n",
       "      <td>...</td>\n",
       "      <td>...</td>\n",
       "      <td>...</td>\n",
       "      <td>...</td>\n",
       "      <td>...</td>\n",
       "      <td>...</td>\n",
       "      <td>...</td>\n",
       "      <td>...</td>\n",
       "      <td>...</td>\n",
       "      <td>...</td>\n",
       "      <td>...</td>\n",
       "      <td>...</td>\n",
       "      <td>...</td>\n",
       "    </tr>\n",
       "    <tr>\n",
       "      <th>90340</th>\n",
       "      <td>2022-12-21</td>\n",
       "      <td>Auburn Hills, MI</td>\n",
       "      <td>Unknown</td>\n",
       "      <td>Unknown</td>\n",
       "      <td>Minor</td>\n",
       "      <td>Unknown</td>\n",
       "      <td>CESSNA</td>\n",
       "      <td>172F</td>\n",
       "      <td>1.0</td>\n",
       "      <td>Reciprocating</td>\n",
       "      <td>Personal</td>\n",
       "      <td>0.0</td>\n",
       "      <td>1.0</td>\n",
       "      <td>0.0</td>\n",
       "      <td>0.0</td>\n",
       "      <td>Unknown</td>\n",
       "      <td>Unknown</td>\n",
       "    </tr>\n",
       "    <tr>\n",
       "      <th>90341</th>\n",
       "      <td>2022-12-21</td>\n",
       "      <td>Reserve, LA</td>\n",
       "      <td>Unknown</td>\n",
       "      <td>Unknown</td>\n",
       "      <td>Minor</td>\n",
       "      <td>Unknown</td>\n",
       "      <td>GRUMMAN AMERICAN AVN. CORP.</td>\n",
       "      <td>AA-5B</td>\n",
       "      <td>1.0</td>\n",
       "      <td>Reciprocating</td>\n",
       "      <td>Instructional</td>\n",
       "      <td>0.0</td>\n",
       "      <td>1.0</td>\n",
       "      <td>0.0</td>\n",
       "      <td>1.0</td>\n",
       "      <td>Unknown</td>\n",
       "      <td>Unknown</td>\n",
       "    </tr>\n",
       "    <tr>\n",
       "      <th>90343</th>\n",
       "      <td>2022-12-26</td>\n",
       "      <td>Annapolis, MD</td>\n",
       "      <td>Unknown</td>\n",
       "      <td>Unknown</td>\n",
       "      <td>Minor</td>\n",
       "      <td>Unknown</td>\n",
       "      <td>PIPER</td>\n",
       "      <td>PA-28-151</td>\n",
       "      <td>1.0</td>\n",
       "      <td>Reciprocating</td>\n",
       "      <td>Personal</td>\n",
       "      <td>0.0</td>\n",
       "      <td>1.0</td>\n",
       "      <td>0.0</td>\n",
       "      <td>0.0</td>\n",
       "      <td>Unknown</td>\n",
       "      <td>Unknown</td>\n",
       "    </tr>\n",
       "    <tr>\n",
       "      <th>90345</th>\n",
       "      <td>2022-12-26</td>\n",
       "      <td>Payson, AZ</td>\n",
       "      <td>PAN</td>\n",
       "      <td>PAYSON</td>\n",
       "      <td>Non-Fatal</td>\n",
       "      <td>Substantial</td>\n",
       "      <td>AMERICAN CHAMPION AIRCRAFT</td>\n",
       "      <td>8GCBC</td>\n",
       "      <td>1.0</td>\n",
       "      <td>Reciprocating</td>\n",
       "      <td>Personal</td>\n",
       "      <td>0.0</td>\n",
       "      <td>0.0</td>\n",
       "      <td>0.0</td>\n",
       "      <td>1.0</td>\n",
       "      <td>VMC</td>\n",
       "      <td>Unknown</td>\n",
       "    </tr>\n",
       "    <tr>\n",
       "      <th>90347</th>\n",
       "      <td>2022-12-29</td>\n",
       "      <td>Athens, GA</td>\n",
       "      <td>Unknown</td>\n",
       "      <td>Unknown</td>\n",
       "      <td>Minor</td>\n",
       "      <td>Unknown</td>\n",
       "      <td>PIPER</td>\n",
       "      <td>PA-24-260</td>\n",
       "      <td>1.0</td>\n",
       "      <td>Reciprocating</td>\n",
       "      <td>Personal</td>\n",
       "      <td>0.0</td>\n",
       "      <td>1.0</td>\n",
       "      <td>0.0</td>\n",
       "      <td>1.0</td>\n",
       "      <td>Unknown</td>\n",
       "      <td>Unknown</td>\n",
       "    </tr>\n",
       "  </tbody>\n",
       "</table>\n",
       "<p>70245 rows × 17 columns</p>\n",
       "</div>"
      ],
      "text/plain": [
       "      event_date          location airport_code        airport_name  \\\n",
       "7     1982-01-01       PULLMAN, WA      Unknown  BLACKBURN AG STRIP   \n",
       "8     1982-01-01  EAST HANOVER, NJ          N58             HANOVER   \n",
       "9     1982-01-01  JACKSONVILLE, FL          JAX   JACKSONVILLE INTL   \n",
       "10    1982-01-01         HOBBS, NM      Unknown             Unknown   \n",
       "11    1982-01-01      TUSKEGEE, AL      Unknown            TUSKEGEE   \n",
       "...          ...               ...          ...                 ...   \n",
       "90340 2022-12-21  Auburn Hills, MI      Unknown             Unknown   \n",
       "90341 2022-12-21       Reserve, LA      Unknown             Unknown   \n",
       "90343 2022-12-26     Annapolis, MD      Unknown             Unknown   \n",
       "90345 2022-12-26        Payson, AZ          PAN              PAYSON   \n",
       "90347 2022-12-29        Athens, GA      Unknown             Unknown   \n",
       "\n",
       "      injury_severity aircraft_damage                         make  \\\n",
       "7           Non-Fatal     Substantial                       Cessna   \n",
       "8           Non-Fatal     Substantial                       Cessna   \n",
       "9           Non-Fatal     Substantial               North American   \n",
       "10          Non-Fatal     Substantial                        Piper   \n",
       "11          Non-Fatal     Substantial                        Beech   \n",
       "...               ...             ...                          ...   \n",
       "90340           Minor         Unknown                       CESSNA   \n",
       "90341           Minor         Unknown  GRUMMAN AMERICAN AVN. CORP.   \n",
       "90343           Minor         Unknown                        PIPER   \n",
       "90345       Non-Fatal     Substantial   AMERICAN CHAMPION AIRCRAFT   \n",
       "90347           Minor         Unknown                        PIPER   \n",
       "\n",
       "              model  number_of_engines    engine_type purpose_of_flight  \\\n",
       "7               140                1.0  Reciprocating          Personal   \n",
       "8              401B                2.0  Reciprocating          Business   \n",
       "9      NAVION L-17B                1.0  Reciprocating          Personal   \n",
       "10        PA-28-161                1.0  Reciprocating          Personal   \n",
       "11             V35B                1.0  Reciprocating          Personal   \n",
       "...             ...                ...            ...               ...   \n",
       "90340          172F                1.0  Reciprocating          Personal   \n",
       "90341         AA-5B                1.0  Reciprocating     Instructional   \n",
       "90343     PA-28-151                1.0  Reciprocating          Personal   \n",
       "90345         8GCBC                1.0  Reciprocating          Personal   \n",
       "90347     PA-24-260                1.0  Reciprocating          Personal   \n",
       "\n",
       "       total_fatal_injuries  total_serious_injuries  total_minor_injuries  \\\n",
       "7                       0.0                     0.0                   0.0   \n",
       "8                       0.0                     0.0                   0.0   \n",
       "9                       0.0                     0.0                   3.0   \n",
       "10                      0.0                     0.0                   0.0   \n",
       "11                      0.0                     0.0                   0.0   \n",
       "...                     ...                     ...                   ...   \n",
       "90340                   0.0                     1.0                   0.0   \n",
       "90341                   0.0                     1.0                   0.0   \n",
       "90343                   0.0                     1.0                   0.0   \n",
       "90345                   0.0                     0.0                   0.0   \n",
       "90347                   0.0                     1.0                   0.0   \n",
       "\n",
       "       total_uninjured weather_condition broad_phase_of_flight  \n",
       "7                  2.0               VMC               Takeoff  \n",
       "8                  2.0               IMC               Landing  \n",
       "9                  0.0               IMC                Cruise  \n",
       "10                 1.0               VMC              Approach  \n",
       "11                 1.0               VMC               Landing  \n",
       "...                ...               ...                   ...  \n",
       "90340              0.0           Unknown               Unknown  \n",
       "90341              1.0           Unknown               Unknown  \n",
       "90343              0.0           Unknown               Unknown  \n",
       "90345              1.0               VMC               Unknown  \n",
       "90347              1.0           Unknown               Unknown  \n",
       "\n",
       "[70245 rows x 17 columns]"
      ]
     },
     "execution_count": 85,
     "metadata": {},
     "output_type": "execute_result"
    }
   ],
   "source": [
    "aviation_data_cleaned"
   ]
  },
  {
   "cell_type": "markdown",
   "metadata": {},
   "source": [
    "## Creating New Columns"
   ]
  },
  {
   "cell_type": "markdown",
   "metadata": {},
   "source": [
    "The first column we will create will be the passenger count collumn. We will be assuming that:\n",
    "- Passenger Count = [Total Injured] + [Total Uninjured]"
   ]
  },
  {
   "cell_type": "code",
   "execution_count": 86,
   "metadata": {
    "ExecuteTime": {
     "end_time": "2023-04-19T22:56:53.098753Z",
     "start_time": "2023-04-19T22:56:53.084429Z"
    }
   },
   "outputs": [],
   "source": [
    "aviation_data_cleaned['passenger_count'] = aviation_data_cleaned[['total_fatal_injuries','total_serious_injuries','total_minor_injuries','total_uninjured']].sum(axis=1)"
   ]
  },
  {
   "cell_type": "code",
   "execution_count": 87,
   "metadata": {
    "ExecuteTime": {
     "end_time": "2023-04-19T22:56:53.131463Z",
     "start_time": "2023-04-19T22:56:53.102211Z"
    }
   },
   "outputs": [
    {
     "data": {
      "text/html": [
       "<div>\n",
       "<style scoped>\n",
       "    .dataframe tbody tr th:only-of-type {\n",
       "        vertical-align: middle;\n",
       "    }\n",
       "\n",
       "    .dataframe tbody tr th {\n",
       "        vertical-align: top;\n",
       "    }\n",
       "\n",
       "    .dataframe thead th {\n",
       "        text-align: right;\n",
       "    }\n",
       "</style>\n",
       "<table border=\"1\" class=\"dataframe\">\n",
       "  <thead>\n",
       "    <tr style=\"text-align: right;\">\n",
       "      <th></th>\n",
       "      <th>event_date</th>\n",
       "      <th>location</th>\n",
       "      <th>airport_code</th>\n",
       "      <th>airport_name</th>\n",
       "      <th>injury_severity</th>\n",
       "      <th>aircraft_damage</th>\n",
       "      <th>make</th>\n",
       "      <th>model</th>\n",
       "      <th>number_of_engines</th>\n",
       "      <th>engine_type</th>\n",
       "      <th>purpose_of_flight</th>\n",
       "      <th>total_fatal_injuries</th>\n",
       "      <th>total_serious_injuries</th>\n",
       "      <th>total_minor_injuries</th>\n",
       "      <th>total_uninjured</th>\n",
       "      <th>weather_condition</th>\n",
       "      <th>broad_phase_of_flight</th>\n",
       "      <th>passenger_count</th>\n",
       "    </tr>\n",
       "  </thead>\n",
       "  <tbody>\n",
       "    <tr>\n",
       "      <th>7</th>\n",
       "      <td>1982-01-01</td>\n",
       "      <td>PULLMAN, WA</td>\n",
       "      <td>Unknown</td>\n",
       "      <td>BLACKBURN AG STRIP</td>\n",
       "      <td>Non-Fatal</td>\n",
       "      <td>Substantial</td>\n",
       "      <td>Cessna</td>\n",
       "      <td>140</td>\n",
       "      <td>1.0</td>\n",
       "      <td>Reciprocating</td>\n",
       "      <td>Personal</td>\n",
       "      <td>0.0</td>\n",
       "      <td>0.0</td>\n",
       "      <td>0.0</td>\n",
       "      <td>2.0</td>\n",
       "      <td>VMC</td>\n",
       "      <td>Takeoff</td>\n",
       "      <td>2.0</td>\n",
       "    </tr>\n",
       "    <tr>\n",
       "      <th>8</th>\n",
       "      <td>1982-01-01</td>\n",
       "      <td>EAST HANOVER, NJ</td>\n",
       "      <td>N58</td>\n",
       "      <td>HANOVER</td>\n",
       "      <td>Non-Fatal</td>\n",
       "      <td>Substantial</td>\n",
       "      <td>Cessna</td>\n",
       "      <td>401B</td>\n",
       "      <td>2.0</td>\n",
       "      <td>Reciprocating</td>\n",
       "      <td>Business</td>\n",
       "      <td>0.0</td>\n",
       "      <td>0.0</td>\n",
       "      <td>0.0</td>\n",
       "      <td>2.0</td>\n",
       "      <td>IMC</td>\n",
       "      <td>Landing</td>\n",
       "      <td>2.0</td>\n",
       "    </tr>\n",
       "    <tr>\n",
       "      <th>9</th>\n",
       "      <td>1982-01-01</td>\n",
       "      <td>JACKSONVILLE, FL</td>\n",
       "      <td>JAX</td>\n",
       "      <td>JACKSONVILLE INTL</td>\n",
       "      <td>Non-Fatal</td>\n",
       "      <td>Substantial</td>\n",
       "      <td>North American</td>\n",
       "      <td>NAVION L-17B</td>\n",
       "      <td>1.0</td>\n",
       "      <td>Reciprocating</td>\n",
       "      <td>Personal</td>\n",
       "      <td>0.0</td>\n",
       "      <td>0.0</td>\n",
       "      <td>3.0</td>\n",
       "      <td>0.0</td>\n",
       "      <td>IMC</td>\n",
       "      <td>Cruise</td>\n",
       "      <td>3.0</td>\n",
       "    </tr>\n",
       "    <tr>\n",
       "      <th>10</th>\n",
       "      <td>1982-01-01</td>\n",
       "      <td>HOBBS, NM</td>\n",
       "      <td>Unknown</td>\n",
       "      <td>Unknown</td>\n",
       "      <td>Non-Fatal</td>\n",
       "      <td>Substantial</td>\n",
       "      <td>Piper</td>\n",
       "      <td>PA-28-161</td>\n",
       "      <td>1.0</td>\n",
       "      <td>Reciprocating</td>\n",
       "      <td>Personal</td>\n",
       "      <td>0.0</td>\n",
       "      <td>0.0</td>\n",
       "      <td>0.0</td>\n",
       "      <td>1.0</td>\n",
       "      <td>VMC</td>\n",
       "      <td>Approach</td>\n",
       "      <td>1.0</td>\n",
       "    </tr>\n",
       "    <tr>\n",
       "      <th>11</th>\n",
       "      <td>1982-01-01</td>\n",
       "      <td>TUSKEGEE, AL</td>\n",
       "      <td>Unknown</td>\n",
       "      <td>TUSKEGEE</td>\n",
       "      <td>Non-Fatal</td>\n",
       "      <td>Substantial</td>\n",
       "      <td>Beech</td>\n",
       "      <td>V35B</td>\n",
       "      <td>1.0</td>\n",
       "      <td>Reciprocating</td>\n",
       "      <td>Personal</td>\n",
       "      <td>0.0</td>\n",
       "      <td>0.0</td>\n",
       "      <td>0.0</td>\n",
       "      <td>1.0</td>\n",
       "      <td>VMC</td>\n",
       "      <td>Landing</td>\n",
       "      <td>1.0</td>\n",
       "    </tr>\n",
       "    <tr>\n",
       "      <th>...</th>\n",
       "      <td>...</td>\n",
       "      <td>...</td>\n",
       "      <td>...</td>\n",
       "      <td>...</td>\n",
       "      <td>...</td>\n",
       "      <td>...</td>\n",
       "      <td>...</td>\n",
       "      <td>...</td>\n",
       "      <td>...</td>\n",
       "      <td>...</td>\n",
       "      <td>...</td>\n",
       "      <td>...</td>\n",
       "      <td>...</td>\n",
       "      <td>...</td>\n",
       "      <td>...</td>\n",
       "      <td>...</td>\n",
       "      <td>...</td>\n",
       "      <td>...</td>\n",
       "    </tr>\n",
       "    <tr>\n",
       "      <th>90340</th>\n",
       "      <td>2022-12-21</td>\n",
       "      <td>Auburn Hills, MI</td>\n",
       "      <td>Unknown</td>\n",
       "      <td>Unknown</td>\n",
       "      <td>Minor</td>\n",
       "      <td>Unknown</td>\n",
       "      <td>CESSNA</td>\n",
       "      <td>172F</td>\n",
       "      <td>1.0</td>\n",
       "      <td>Reciprocating</td>\n",
       "      <td>Personal</td>\n",
       "      <td>0.0</td>\n",
       "      <td>1.0</td>\n",
       "      <td>0.0</td>\n",
       "      <td>0.0</td>\n",
       "      <td>Unknown</td>\n",
       "      <td>Unknown</td>\n",
       "      <td>1.0</td>\n",
       "    </tr>\n",
       "    <tr>\n",
       "      <th>90341</th>\n",
       "      <td>2022-12-21</td>\n",
       "      <td>Reserve, LA</td>\n",
       "      <td>Unknown</td>\n",
       "      <td>Unknown</td>\n",
       "      <td>Minor</td>\n",
       "      <td>Unknown</td>\n",
       "      <td>GRUMMAN AMERICAN AVN. CORP.</td>\n",
       "      <td>AA-5B</td>\n",
       "      <td>1.0</td>\n",
       "      <td>Reciprocating</td>\n",
       "      <td>Instructional</td>\n",
       "      <td>0.0</td>\n",
       "      <td>1.0</td>\n",
       "      <td>0.0</td>\n",
       "      <td>1.0</td>\n",
       "      <td>Unknown</td>\n",
       "      <td>Unknown</td>\n",
       "      <td>2.0</td>\n",
       "    </tr>\n",
       "    <tr>\n",
       "      <th>90343</th>\n",
       "      <td>2022-12-26</td>\n",
       "      <td>Annapolis, MD</td>\n",
       "      <td>Unknown</td>\n",
       "      <td>Unknown</td>\n",
       "      <td>Minor</td>\n",
       "      <td>Unknown</td>\n",
       "      <td>PIPER</td>\n",
       "      <td>PA-28-151</td>\n",
       "      <td>1.0</td>\n",
       "      <td>Reciprocating</td>\n",
       "      <td>Personal</td>\n",
       "      <td>0.0</td>\n",
       "      <td>1.0</td>\n",
       "      <td>0.0</td>\n",
       "      <td>0.0</td>\n",
       "      <td>Unknown</td>\n",
       "      <td>Unknown</td>\n",
       "      <td>1.0</td>\n",
       "    </tr>\n",
       "    <tr>\n",
       "      <th>90345</th>\n",
       "      <td>2022-12-26</td>\n",
       "      <td>Payson, AZ</td>\n",
       "      <td>PAN</td>\n",
       "      <td>PAYSON</td>\n",
       "      <td>Non-Fatal</td>\n",
       "      <td>Substantial</td>\n",
       "      <td>AMERICAN CHAMPION AIRCRAFT</td>\n",
       "      <td>8GCBC</td>\n",
       "      <td>1.0</td>\n",
       "      <td>Reciprocating</td>\n",
       "      <td>Personal</td>\n",
       "      <td>0.0</td>\n",
       "      <td>0.0</td>\n",
       "      <td>0.0</td>\n",
       "      <td>1.0</td>\n",
       "      <td>VMC</td>\n",
       "      <td>Unknown</td>\n",
       "      <td>1.0</td>\n",
       "    </tr>\n",
       "    <tr>\n",
       "      <th>90347</th>\n",
       "      <td>2022-12-29</td>\n",
       "      <td>Athens, GA</td>\n",
       "      <td>Unknown</td>\n",
       "      <td>Unknown</td>\n",
       "      <td>Minor</td>\n",
       "      <td>Unknown</td>\n",
       "      <td>PIPER</td>\n",
       "      <td>PA-24-260</td>\n",
       "      <td>1.0</td>\n",
       "      <td>Reciprocating</td>\n",
       "      <td>Personal</td>\n",
       "      <td>0.0</td>\n",
       "      <td>1.0</td>\n",
       "      <td>0.0</td>\n",
       "      <td>1.0</td>\n",
       "      <td>Unknown</td>\n",
       "      <td>Unknown</td>\n",
       "      <td>2.0</td>\n",
       "    </tr>\n",
       "  </tbody>\n",
       "</table>\n",
       "<p>70245 rows × 18 columns</p>\n",
       "</div>"
      ],
      "text/plain": [
       "      event_date          location airport_code        airport_name  \\\n",
       "7     1982-01-01       PULLMAN, WA      Unknown  BLACKBURN AG STRIP   \n",
       "8     1982-01-01  EAST HANOVER, NJ          N58             HANOVER   \n",
       "9     1982-01-01  JACKSONVILLE, FL          JAX   JACKSONVILLE INTL   \n",
       "10    1982-01-01         HOBBS, NM      Unknown             Unknown   \n",
       "11    1982-01-01      TUSKEGEE, AL      Unknown            TUSKEGEE   \n",
       "...          ...               ...          ...                 ...   \n",
       "90340 2022-12-21  Auburn Hills, MI      Unknown             Unknown   \n",
       "90341 2022-12-21       Reserve, LA      Unknown             Unknown   \n",
       "90343 2022-12-26     Annapolis, MD      Unknown             Unknown   \n",
       "90345 2022-12-26        Payson, AZ          PAN              PAYSON   \n",
       "90347 2022-12-29        Athens, GA      Unknown             Unknown   \n",
       "\n",
       "      injury_severity aircraft_damage                         make  \\\n",
       "7           Non-Fatal     Substantial                       Cessna   \n",
       "8           Non-Fatal     Substantial                       Cessna   \n",
       "9           Non-Fatal     Substantial               North American   \n",
       "10          Non-Fatal     Substantial                        Piper   \n",
       "11          Non-Fatal     Substantial                        Beech   \n",
       "...               ...             ...                          ...   \n",
       "90340           Minor         Unknown                       CESSNA   \n",
       "90341           Minor         Unknown  GRUMMAN AMERICAN AVN. CORP.   \n",
       "90343           Minor         Unknown                        PIPER   \n",
       "90345       Non-Fatal     Substantial   AMERICAN CHAMPION AIRCRAFT   \n",
       "90347           Minor         Unknown                        PIPER   \n",
       "\n",
       "              model  number_of_engines    engine_type purpose_of_flight  \\\n",
       "7               140                1.0  Reciprocating          Personal   \n",
       "8              401B                2.0  Reciprocating          Business   \n",
       "9      NAVION L-17B                1.0  Reciprocating          Personal   \n",
       "10        PA-28-161                1.0  Reciprocating          Personal   \n",
       "11             V35B                1.0  Reciprocating          Personal   \n",
       "...             ...                ...            ...               ...   \n",
       "90340          172F                1.0  Reciprocating          Personal   \n",
       "90341         AA-5B                1.0  Reciprocating     Instructional   \n",
       "90343     PA-28-151                1.0  Reciprocating          Personal   \n",
       "90345         8GCBC                1.0  Reciprocating          Personal   \n",
       "90347     PA-24-260                1.0  Reciprocating          Personal   \n",
       "\n",
       "       total_fatal_injuries  total_serious_injuries  total_minor_injuries  \\\n",
       "7                       0.0                     0.0                   0.0   \n",
       "8                       0.0                     0.0                   0.0   \n",
       "9                       0.0                     0.0                   3.0   \n",
       "10                      0.0                     0.0                   0.0   \n",
       "11                      0.0                     0.0                   0.0   \n",
       "...                     ...                     ...                   ...   \n",
       "90340                   0.0                     1.0                   0.0   \n",
       "90341                   0.0                     1.0                   0.0   \n",
       "90343                   0.0                     1.0                   0.0   \n",
       "90345                   0.0                     0.0                   0.0   \n",
       "90347                   0.0                     1.0                   0.0   \n",
       "\n",
       "       total_uninjured weather_condition broad_phase_of_flight  \\\n",
       "7                  2.0               VMC               Takeoff   \n",
       "8                  2.0               IMC               Landing   \n",
       "9                  0.0               IMC                Cruise   \n",
       "10                 1.0               VMC              Approach   \n",
       "11                 1.0               VMC               Landing   \n",
       "...                ...               ...                   ...   \n",
       "90340              0.0           Unknown               Unknown   \n",
       "90341              1.0           Unknown               Unknown   \n",
       "90343              0.0           Unknown               Unknown   \n",
       "90345              1.0               VMC               Unknown   \n",
       "90347              1.0           Unknown               Unknown   \n",
       "\n",
       "       passenger_count  \n",
       "7                  2.0  \n",
       "8                  2.0  \n",
       "9                  3.0  \n",
       "10                 1.0  \n",
       "11                 1.0  \n",
       "...                ...  \n",
       "90340              1.0  \n",
       "90341              2.0  \n",
       "90343              1.0  \n",
       "90345              1.0  \n",
       "90347              2.0  \n",
       "\n",
       "[70245 rows x 18 columns]"
      ]
     },
     "execution_count": 87,
     "metadata": {},
     "output_type": "execute_result"
    }
   ],
   "source": [
    "aviation_data_cleaned"
   ]
  },
  {
   "cell_type": "markdown",
   "metadata": {},
   "source": [
    "## Column Cleaning"
   ]
  },
  {
   "cell_type": "markdown",
   "metadata": {},
   "source": [
    "This section is for cleaning columns.\n",
    "- Clean make to make sure there aren't duplicate makes\n",
    "- Separate out City and State"
   ]
  },
  {
   "cell_type": "markdown",
   "metadata": {},
   "source": [
    "### Makes"
   ]
  },
  {
   "cell_type": "code",
   "execution_count": 88,
   "metadata": {
    "ExecuteTime": {
     "end_time": "2023-04-19T22:56:53.148718Z",
     "start_time": "2023-04-19T22:56:53.133915Z"
    }
   },
   "outputs": [
    {
     "data": {
      "text/plain": [
       "array(['Cessna', 'North American', 'Piper', ..., 'PHANTOM',\n",
       "       'JAMES R DERNOVSEK', 'ORLICAN S R O'], dtype=object)"
      ]
     },
     "execution_count": 88,
     "metadata": {},
     "output_type": "execute_result"
    }
   ],
   "source": [
    "# Start by checking out the different makes\n",
    "aviation_data_cleaned['make'].unique()"
   ]
  },
  {
   "cell_type": "code",
   "execution_count": 89,
   "metadata": {
    "ExecuteTime": {
     "end_time": "2023-04-19T22:56:53.163290Z",
     "start_time": "2023-04-19T22:56:53.154877Z"
    }
   },
   "outputs": [
    {
     "data": {
      "text/plain": [
       "2050"
      ]
     },
     "execution_count": 89,
     "metadata": {},
     "output_type": "execute_result"
    }
   ],
   "source": [
    "# Find the current number of unique makes\n",
    "len(aviation_data_cleaned['make'].unique())"
   ]
  },
  {
   "cell_type": "code",
   "execution_count": 90,
   "metadata": {
    "ExecuteTime": {
     "end_time": "2023-04-19T22:56:53.206778Z",
     "start_time": "2023-04-19T22:56:53.166075Z"
    }
   },
   "outputs": [
    {
     "name": "stdout",
     "output_type": "stream",
     "text": [
      "['Cessna' 'North American' 'Piper' ... 'Phantom' 'James R Dernovsek'\n",
      " 'Orlican S R O']\n"
     ]
    },
    {
     "data": {
      "text/plain": [
       "1683"
      ]
     },
     "execution_count": 90,
     "metadata": {},
     "output_type": "execute_result"
    }
   ],
   "source": [
    "# Change names to be capitalized and check the length\n",
    "cleaned_makes = aviation_data_cleaned['make'].str.title().unique()\n",
    "print(cleaned_makes)\n",
    "len(cleaned_makes)"
   ]
  },
  {
   "cell_type": "code",
   "execution_count": 91,
   "metadata": {
    "ExecuteTime": {
     "end_time": "2023-04-19T22:56:53.238660Z",
     "start_time": "2023-04-19T22:56:53.210383Z"
    }
   },
   "outputs": [],
   "source": [
    "# That looks like we cleaned a bunch of duplicates, let's assign the column and check\n",
    "aviation_data_cleaned['make'] = aviation_data_cleaned['make'].str.title()"
   ]
  },
  {
   "cell_type": "code",
   "execution_count": 92,
   "metadata": {
    "ExecuteTime": {
     "end_time": "2023-04-19T22:56:53.251472Z",
     "start_time": "2023-04-19T22:56:53.242279Z"
    },
    "scrolled": true
   },
   "outputs": [
    {
     "data": {
      "text/plain": [
       "1683"
      ]
     },
     "execution_count": 92,
     "metadata": {},
     "output_type": "execute_result"
    }
   ],
   "source": [
    "# Check the length\n",
    "len(aviation_data_cleaned['make'].unique())"
   ]
  },
  {
   "cell_type": "markdown",
   "metadata": {},
   "source": [
    "### Location to City & State"
   ]
  },
  {
   "cell_type": "code",
   "execution_count": 93,
   "metadata": {
    "ExecuteTime": {
     "end_time": "2023-04-19T22:56:53.369255Z",
     "start_time": "2023-04-19T22:56:53.254403Z"
    }
   },
   "outputs": [],
   "source": [
    "# Add new city and state columns\n",
    "aviation_data_cleaned[['city', 'state']] = aviation_data_cleaned['location'].str.rsplit(', ', 1, expand = True)"
   ]
  },
  {
   "cell_type": "code",
   "execution_count": 94,
   "metadata": {
    "ExecuteTime": {
     "end_time": "2023-04-19T22:56:53.406521Z",
     "start_time": "2023-04-19T22:56:53.371245Z"
    }
   },
   "outputs": [],
   "source": [
    "aviation_data_cleaned['city'] = aviation_data_cleaned['city'].str.capitalize()"
   ]
  },
  {
   "cell_type": "code",
   "execution_count": 95,
   "metadata": {
    "ExecuteTime": {
     "end_time": "2023-04-19T22:56:53.441871Z",
     "start_time": "2023-04-19T22:56:53.408952Z"
    }
   },
   "outputs": [
    {
     "data": {
      "text/html": [
       "<div>\n",
       "<style scoped>\n",
       "    .dataframe tbody tr th:only-of-type {\n",
       "        vertical-align: middle;\n",
       "    }\n",
       "\n",
       "    .dataframe tbody tr th {\n",
       "        vertical-align: top;\n",
       "    }\n",
       "\n",
       "    .dataframe thead th {\n",
       "        text-align: right;\n",
       "    }\n",
       "</style>\n",
       "<table border=\"1\" class=\"dataframe\">\n",
       "  <thead>\n",
       "    <tr style=\"text-align: right;\">\n",
       "      <th></th>\n",
       "      <th>city</th>\n",
       "      <th>state</th>\n",
       "    </tr>\n",
       "  </thead>\n",
       "  <tbody>\n",
       "    <tr>\n",
       "      <th>7</th>\n",
       "      <td>Pullman</td>\n",
       "      <td>WA</td>\n",
       "    </tr>\n",
       "    <tr>\n",
       "      <th>8</th>\n",
       "      <td>East hanover</td>\n",
       "      <td>NJ</td>\n",
       "    </tr>\n",
       "    <tr>\n",
       "      <th>9</th>\n",
       "      <td>Jacksonville</td>\n",
       "      <td>FL</td>\n",
       "    </tr>\n",
       "    <tr>\n",
       "      <th>10</th>\n",
       "      <td>Hobbs</td>\n",
       "      <td>NM</td>\n",
       "    </tr>\n",
       "    <tr>\n",
       "      <th>11</th>\n",
       "      <td>Tuskegee</td>\n",
       "      <td>AL</td>\n",
       "    </tr>\n",
       "  </tbody>\n",
       "</table>\n",
       "</div>"
      ],
      "text/plain": [
       "            city state\n",
       "7        Pullman    WA\n",
       "8   East hanover    NJ\n",
       "9   Jacksonville    FL\n",
       "10         Hobbs    NM\n",
       "11      Tuskegee    AL"
      ]
     },
     "execution_count": 95,
     "metadata": {},
     "output_type": "execute_result"
    }
   ],
   "source": [
    "aviation_data_cleaned[['city', 'state']].head()"
   ]
  },
  {
   "cell_type": "markdown",
   "metadata": {},
   "source": [
    "### Weather conditions"
   ]
  },
  {
   "cell_type": "code",
   "execution_count": 96,
   "metadata": {
    "ExecuteTime": {
     "end_time": "2023-04-19T22:59:43.460058Z",
     "start_time": "2023-04-19T22:59:43.446860Z"
    },
    "scrolled": true
   },
   "outputs": [
    {
     "data": {
      "text/plain": [
       "VMC        63967\n",
       "IMC         5232\n",
       "Unknown      485\n",
       "UNK          473\n",
       "Unk           88\n",
       "Name: weather_condition, dtype: int64"
      ]
     },
     "execution_count": 96,
     "metadata": {},
     "output_type": "execute_result"
    }
   ],
   "source": [
    "aviation_data_cleaned['weather_condition'].value_counts()"
   ]
  },
  {
   "cell_type": "code",
   "execution_count": 99,
   "metadata": {
    "ExecuteTime": {
     "end_time": "2023-04-19T23:03:41.788273Z",
     "start_time": "2023-04-19T23:03:41.771517Z"
    }
   },
   "outputs": [],
   "source": [
    "# Update weather conditions names\n",
    "weather_map = { 'VMC' : 'Visual Meteorological Conditions',\n",
    "                 'IMC' : 'Instrument Meteorological Conditions',\n",
    "                 'Unknown' : 'Unknown Meteorological Conditions',\n",
    "                 'UNK' : 'Unknown Meteorological Conditions',\n",
    "                 'Unk' : 'Unknown Meteorological Conditions'\n",
    "}\n",
    "\n",
    "aviation_data_cleaned['weather_condition'] = aviation_data_cleaned['weather_condition'].map(weather_map)"
   ]
  },
  {
   "cell_type": "markdown",
   "metadata": {},
   "source": [
    "### Injury Severity"
   ]
  },
  {
   "cell_type": "code",
   "execution_count": 106,
   "metadata": {
    "ExecuteTime": {
     "end_time": "2023-04-19T23:38:22.782662Z",
     "start_time": "2023-04-19T23:38:22.764092Z"
    },
    "scrolled": true
   },
   "outputs": [
    {
     "data": {
      "text/plain": [
       "Non-Fatal      57490\n",
       "Fatal(1)        4556\n",
       "Fatal(2)        2989\n",
       "Fatal           2865\n",
       "Fatal(3)         955\n",
       "Fatal(4)         663\n",
       "Minor            178\n",
       "Fatal(5)         166\n",
       "Serious          128\n",
       "Fatal(6)         104\n",
       "Fatal(7)          30\n",
       "Fatal(8)          26\n",
       "Fatal(10)         15\n",
       "Unavailable       14\n",
       "Fatal(9)           8\n",
       "Fatal(14)          5\n",
       "Fatal(12)          5\n",
       "Fatal(13)          3\n",
       "Fatal(18)          3\n",
       "Fatal(11)          3\n",
       "Fatal(25)          2\n",
       "Fatal(17)          2\n",
       "Fatal(23)          2\n",
       "Fatal(20)          2\n",
       "Fatal(228)         1\n",
       "Fatal(110)         1\n",
       "Fatal(19)          1\n",
       "Fatal(132)         1\n",
       "Fatal(65)          1\n",
       "Fatal(64)          1\n",
       "Fatal(28)          1\n",
       "Fatal(43)          1\n",
       "Fatal(34)          1\n",
       "Fatal(15)          1\n",
       "Fatal(78)          1\n",
       "Fatal(82)          1\n",
       "Fatal(230)         1\n",
       "Fatal(37)          1\n",
       "Fatal(44)          1\n",
       "Fatal(153)         1\n",
       "Fatal(156)         1\n",
       "Fatal(49)          1\n",
       "Fatal(68)          1\n",
       "Fatal(16)          1\n",
       "Fatal(70)          1\n",
       "Fatal(21)          1\n",
       "Fatal(27)          1\n",
       "Fatal(73)          1\n",
       "Fatal(265)         1\n",
       "Fatal(135)         1\n",
       "Fatal(88)          1\n",
       "Fatal(92)          1\n",
       "Fatal(29)          1\n",
       "Fatal(111)         1\n",
       "Fatal(31)          1\n",
       "Name: injury_severity, dtype: int64"
      ]
     },
     "execution_count": 106,
     "metadata": {},
     "output_type": "execute_result"
    }
   ],
   "source": [
    "# Check out injury severity\n",
    "aviation_data_cleaned['injury_severity'].value_counts()"
   ]
  },
  {
   "cell_type": "code",
   "execution_count": 113,
   "metadata": {
    "ExecuteTime": {
     "end_time": "2023-04-19T23:40:25.245383Z",
     "start_time": "2023-04-19T23:40:25.137617Z"
    }
   },
   "outputs": [],
   "source": [
    "# Clean up the injury severity\n",
    "aviation_data_cleaned['injury_severity'] = aviation_data_cleaned['injury_severity'].str.split('(', 1, expand = True)"
   ]
  },
  {
   "cell_type": "code",
   "execution_count": 114,
   "metadata": {
    "ExecuteTime": {
     "end_time": "2023-04-19T23:40:26.841855Z",
     "start_time": "2023-04-19T23:40:26.836600Z"
    }
   },
   "outputs": [
    {
     "data": {
      "text/plain": [
       "7     Non-Fatal\n",
       "8     Non-Fatal\n",
       "9     Non-Fatal\n",
       "10    Non-Fatal\n",
       "11    Non-Fatal\n",
       "Name: injury_severity, dtype: object"
      ]
     },
     "execution_count": 114,
     "metadata": {},
     "output_type": "execute_result"
    }
   ],
   "source": [
    "aviation_data_cleaned['injury_severity'].head()"
   ]
  },
  {
   "cell_type": "markdown",
   "metadata": {},
   "source": [
    "## Conclusion\n",
    "We now have a cleaned up data set with mostly non-null values and have focused on the columns we need"
   ]
  }
 ],
 "metadata": {
  "kernelspec": {
   "display_name": "Python (learn-env)",
   "language": "python",
   "name": "learn-env"
  },
  "language_info": {
   "codemirror_mode": {
    "name": "ipython",
    "version": 3
   },
   "file_extension": ".py",
   "mimetype": "text/x-python",
   "name": "python",
   "nbconvert_exporter": "python",
   "pygments_lexer": "ipython3",
   "version": "3.8.5"
  }
 },
 "nbformat": 4,
 "nbformat_minor": 4
}
