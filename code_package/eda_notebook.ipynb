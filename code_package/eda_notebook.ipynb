{
 "cells": [
  {
   "cell_type": "code",
   "execution_count": 1,
   "metadata": {
    "ExecuteTime": {
     "end_time": "2023-04-20T15:17:13.269990Z",
     "start_time": "2023-04-20T15:17:12.300614Z"
    }
   },
   "outputs": [],
   "source": [
    "import pandas as pd\n",
    "import numpy as np\n",
    "import seaborn as sns\n",
    "import matplotlib.pyplot as plt\n",
    "import matplotlib.ticker as mtick"
   ]
  },
  {
   "cell_type": "code",
   "execution_count": 2,
   "metadata": {
    "ExecuteTime": {
     "end_time": "2023-04-20T15:17:13.280965Z",
     "start_time": "2023-04-20T15:17:13.274179Z"
    }
   },
   "outputs": [],
   "source": [
    "import data_preparation as dp"
   ]
  },
  {
   "cell_type": "code",
   "execution_count": 3,
   "metadata": {
    "ExecuteTime": {
     "end_time": "2023-04-20T15:17:17.910866Z",
     "start_time": "2023-04-20T15:17:13.285068Z"
    }
   },
   "outputs": [
    {
     "name": "stderr",
     "output_type": "stream",
     "text": [
      "/Users/willbennett/anaconda3/envs/learn-env/lib/python3.8/site-packages/IPython/core/interactiveshell.py:3337: DtypeWarning: Columns (6,7,28) have mixed types.Specify dtype option on import or set low_memory=False.\n",
      "  if (await self.run_code(code, result,  async_=asy)):\n"
     ]
    },
    {
     "data": {
      "text/html": [
       "<div>\n",
       "<style scoped>\n",
       "    .dataframe tbody tr th:only-of-type {\n",
       "        vertical-align: middle;\n",
       "    }\n",
       "\n",
       "    .dataframe tbody tr th {\n",
       "        vertical-align: top;\n",
       "    }\n",
       "\n",
       "    .dataframe thead th {\n",
       "        text-align: right;\n",
       "    }\n",
       "</style>\n",
       "<table border=\"1\" class=\"dataframe\">\n",
       "  <thead>\n",
       "    <tr style=\"text-align: right;\">\n",
       "      <th></th>\n",
       "      <th>event_id</th>\n",
       "      <th>event_date</th>\n",
       "      <th>location</th>\n",
       "      <th>airport_code</th>\n",
       "      <th>airport_name</th>\n",
       "      <th>injury_severity</th>\n",
       "      <th>aircraft_damage</th>\n",
       "      <th>make</th>\n",
       "      <th>model</th>\n",
       "      <th>number_of_engines</th>\n",
       "      <th>...</th>\n",
       "      <th>purpose_of_flight</th>\n",
       "      <th>total_fatal_injuries</th>\n",
       "      <th>total_serious_injuries</th>\n",
       "      <th>total_minor_injuries</th>\n",
       "      <th>total_uninjured</th>\n",
       "      <th>weather_condition</th>\n",
       "      <th>broad_phase_of_flight</th>\n",
       "      <th>passenger_count</th>\n",
       "      <th>city</th>\n",
       "      <th>state</th>\n",
       "    </tr>\n",
       "  </thead>\n",
       "  <tbody>\n",
       "    <tr>\n",
       "      <th>7</th>\n",
       "      <td>20020909X01562</td>\n",
       "      <td>1982-01-01</td>\n",
       "      <td>PULLMAN, WA</td>\n",
       "      <td>Unknown</td>\n",
       "      <td>BLACKBURN AG STRIP</td>\n",
       "      <td>Non-Fatal</td>\n",
       "      <td>Substantial</td>\n",
       "      <td>Cessna</td>\n",
       "      <td>140</td>\n",
       "      <td>1.0</td>\n",
       "      <td>...</td>\n",
       "      <td>Personal</td>\n",
       "      <td>0.0</td>\n",
       "      <td>0.0</td>\n",
       "      <td>0.0</td>\n",
       "      <td>2.0</td>\n",
       "      <td>Visual Meteorological Conditions</td>\n",
       "      <td>Takeoff</td>\n",
       "      <td>2.0</td>\n",
       "      <td>Pullman</td>\n",
       "      <td>WA</td>\n",
       "    </tr>\n",
       "    <tr>\n",
       "      <th>8</th>\n",
       "      <td>20020909X01561</td>\n",
       "      <td>1982-01-01</td>\n",
       "      <td>EAST HANOVER, NJ</td>\n",
       "      <td>N58</td>\n",
       "      <td>HANOVER</td>\n",
       "      <td>Non-Fatal</td>\n",
       "      <td>Substantial</td>\n",
       "      <td>Cessna</td>\n",
       "      <td>401B</td>\n",
       "      <td>2.0</td>\n",
       "      <td>...</td>\n",
       "      <td>Business</td>\n",
       "      <td>0.0</td>\n",
       "      <td>0.0</td>\n",
       "      <td>0.0</td>\n",
       "      <td>2.0</td>\n",
       "      <td>Instrument Meteorological Conditions</td>\n",
       "      <td>Landing</td>\n",
       "      <td>2.0</td>\n",
       "      <td>East hanover</td>\n",
       "      <td>NJ</td>\n",
       "    </tr>\n",
       "    <tr>\n",
       "      <th>9</th>\n",
       "      <td>20020909X01560</td>\n",
       "      <td>1982-01-01</td>\n",
       "      <td>JACKSONVILLE, FL</td>\n",
       "      <td>JAX</td>\n",
       "      <td>JACKSONVILLE INTL</td>\n",
       "      <td>Non-Fatal</td>\n",
       "      <td>Substantial</td>\n",
       "      <td>North American</td>\n",
       "      <td>NAVION L-17B</td>\n",
       "      <td>1.0</td>\n",
       "      <td>...</td>\n",
       "      <td>Personal</td>\n",
       "      <td>0.0</td>\n",
       "      <td>0.0</td>\n",
       "      <td>3.0</td>\n",
       "      <td>0.0</td>\n",
       "      <td>Instrument Meteorological Conditions</td>\n",
       "      <td>Cruise</td>\n",
       "      <td>3.0</td>\n",
       "      <td>Jacksonville</td>\n",
       "      <td>FL</td>\n",
       "    </tr>\n",
       "    <tr>\n",
       "      <th>10</th>\n",
       "      <td>20020909X01559</td>\n",
       "      <td>1982-01-01</td>\n",
       "      <td>HOBBS, NM</td>\n",
       "      <td>Unknown</td>\n",
       "      <td>Unknown</td>\n",
       "      <td>Non-Fatal</td>\n",
       "      <td>Substantial</td>\n",
       "      <td>Piper</td>\n",
       "      <td>PA-28-161</td>\n",
       "      <td>1.0</td>\n",
       "      <td>...</td>\n",
       "      <td>Personal</td>\n",
       "      <td>0.0</td>\n",
       "      <td>0.0</td>\n",
       "      <td>0.0</td>\n",
       "      <td>1.0</td>\n",
       "      <td>Visual Meteorological Conditions</td>\n",
       "      <td>Approach</td>\n",
       "      <td>1.0</td>\n",
       "      <td>Hobbs</td>\n",
       "      <td>NM</td>\n",
       "    </tr>\n",
       "    <tr>\n",
       "      <th>11</th>\n",
       "      <td>20020909X01558</td>\n",
       "      <td>1982-01-01</td>\n",
       "      <td>TUSKEGEE, AL</td>\n",
       "      <td>Unknown</td>\n",
       "      <td>TUSKEGEE</td>\n",
       "      <td>Non-Fatal</td>\n",
       "      <td>Substantial</td>\n",
       "      <td>Beech</td>\n",
       "      <td>V35B</td>\n",
       "      <td>1.0</td>\n",
       "      <td>...</td>\n",
       "      <td>Personal</td>\n",
       "      <td>0.0</td>\n",
       "      <td>0.0</td>\n",
       "      <td>0.0</td>\n",
       "      <td>1.0</td>\n",
       "      <td>Visual Meteorological Conditions</td>\n",
       "      <td>Landing</td>\n",
       "      <td>1.0</td>\n",
       "      <td>Tuskegee</td>\n",
       "      <td>AL</td>\n",
       "    </tr>\n",
       "    <tr>\n",
       "      <th>...</th>\n",
       "      <td>...</td>\n",
       "      <td>...</td>\n",
       "      <td>...</td>\n",
       "      <td>...</td>\n",
       "      <td>...</td>\n",
       "      <td>...</td>\n",
       "      <td>...</td>\n",
       "      <td>...</td>\n",
       "      <td>...</td>\n",
       "      <td>...</td>\n",
       "      <td>...</td>\n",
       "      <td>...</td>\n",
       "      <td>...</td>\n",
       "      <td>...</td>\n",
       "      <td>...</td>\n",
       "      <td>...</td>\n",
       "      <td>...</td>\n",
       "      <td>...</td>\n",
       "      <td>...</td>\n",
       "      <td>...</td>\n",
       "      <td>...</td>\n",
       "    </tr>\n",
       "    <tr>\n",
       "      <th>90340</th>\n",
       "      <td>20221221106483</td>\n",
       "      <td>2022-12-21</td>\n",
       "      <td>Auburn Hills, MI</td>\n",
       "      <td>Unknown</td>\n",
       "      <td>Unknown</td>\n",
       "      <td>Minor</td>\n",
       "      <td>Unknown</td>\n",
       "      <td>Cessna</td>\n",
       "      <td>172F</td>\n",
       "      <td>1.0</td>\n",
       "      <td>...</td>\n",
       "      <td>Personal</td>\n",
       "      <td>0.0</td>\n",
       "      <td>1.0</td>\n",
       "      <td>0.0</td>\n",
       "      <td>0.0</td>\n",
       "      <td>Unknown Meteorological Conditions</td>\n",
       "      <td>Unknown</td>\n",
       "      <td>1.0</td>\n",
       "      <td>Auburn hills</td>\n",
       "      <td>MI</td>\n",
       "    </tr>\n",
       "    <tr>\n",
       "      <th>90341</th>\n",
       "      <td>20221222106486</td>\n",
       "      <td>2022-12-21</td>\n",
       "      <td>Reserve, LA</td>\n",
       "      <td>Unknown</td>\n",
       "      <td>Unknown</td>\n",
       "      <td>Minor</td>\n",
       "      <td>Unknown</td>\n",
       "      <td>Grumman American Avn. Corp.</td>\n",
       "      <td>AA-5B</td>\n",
       "      <td>1.0</td>\n",
       "      <td>...</td>\n",
       "      <td>Instructional</td>\n",
       "      <td>0.0</td>\n",
       "      <td>1.0</td>\n",
       "      <td>0.0</td>\n",
       "      <td>1.0</td>\n",
       "      <td>Unknown Meteorological Conditions</td>\n",
       "      <td>Unknown</td>\n",
       "      <td>2.0</td>\n",
       "      <td>Reserve</td>\n",
       "      <td>LA</td>\n",
       "    </tr>\n",
       "    <tr>\n",
       "      <th>90343</th>\n",
       "      <td>20221227106491</td>\n",
       "      <td>2022-12-26</td>\n",
       "      <td>Annapolis, MD</td>\n",
       "      <td>Unknown</td>\n",
       "      <td>Unknown</td>\n",
       "      <td>Minor</td>\n",
       "      <td>Unknown</td>\n",
       "      <td>Piper</td>\n",
       "      <td>PA-28-151</td>\n",
       "      <td>1.0</td>\n",
       "      <td>...</td>\n",
       "      <td>Personal</td>\n",
       "      <td>0.0</td>\n",
       "      <td>1.0</td>\n",
       "      <td>0.0</td>\n",
       "      <td>0.0</td>\n",
       "      <td>Unknown Meteorological Conditions</td>\n",
       "      <td>Unknown</td>\n",
       "      <td>1.0</td>\n",
       "      <td>Annapolis</td>\n",
       "      <td>MD</td>\n",
       "    </tr>\n",
       "    <tr>\n",
       "      <th>90345</th>\n",
       "      <td>20221227106497</td>\n",
       "      <td>2022-12-26</td>\n",
       "      <td>Payson, AZ</td>\n",
       "      <td>PAN</td>\n",
       "      <td>PAYSON</td>\n",
       "      <td>Non-Fatal</td>\n",
       "      <td>Substantial</td>\n",
       "      <td>American Champion Aircraft</td>\n",
       "      <td>8GCBC</td>\n",
       "      <td>1.0</td>\n",
       "      <td>...</td>\n",
       "      <td>Personal</td>\n",
       "      <td>0.0</td>\n",
       "      <td>0.0</td>\n",
       "      <td>0.0</td>\n",
       "      <td>1.0</td>\n",
       "      <td>Visual Meteorological Conditions</td>\n",
       "      <td>Unknown</td>\n",
       "      <td>1.0</td>\n",
       "      <td>Payson</td>\n",
       "      <td>AZ</td>\n",
       "    </tr>\n",
       "    <tr>\n",
       "      <th>90347</th>\n",
       "      <td>20221230106513</td>\n",
       "      <td>2022-12-29</td>\n",
       "      <td>Athens, GA</td>\n",
       "      <td>Unknown</td>\n",
       "      <td>Unknown</td>\n",
       "      <td>Minor</td>\n",
       "      <td>Unknown</td>\n",
       "      <td>Piper</td>\n",
       "      <td>PA-24-260</td>\n",
       "      <td>1.0</td>\n",
       "      <td>...</td>\n",
       "      <td>Personal</td>\n",
       "      <td>0.0</td>\n",
       "      <td>1.0</td>\n",
       "      <td>0.0</td>\n",
       "      <td>1.0</td>\n",
       "      <td>Unknown Meteorological Conditions</td>\n",
       "      <td>Unknown</td>\n",
       "      <td>2.0</td>\n",
       "      <td>Athens</td>\n",
       "      <td>GA</td>\n",
       "    </tr>\n",
       "  </tbody>\n",
       "</table>\n",
       "<p>70256 rows × 21 columns</p>\n",
       "</div>"
      ],
      "text/plain": [
       "             event_id event_date          location airport_code  \\\n",
       "7      20020909X01562 1982-01-01       PULLMAN, WA      Unknown   \n",
       "8      20020909X01561 1982-01-01  EAST HANOVER, NJ          N58   \n",
       "9      20020909X01560 1982-01-01  JACKSONVILLE, FL          JAX   \n",
       "10     20020909X01559 1982-01-01         HOBBS, NM      Unknown   \n",
       "11     20020909X01558 1982-01-01      TUSKEGEE, AL      Unknown   \n",
       "...               ...        ...               ...          ...   \n",
       "90340  20221221106483 2022-12-21  Auburn Hills, MI      Unknown   \n",
       "90341  20221222106486 2022-12-21       Reserve, LA      Unknown   \n",
       "90343  20221227106491 2022-12-26     Annapolis, MD      Unknown   \n",
       "90345  20221227106497 2022-12-26        Payson, AZ          PAN   \n",
       "90347  20221230106513 2022-12-29        Athens, GA      Unknown   \n",
       "\n",
       "             airport_name injury_severity aircraft_damage  \\\n",
       "7      BLACKBURN AG STRIP       Non-Fatal     Substantial   \n",
       "8                 HANOVER       Non-Fatal     Substantial   \n",
       "9       JACKSONVILLE INTL       Non-Fatal     Substantial   \n",
       "10                Unknown       Non-Fatal     Substantial   \n",
       "11               TUSKEGEE       Non-Fatal     Substantial   \n",
       "...                   ...             ...             ...   \n",
       "90340             Unknown           Minor         Unknown   \n",
       "90341             Unknown           Minor         Unknown   \n",
       "90343             Unknown           Minor         Unknown   \n",
       "90345              PAYSON       Non-Fatal     Substantial   \n",
       "90347             Unknown           Minor         Unknown   \n",
       "\n",
       "                              make         model  number_of_engines  ...  \\\n",
       "7                           Cessna           140                1.0  ...   \n",
       "8                           Cessna          401B                2.0  ...   \n",
       "9                   North American  NAVION L-17B                1.0  ...   \n",
       "10                           Piper     PA-28-161                1.0  ...   \n",
       "11                           Beech          V35B                1.0  ...   \n",
       "...                            ...           ...                ...  ...   \n",
       "90340                       Cessna          172F                1.0  ...   \n",
       "90341  Grumman American Avn. Corp.         AA-5B                1.0  ...   \n",
       "90343                        Piper     PA-28-151                1.0  ...   \n",
       "90345   American Champion Aircraft         8GCBC                1.0  ...   \n",
       "90347                        Piper     PA-24-260                1.0  ...   \n",
       "\n",
       "      purpose_of_flight total_fatal_injuries  total_serious_injuries  \\\n",
       "7              Personal                  0.0                     0.0   \n",
       "8              Business                  0.0                     0.0   \n",
       "9              Personal                  0.0                     0.0   \n",
       "10             Personal                  0.0                     0.0   \n",
       "11             Personal                  0.0                     0.0   \n",
       "...                 ...                  ...                     ...   \n",
       "90340          Personal                  0.0                     1.0   \n",
       "90341     Instructional                  0.0                     1.0   \n",
       "90343          Personal                  0.0                     1.0   \n",
       "90345          Personal                  0.0                     0.0   \n",
       "90347          Personal                  0.0                     1.0   \n",
       "\n",
       "       total_minor_injuries  total_uninjured  \\\n",
       "7                       0.0              2.0   \n",
       "8                       0.0              2.0   \n",
       "9                       3.0              0.0   \n",
       "10                      0.0              1.0   \n",
       "11                      0.0              1.0   \n",
       "...                     ...              ...   \n",
       "90340                   0.0              0.0   \n",
       "90341                   0.0              1.0   \n",
       "90343                   0.0              0.0   \n",
       "90345                   0.0              1.0   \n",
       "90347                   0.0              1.0   \n",
       "\n",
       "                          weather_condition broad_phase_of_flight  \\\n",
       "7          Visual Meteorological Conditions               Takeoff   \n",
       "8      Instrument Meteorological Conditions               Landing   \n",
       "9      Instrument Meteorological Conditions                Cruise   \n",
       "10         Visual Meteorological Conditions              Approach   \n",
       "11         Visual Meteorological Conditions               Landing   \n",
       "...                                     ...                   ...   \n",
       "90340     Unknown Meteorological Conditions               Unknown   \n",
       "90341     Unknown Meteorological Conditions               Unknown   \n",
       "90343     Unknown Meteorological Conditions               Unknown   \n",
       "90345      Visual Meteorological Conditions               Unknown   \n",
       "90347     Unknown Meteorological Conditions               Unknown   \n",
       "\n",
       "      passenger_count          city state  \n",
       "7                 2.0       Pullman    WA  \n",
       "8                 2.0  East hanover    NJ  \n",
       "9                 3.0  Jacksonville    FL  \n",
       "10                1.0         Hobbs    NM  \n",
       "11                1.0      Tuskegee    AL  \n",
       "...               ...           ...   ...  \n",
       "90340             1.0  Auburn hills    MI  \n",
       "90341             2.0       Reserve    LA  \n",
       "90343             1.0     Annapolis    MD  \n",
       "90345             1.0        Payson    AZ  \n",
       "90347             2.0        Athens    GA  \n",
       "\n",
       "[70256 rows x 21 columns]"
      ]
     },
     "execution_count": 3,
     "metadata": {},
     "output_type": "execute_result"
    }
   ],
   "source": [
    "# Import the cleaned data\n",
    "df = dp.full_clean(\"../data/Aviation_Data.csv\",\"../data/Aviation_Data_Cleaned.csv\")\n",
    "df"
   ]
  },
  {
   "cell_type": "markdown",
   "metadata": {},
   "source": [
    "**Observations**\n",
    "- The data is mostly clean with nice column names\n",
    "- Key columns are make and model\n",
    "- Each column represents a particular Accident"
   ]
  },
  {
   "cell_type": "code",
   "execution_count": 4,
   "metadata": {
    "ExecuteTime": {
     "end_time": "2023-04-20T15:17:17.973272Z",
     "start_time": "2023-04-20T15:17:17.913922Z"
    }
   },
   "outputs": [
    {
     "name": "stdout",
     "output_type": "stream",
     "text": [
      "<class 'pandas.core.frame.DataFrame'>\n",
      "Int64Index: 70256 entries, 7 to 90347\n",
      "Data columns (total 21 columns):\n",
      " #   Column                  Non-Null Count  Dtype         \n",
      "---  ------                  --------------  -----         \n",
      " 0   event_id                70256 non-null  object        \n",
      " 1   event_date              70256 non-null  datetime64[ns]\n",
      " 2   location                70256 non-null  object        \n",
      " 3   airport_code            70256 non-null  object        \n",
      " 4   airport_name            70256 non-null  object        \n",
      " 5   injury_severity         70256 non-null  object        \n",
      " 6   aircraft_damage         70256 non-null  object        \n",
      " 7   make                    70256 non-null  object        \n",
      " 8   model                   70256 non-null  object        \n",
      " 9   number_of_engines       70256 non-null  float64       \n",
      " 10  engine_type             70256 non-null  object        \n",
      " 11  purpose_of_flight       70256 non-null  object        \n",
      " 12  total_fatal_injuries    70256 non-null  float64       \n",
      " 13  total_serious_injuries  70256 non-null  float64       \n",
      " 14  total_minor_injuries    70256 non-null  float64       \n",
      " 15  total_uninjured         70256 non-null  float64       \n",
      " 16  weather_condition       70256 non-null  object        \n",
      " 17  broad_phase_of_flight   70256 non-null  object        \n",
      " 18  passenger_count         70256 non-null  float64       \n",
      " 19  city                    70256 non-null  object        \n",
      " 20  state                   70256 non-null  object        \n",
      "dtypes: datetime64[ns](1), float64(6), object(14)\n",
      "memory usage: 11.8+ MB\n"
     ]
    }
   ],
   "source": [
    "# Let's check out the information about this dataset\n",
    "df.info()"
   ]
  },
  {
   "cell_type": "markdown",
   "metadata": {},
   "source": [
    "**Observations**\n",
    "- We have a single datetime column\n",
    "- We have a significant number of float columns\n",
    "- We have a significant number of object columns\n",
    "- We have mostly non-nulls"
   ]
  },
  {
   "cell_type": "code",
   "execution_count": 5,
   "metadata": {
    "ExecuteTime": {
     "end_time": "2023-04-20T15:17:18.021203Z",
     "start_time": "2023-04-20T15:17:17.975453Z"
    }
   },
   "outputs": [
    {
     "data": {
      "text/plain": [
       "event_id                  0\n",
       "event_date                0\n",
       "location                  0\n",
       "airport_code              0\n",
       "airport_name              0\n",
       "injury_severity           0\n",
       "aircraft_damage           0\n",
       "make                      0\n",
       "model                     0\n",
       "number_of_engines         0\n",
       "engine_type               0\n",
       "purpose_of_flight         0\n",
       "total_fatal_injuries      0\n",
       "total_serious_injuries    0\n",
       "total_minor_injuries      0\n",
       "total_uninjured           0\n",
       "weather_condition         0\n",
       "broad_phase_of_flight     0\n",
       "passenger_count           0\n",
       "city                      0\n",
       "state                     0\n",
       "dtype: int64"
      ]
     },
     "execution_count": 5,
     "metadata": {},
     "output_type": "execute_result"
    }
   ],
   "source": [
    "# Check for nulls\n",
    "df.isna().sum()"
   ]
  },
  {
   "cell_type": "code",
   "execution_count": 6,
   "metadata": {
    "ExecuteTime": {
     "end_time": "2023-04-20T15:17:18.062720Z",
     "start_time": "2023-04-20T15:17:18.023972Z"
    },
    "scrolled": true
   },
   "outputs": [
    {
     "data": {
      "text/html": [
       "<div>\n",
       "<style scoped>\n",
       "    .dataframe tbody tr th:only-of-type {\n",
       "        vertical-align: middle;\n",
       "    }\n",
       "\n",
       "    .dataframe tbody tr th {\n",
       "        vertical-align: top;\n",
       "    }\n",
       "\n",
       "    .dataframe thead th {\n",
       "        text-align: right;\n",
       "    }\n",
       "</style>\n",
       "<table border=\"1\" class=\"dataframe\">\n",
       "  <thead>\n",
       "    <tr style=\"text-align: right;\">\n",
       "      <th></th>\n",
       "      <th>number_of_engines</th>\n",
       "      <th>total_fatal_injuries</th>\n",
       "      <th>total_serious_injuries</th>\n",
       "      <th>total_minor_injuries</th>\n",
       "      <th>total_uninjured</th>\n",
       "      <th>passenger_count</th>\n",
       "    </tr>\n",
       "  </thead>\n",
       "  <tbody>\n",
       "    <tr>\n",
       "      <th>count</th>\n",
       "      <td>70256.000000</td>\n",
       "      <td>70256.000000</td>\n",
       "      <td>70256.000000</td>\n",
       "      <td>70256.000000</td>\n",
       "      <td>70256.000000</td>\n",
       "      <td>70256.000000</td>\n",
       "    </tr>\n",
       "    <tr>\n",
       "      <th>mean</th>\n",
       "      <td>1.113912</td>\n",
       "      <td>0.373776</td>\n",
       "      <td>0.223127</td>\n",
       "      <td>0.294295</td>\n",
       "      <td>2.757814</td>\n",
       "      <td>3.649012</td>\n",
       "    </tr>\n",
       "    <tr>\n",
       "      <th>std</th>\n",
       "      <td>0.406154</td>\n",
       "      <td>2.416796</td>\n",
       "      <td>1.073886</td>\n",
       "      <td>1.245847</td>\n",
       "      <td>16.477869</td>\n",
       "      <td>17.035006</td>\n",
       "    </tr>\n",
       "    <tr>\n",
       "      <th>min</th>\n",
       "      <td>0.000000</td>\n",
       "      <td>0.000000</td>\n",
       "      <td>0.000000</td>\n",
       "      <td>0.000000</td>\n",
       "      <td>0.000000</td>\n",
       "      <td>0.000000</td>\n",
       "    </tr>\n",
       "    <tr>\n",
       "      <th>25%</th>\n",
       "      <td>1.000000</td>\n",
       "      <td>0.000000</td>\n",
       "      <td>0.000000</td>\n",
       "      <td>0.000000</td>\n",
       "      <td>0.000000</td>\n",
       "      <td>1.000000</td>\n",
       "    </tr>\n",
       "    <tr>\n",
       "      <th>50%</th>\n",
       "      <td>1.000000</td>\n",
       "      <td>0.000000</td>\n",
       "      <td>0.000000</td>\n",
       "      <td>0.000000</td>\n",
       "      <td>1.000000</td>\n",
       "      <td>2.000000</td>\n",
       "    </tr>\n",
       "    <tr>\n",
       "      <th>75%</th>\n",
       "      <td>1.000000</td>\n",
       "      <td>0.000000</td>\n",
       "      <td>0.000000</td>\n",
       "      <td>0.000000</td>\n",
       "      <td>2.000000</td>\n",
       "      <td>2.000000</td>\n",
       "    </tr>\n",
       "    <tr>\n",
       "      <th>max</th>\n",
       "      <td>8.000000</td>\n",
       "      <td>265.000000</td>\n",
       "      <td>137.000000</td>\n",
       "      <td>125.000000</td>\n",
       "      <td>699.000000</td>\n",
       "      <td>699.000000</td>\n",
       "    </tr>\n",
       "  </tbody>\n",
       "</table>\n",
       "</div>"
      ],
      "text/plain": [
       "       number_of_engines  total_fatal_injuries  total_serious_injuries  \\\n",
       "count       70256.000000          70256.000000            70256.000000   \n",
       "mean            1.113912              0.373776                0.223127   \n",
       "std             0.406154              2.416796                1.073886   \n",
       "min             0.000000              0.000000                0.000000   \n",
       "25%             1.000000              0.000000                0.000000   \n",
       "50%             1.000000              0.000000                0.000000   \n",
       "75%             1.000000              0.000000                0.000000   \n",
       "max             8.000000            265.000000              137.000000   \n",
       "\n",
       "       total_minor_injuries  total_uninjured  passenger_count  \n",
       "count          70256.000000     70256.000000     70256.000000  \n",
       "mean               0.294295         2.757814         3.649012  \n",
       "std                1.245847        16.477869        17.035006  \n",
       "min                0.000000         0.000000         0.000000  \n",
       "25%                0.000000         0.000000         1.000000  \n",
       "50%                0.000000         1.000000         2.000000  \n",
       "75%                0.000000         2.000000         2.000000  \n",
       "max              125.000000       699.000000       699.000000  "
      ]
     },
     "execution_count": 6,
     "metadata": {},
     "output_type": "execute_result"
    }
   ],
   "source": [
    "# Let's investigate the numerical side\n",
    "df.describe()"
   ]
  },
  {
   "cell_type": "markdown",
   "metadata": {},
   "source": [
    "**Obesrvations**\n",
    "- `number_of_engines` are mostly 1 (25 -> 75%)\n",
    "- `total_fatal_injuries` are mostly 0 (25 -> 75%)\n",
    "- `total_serious_injuries` are mostly 0 (25 -> 75%)\n",
    "- `total_minor_injuries` are mostly 0 (25 -> 75%)\n",
    "- `total_uninjured` is fairly left skewed\n",
    "- `passenger_count` is fairly left skewed\n",
    "- `fatality_rate` are mostly 0 (25 -> 75%)"
   ]
  },
  {
   "cell_type": "code",
   "execution_count": 7,
   "metadata": {
    "ExecuteTime": {
     "end_time": "2023-04-20T15:17:18.311970Z",
     "start_time": "2023-04-20T15:17:18.066878Z"
    },
    "scrolled": true
   },
   "outputs": [
    {
     "data": {
      "text/html": [
       "<div>\n",
       "<style scoped>\n",
       "    .dataframe tbody tr th:only-of-type {\n",
       "        vertical-align: middle;\n",
       "    }\n",
       "\n",
       "    .dataframe tbody tr th {\n",
       "        vertical-align: top;\n",
       "    }\n",
       "\n",
       "    .dataframe thead th {\n",
       "        text-align: right;\n",
       "    }\n",
       "</style>\n",
       "<table border=\"1\" class=\"dataframe\">\n",
       "  <thead>\n",
       "    <tr style=\"text-align: right;\">\n",
       "      <th></th>\n",
       "      <th>event_id</th>\n",
       "      <th>location</th>\n",
       "      <th>airport_code</th>\n",
       "      <th>airport_name</th>\n",
       "      <th>injury_severity</th>\n",
       "      <th>aircraft_damage</th>\n",
       "      <th>make</th>\n",
       "      <th>model</th>\n",
       "      <th>engine_type</th>\n",
       "      <th>purpose_of_flight</th>\n",
       "      <th>weather_condition</th>\n",
       "      <th>broad_phase_of_flight</th>\n",
       "      <th>city</th>\n",
       "      <th>state</th>\n",
       "    </tr>\n",
       "  </thead>\n",
       "  <tbody>\n",
       "    <tr>\n",
       "      <th>count</th>\n",
       "      <td>70256</td>\n",
       "      <td>70256</td>\n",
       "      <td>70256</td>\n",
       "      <td>70256</td>\n",
       "      <td>70256</td>\n",
       "      <td>70256</td>\n",
       "      <td>70256</td>\n",
       "      <td>70256</td>\n",
       "      <td>70256</td>\n",
       "      <td>70256</td>\n",
       "      <td>70256</td>\n",
       "      <td>70256</td>\n",
       "      <td>70256</td>\n",
       "      <td>70256</td>\n",
       "    </tr>\n",
       "    <tr>\n",
       "      <th>unique</th>\n",
       "      <td>70256</td>\n",
       "      <td>21244</td>\n",
       "      <td>9021</td>\n",
       "      <td>21548</td>\n",
       "      <td>5</td>\n",
       "      <td>4</td>\n",
       "      <td>1683</td>\n",
       "      <td>7129</td>\n",
       "      <td>12</td>\n",
       "      <td>26</td>\n",
       "      <td>3</td>\n",
       "      <td>12</td>\n",
       "      <td>12126</td>\n",
       "      <td>61</td>\n",
       "    </tr>\n",
       "    <tr>\n",
       "      <th>top</th>\n",
       "      <td>20001213X29673</td>\n",
       "      <td>ANCHORAGE, AK</td>\n",
       "      <td>Unknown</td>\n",
       "      <td>Unknown</td>\n",
       "      <td>Non-Fatal</td>\n",
       "      <td>Substantial</td>\n",
       "      <td>Cessna</td>\n",
       "      <td>152</td>\n",
       "      <td>Reciprocating</td>\n",
       "      <td>Personal</td>\n",
       "      <td>Visual Meteorological Conditions</td>\n",
       "      <td>Unknown</td>\n",
       "      <td>Anchorage</td>\n",
       "      <td>CA</td>\n",
       "    </tr>\n",
       "    <tr>\n",
       "      <th>freq</th>\n",
       "      <td>1</td>\n",
       "      <td>385</td>\n",
       "      <td>28600</td>\n",
       "      <td>26417</td>\n",
       "      <td>57508</td>\n",
       "      <td>54697</td>\n",
       "      <td>25159</td>\n",
       "      <td>2254</td>\n",
       "      <td>60479</td>\n",
       "      <td>40256</td>\n",
       "      <td>63971</td>\n",
       "      <td>17946</td>\n",
       "      <td>482</td>\n",
       "      <td>7517</td>\n",
       "    </tr>\n",
       "  </tbody>\n",
       "</table>\n",
       "</div>"
      ],
      "text/plain": [
       "              event_id       location airport_code airport_name  \\\n",
       "count            70256          70256        70256        70256   \n",
       "unique           70256          21244         9021        21548   \n",
       "top     20001213X29673  ANCHORAGE, AK      Unknown      Unknown   \n",
       "freq                 1            385        28600        26417   \n",
       "\n",
       "       injury_severity aircraft_damage    make  model    engine_type  \\\n",
       "count            70256           70256   70256  70256          70256   \n",
       "unique               5               4    1683   7129             12   \n",
       "top          Non-Fatal     Substantial  Cessna    152  Reciprocating   \n",
       "freq             57508           54697   25159   2254          60479   \n",
       "\n",
       "       purpose_of_flight                 weather_condition  \\\n",
       "count              70256                             70256   \n",
       "unique                26                                 3   \n",
       "top             Personal  Visual Meteorological Conditions   \n",
       "freq               40256                             63971   \n",
       "\n",
       "       broad_phase_of_flight       city  state  \n",
       "count                  70256      70256  70256  \n",
       "unique                    12      12126     61  \n",
       "top                  Unknown  Anchorage     CA  \n",
       "freq                   17946        482   7517  "
      ]
     },
     "execution_count": 7,
     "metadata": {},
     "output_type": "execute_result"
    }
   ],
   "source": [
    "# Let's investigate the non-numerical data\n",
    "df.describe(include=object)"
   ]
  },
  {
   "cell_type": "markdown",
   "metadata": {},
   "source": [
    "**Observations**\n",
    "- `event_id` is unique for every row\n",
    "- There are a significant number of categorical data with few unique counts\n",
    " - `injury_severity`\n",
    " - `aircraft_damage`\n",
    " - `engine_type`\n",
    " - `purpose_of_flight`\n",
    " - `weather_condition`\n",
    " - `broad_phase_of_flight`\n",
    " - `state`\n",
    "- There are a few columns with many different values:\n",
    " - `location`\n",
    " - `airport_code`\n",
    " - `airport_name`\n",
    " - `make`\n",
    " - `model`\n",
    " - `city`"
   ]
  },
  {
   "cell_type": "markdown",
   "metadata": {
    "ExecuteTime": {
     "end_time": "2023-04-19T23:32:02.133906Z",
     "start_time": "2023-04-19T23:32:02.131233Z"
    }
   },
   "source": [
    "## Key Column quick dive"
   ]
  },
  {
   "cell_type": "code",
   "execution_count": 8,
   "metadata": {
    "ExecuteTime": {
     "end_time": "2023-04-20T15:17:18.360620Z",
     "start_time": "2023-04-20T15:17:18.314273Z"
    }
   },
   "outputs": [
    {
     "data": {
      "text/plain": [
       "make    model    \n",
       "Cessna  152          2254\n",
       "        172          1606\n",
       "        172N         1106\n",
       "Piper   PA-28-140     891\n",
       "Cessna  150           774\n",
       "        172M          751\n",
       "        172P          658\n",
       "        180           612\n",
       "        182           582\n",
       "Piper   PA-18         574\n",
       "Name: event_id, dtype: int64"
      ]
     },
     "execution_count": 8,
     "metadata": {},
     "output_type": "execute_result"
    }
   ],
   "source": [
    "# Let's dive into our key columns\n",
    "df.groupby(['make','model'])['event_id'].count().sort_values(ascending=False)[:10]"
   ]
  },
  {
   "cell_type": "code",
   "execution_count": 9,
   "metadata": {
    "ExecuteTime": {
     "end_time": "2023-04-20T15:17:18.560893Z",
     "start_time": "2023-04-20T15:17:18.364764Z"
    },
    "scrolled": false
   },
   "outputs": [
    {
     "data": {
      "image/png": "[encoded data removed]",
      "text/plain": [
       "<Figure size 432x288 with 1 Axes>"
      ]
     },
     "metadata": {
      "needs_background": "light"
     },
     "output_type": "display_data"
    }
   ],
   "source": [
    "# Plot the top 10 makes\n",
    "df['make'].value_counts()[:10].plot.bar();"
   ]
  },
  {
   "cell_type": "markdown",
   "metadata": {},
   "source": [
    "**Observations**\n",
    "- The top 4 makes account for the majority of the accidents\n",
    "- This may be simply because they are the most popular small aircraft"
   ]
  },
  {
   "cell_type": "markdown",
   "metadata": {},
   "source": [
    "Need to clean case redundancies"
   ]
  },
  {
   "cell_type": "code",
   "execution_count": 10,
   "metadata": {
    "ExecuteTime": {
     "end_time": "2023-04-20T15:17:18.741202Z",
     "start_time": "2023-04-20T15:17:18.565799Z"
    },
    "scrolled": false
   },
   "outputs": [
    {
     "data": {
      "image/png": "[encoded data removed]",
      "text/plain": [
       "<Figure size 432x288 with 1 Axes>"
      ]
     },
     "metadata": {
      "needs_background": "light"
     },
     "output_type": "display_data"
    }
   ],
   "source": [
    "# Plot the top 10 models\n",
    "df['model'].value_counts()[:10].plot.bar();"
   ]
  },
  {
   "cell_type": "markdown",
   "metadata": {
    "ExecuteTime": {
     "end_time": "2023-04-19T23:32:48.865997Z",
     "start_time": "2023-04-19T23:32:48.852723Z"
    }
   },
   "source": [
    "**Observations**\n",
    "- Incidents seem to be fairly spread out over the top 10 models\n",
    "- 152 & 172 do seem to dominate"
   ]
  },
  {
   "cell_type": "code",
   "execution_count": 11,
   "metadata": {
    "ExecuteTime": {
     "end_time": "2023-04-20T15:17:18.903345Z",
     "start_time": "2023-04-20T15:17:18.744812Z"
    }
   },
   "outputs": [
    {
     "data": {
      "image/png": "[encoded data removed]",
      "text/plain": [
       "<Figure size 432x288 with 1 Axes>"
      ]
     },
     "metadata": {
      "needs_background": "light"
     },
     "output_type": "display_data"
    }
   ],
   "source": [
    "# Let's combine make and model\n",
    "df[['make','model']].value_counts()[:10].plot.bar();"
   ]
  },
  {
   "cell_type": "markdown",
   "metadata": {
    "ExecuteTime": {
     "end_time": "2023-04-19T23:33:36.749969Z",
     "start_time": "2023-04-19T23:33:36.742273Z"
    }
   },
   "source": [
    "**Observations**\n",
    "- Cessna & Piper make up all the top 10"
   ]
  },
  {
   "cell_type": "markdown",
   "metadata": {
    "ExecuteTime": {
     "end_time": "2023-04-19T23:34:12.894789Z",
     "start_time": "2023-04-19T23:34:12.887458Z"
    }
   },
   "source": [
    "## Categorical Data Quick Dive"
   ]
  },
  {
   "cell_type": "code",
   "execution_count": 12,
   "metadata": {
    "ExecuteTime": {
     "end_time": "2023-04-20T15:17:18.916911Z",
     "start_time": "2023-04-20T15:17:18.905735Z"
    },
    "scrolled": false
   },
   "outputs": [
    {
     "data": {
      "text/plain": [
       "Substantial    54697\n",
       "Destroyed      14039\n",
       "Unknown         1030\n",
       "Minor            490\n",
       "Name: aircraft_damage, dtype: int64"
      ]
     },
     "execution_count": 12,
     "metadata": {},
     "output_type": "execute_result"
    }
   ],
   "source": [
    "# Let's investigate a column with few unique values\n",
    "df['aircraft_damage'].value_counts()"
   ]
  },
  {
   "cell_type": "code",
   "execution_count": 13,
   "metadata": {
    "ExecuteTime": {
     "end_time": "2023-04-20T15:17:18.940666Z",
     "start_time": "2023-04-20T15:17:18.919994Z"
    }
   },
   "outputs": [
    {
     "data": {
      "text/plain": [
       "Non-Fatal      57508\n",
       "Fatal          12428\n",
       "Minor            178\n",
       "Serious          128\n",
       "Unavailable       14\n",
       "Name: injury_severity, dtype: int64"
      ]
     },
     "execution_count": 13,
     "metadata": {},
     "output_type": "execute_result"
    }
   ],
   "source": [
    "# Check out the end result for injuries\n",
    "df['injury_severity'].value_counts().head()"
   ]
  },
  {
   "cell_type": "code",
   "execution_count": 14,
   "metadata": {
    "ExecuteTime": {
     "end_time": "2023-04-20T15:17:18.948347Z",
     "start_time": "2023-04-20T15:17:18.943018Z"
    }
   },
   "outputs": [],
   "source": [
    "# Create a column call fatality rate to figure out the deadliness of the accident\n",
    "df['fatality_rate'] = df['total_fatal_injuries']/df['passenger_count']"
   ]
  },
  {
   "cell_type": "code",
   "execution_count": 15,
   "metadata": {
    "ExecuteTime": {
     "end_time": "2023-04-20T15:17:18.958869Z",
     "start_time": "2023-04-20T15:17:18.951238Z"
    }
   },
   "outputs": [
    {
     "data": {
      "text/plain": [
       "7     0.0\n",
       "8     0.0\n",
       "9     0.0\n",
       "10    0.0\n",
       "11    0.0\n",
       "Name: fatality_rate, dtype: float64"
      ]
     },
     "execution_count": 15,
     "metadata": {},
     "output_type": "execute_result"
    }
   ],
   "source": [
    "df['fatality_rate'].head()"
   ]
  },
  {
   "cell_type": "markdown",
   "metadata": {},
   "source": [
    "## Creating Filters\n",
    "- top_makes_filter: filter of top 4 makes\n",
    "- top_models_filter: filter of top 20 models"
   ]
  },
  {
   "cell_type": "code",
   "execution_count": 16,
   "metadata": {
    "ExecuteTime": {
     "end_time": "2023-04-20T15:17:18.992912Z",
     "start_time": "2023-04-20T15:17:18.962939Z"
    }
   },
   "outputs": [
    {
     "data": {
      "text/plain": [
       "['Cessna', 'Piper', 'Beech', 'Bell']"
      ]
     },
     "execution_count": 16,
     "metadata": {},
     "output_type": "execute_result"
    }
   ],
   "source": [
    "top_makes_list = df['make'].value_counts().nlargest(4).index.tolist()\n",
    "top_makes_list"
   ]
  },
  {
   "cell_type": "code",
   "execution_count": 17,
   "metadata": {
    "ExecuteTime": {
     "end_time": "2023-04-20T15:17:19.009419Z",
     "start_time": "2023-04-20T15:17:18.996268Z"
    },
    "scrolled": true
   },
   "outputs": [],
   "source": [
    "top_makes_filter = df['make'].isin(top_makes_list)"
   ]
  },
  {
   "cell_type": "code",
   "execution_count": 18,
   "metadata": {
    "ExecuteTime": {
     "end_time": "2023-04-20T15:17:19.168333Z",
     "start_time": "2023-04-20T15:17:19.012671Z"
    }
   },
   "outputs": [
    {
     "data": {
      "image/png": "[encoded data removed]",
      "text/plain": [
       "<Figure size 432x288 with 1 Axes>"
      ]
     },
     "metadata": {
      "needs_background": "light"
     },
     "output_type": "display_data"
    }
   ],
   "source": [
    "df[top_makes_filter].groupby('make')['event_id'].count().sort_values(ascending=False).plot.bar();"
   ]
  },
  {
   "cell_type": "code",
   "execution_count": 19,
   "metadata": {
    "ExecuteTime": {
     "end_time": "2023-04-20T15:17:19.193002Z",
     "start_time": "2023-04-20T15:17:19.174550Z"
    }
   },
   "outputs": [
    {
     "data": {
      "text/plain": [
       "['152',\n",
       " '172',\n",
       " '172N',\n",
       " 'PA-28-140',\n",
       " '150',\n",
       " '172M',\n",
       " '172P',\n",
       " '180',\n",
       " '182',\n",
       " 'PA-18',\n",
       " 'PA-18-150',\n",
       " '150M',\n",
       " 'PA-28-180',\n",
       " 'PA-28-161',\n",
       " 'PA-28-181',\n",
       " 'G-164A',\n",
       " '206B',\n",
       " 'PA-38-112',\n",
       " '150L',\n",
       " 'A36']"
      ]
     },
     "execution_count": 19,
     "metadata": {},
     "output_type": "execute_result"
    }
   ],
   "source": [
    "top_models_list = df['model'].value_counts().nlargest(20).index.tolist()\n",
    "top_models_list"
   ]
  },
  {
   "cell_type": "code",
   "execution_count": 20,
   "metadata": {
    "ExecuteTime": {
     "end_time": "2023-04-20T15:17:19.209085Z",
     "start_time": "2023-04-20T15:17:19.200109Z"
    }
   },
   "outputs": [],
   "source": [
    "top_models_filter = df['model'].isin(top_models_list)"
   ]
  },
  {
   "cell_type": "code",
   "execution_count": 21,
   "metadata": {
    "ExecuteTime": {
     "end_time": "2023-04-20T15:17:19.472184Z",
     "start_time": "2023-04-20T15:17:19.211470Z"
    }
   },
   "outputs": [
    {
     "data": {
      "image/png": "[encoded data removed]",
      "text/plain": [
       "<Figure size 432x288 with 1 Axes>"
      ]
     },
     "metadata": {
      "needs_background": "light"
     },
     "output_type": "display_data"
    }
   ],
   "source": [
    "df[top_models_filter].groupby('model')['event_id'].count().sort_values(ascending=False).plot.bar();"
   ]
  },
  {
   "cell_type": "code",
   "execution_count": 22,
   "metadata": {
    "ExecuteTime": {
     "end_time": "2023-04-20T15:17:19.507771Z",
     "start_time": "2023-04-20T15:17:19.474322Z"
    }
   },
   "outputs": [
    {
     "data": {
      "text/plain": [
       "make\n",
       "Beech     0.246068\n",
       "Piper     0.170915\n",
       "Cessna    0.128550\n",
       "Bell      0.126445\n",
       "Name: fatality_rate, dtype: float64"
      ]
     },
     "execution_count": 22,
     "metadata": {},
     "output_type": "execute_result"
    }
   ],
   "source": [
    "df[top_makes_filter].groupby('make')['fatality_rate'].mean().sort_values(ascending=False)"
   ]
  },
  {
   "cell_type": "code",
   "execution_count": 23,
   "metadata": {
    "ExecuteTime": {
     "end_time": "2023-04-20T15:17:19.666887Z",
     "start_time": "2023-04-20T15:17:19.510273Z"
    }
   },
   "outputs": [
    {
     "data": {
      "image/png": "[encoded data removed]",
      "text/plain": [
       "<Figure size 432x288 with 1 Axes>"
      ]
     },
     "metadata": {
      "needs_background": "light"
     },
     "output_type": "display_data"
    }
   ],
   "source": [
    "# Check out fatalit rate for top makes\n",
    "df[top_makes_filter].groupby('make')['fatality_rate'].mean().sort_values(ascending=False).plot.bar();"
   ]
  },
  {
   "cell_type": "code",
   "execution_count": 24,
   "metadata": {
    "ExecuteTime": {
     "end_time": "2023-04-20T15:17:19.699253Z",
     "start_time": "2023-04-20T15:17:19.675844Z"
    }
   },
   "outputs": [
    {
     "data": {
      "text/html": [
       "<div>\n",
       "<style scoped>\n",
       "    .dataframe tbody tr th:only-of-type {\n",
       "        vertical-align: middle;\n",
       "    }\n",
       "\n",
       "    .dataframe tbody tr th {\n",
       "        vertical-align: top;\n",
       "    }\n",
       "\n",
       "    .dataframe thead th {\n",
       "        text-align: right;\n",
       "    }\n",
       "</style>\n",
       "<table border=\"1\" class=\"dataframe\">\n",
       "  <thead>\n",
       "    <tr style=\"text-align: right;\">\n",
       "      <th></th>\n",
       "      <th>number_of_engines</th>\n",
       "      <th>total_fatal_injuries</th>\n",
       "      <th>total_serious_injuries</th>\n",
       "      <th>total_minor_injuries</th>\n",
       "      <th>total_uninjured</th>\n",
       "      <th>passenger_count</th>\n",
       "      <th>fatality_rate</th>\n",
       "    </tr>\n",
       "  </thead>\n",
       "  <tbody>\n",
       "    <tr>\n",
       "      <th>number_of_engines</th>\n",
       "      <td>1.000000</td>\n",
       "      <td>0.104401</td>\n",
       "      <td>0.052812</td>\n",
       "      <td>0.089333</td>\n",
       "      <td>0.294820</td>\n",
       "      <td>0.309852</td>\n",
       "      <td>0.085504</td>\n",
       "    </tr>\n",
       "    <tr>\n",
       "      <th>total_fatal_injuries</th>\n",
       "      <td>0.104401</td>\n",
       "      <td>1.000000</td>\n",
       "      <td>0.128008</td>\n",
       "      <td>0.079754</td>\n",
       "      <td>-0.019361</td>\n",
       "      <td>0.137047</td>\n",
       "      <td>0.334348</td>\n",
       "    </tr>\n",
       "    <tr>\n",
       "      <th>total_serious_injuries</th>\n",
       "      <td>0.052812</td>\n",
       "      <td>0.128008</td>\n",
       "      <td>1.000000</td>\n",
       "      <td>0.335773</td>\n",
       "      <td>0.069370</td>\n",
       "      <td>0.172859</td>\n",
       "      <td>-0.052139</td>\n",
       "    </tr>\n",
       "    <tr>\n",
       "      <th>total_minor_injuries</th>\n",
       "      <td>0.089333</td>\n",
       "      <td>0.079754</td>\n",
       "      <td>0.335773</td>\n",
       "      <td>1.000000</td>\n",
       "      <td>0.174604</td>\n",
       "      <td>0.274510</td>\n",
       "      <td>-0.084885</td>\n",
       "    </tr>\n",
       "    <tr>\n",
       "      <th>total_uninjured</th>\n",
       "      <td>0.294820</td>\n",
       "      <td>-0.019361</td>\n",
       "      <td>0.069370</td>\n",
       "      <td>0.174604</td>\n",
       "      <td>1.000000</td>\n",
       "      <td>0.981690</td>\n",
       "      <td>-0.070466</td>\n",
       "    </tr>\n",
       "    <tr>\n",
       "      <th>passenger_count</th>\n",
       "      <td>0.309852</td>\n",
       "      <td>0.137047</td>\n",
       "      <td>0.172859</td>\n",
       "      <td>0.274510</td>\n",
       "      <td>0.981690</td>\n",
       "      <td>1.000000</td>\n",
       "      <td>-0.030221</td>\n",
       "    </tr>\n",
       "    <tr>\n",
       "      <th>fatality_rate</th>\n",
       "      <td>0.085504</td>\n",
       "      <td>0.334348</td>\n",
       "      <td>-0.052139</td>\n",
       "      <td>-0.084885</td>\n",
       "      <td>-0.070466</td>\n",
       "      <td>-0.030221</td>\n",
       "      <td>1.000000</td>\n",
       "    </tr>\n",
       "  </tbody>\n",
       "</table>\n",
       "</div>"
      ],
      "text/plain": [
       "                        number_of_engines  total_fatal_injuries  \\\n",
       "number_of_engines                1.000000              0.104401   \n",
       "total_fatal_injuries             0.104401              1.000000   \n",
       "total_serious_injuries           0.052812              0.128008   \n",
       "total_minor_injuries             0.089333              0.079754   \n",
       "total_uninjured                  0.294820             -0.019361   \n",
       "passenger_count                  0.309852              0.137047   \n",
       "fatality_rate                    0.085504              0.334348   \n",
       "\n",
       "                        total_serious_injuries  total_minor_injuries  \\\n",
       "number_of_engines                     0.052812              0.089333   \n",
       "total_fatal_injuries                  0.128008              0.079754   \n",
       "total_serious_injuries                1.000000              0.335773   \n",
       "total_minor_injuries                  0.335773              1.000000   \n",
       "total_uninjured                       0.069370              0.174604   \n",
       "passenger_count                       0.172859              0.274510   \n",
       "fatality_rate                        -0.052139             -0.084885   \n",
       "\n",
       "                        total_uninjured  passenger_count  fatality_rate  \n",
       "number_of_engines              0.294820         0.309852       0.085504  \n",
       "total_fatal_injuries          -0.019361         0.137047       0.334348  \n",
       "total_serious_injuries         0.069370         0.172859      -0.052139  \n",
       "total_minor_injuries           0.174604         0.274510      -0.084885  \n",
       "total_uninjured                1.000000         0.981690      -0.070466  \n",
       "passenger_count                0.981690         1.000000      -0.030221  \n",
       "fatality_rate                 -0.070466        -0.030221       1.000000  "
      ]
     },
     "execution_count": 24,
     "metadata": {},
     "output_type": "execute_result"
    }
   ],
   "source": [
    "# Check to see if there are any obvious correlations\n",
    "df.corr()"
   ]
  },
  {
   "cell_type": "markdown",
   "metadata": {
    "ExecuteTime": {
     "end_time": "2023-04-19T23:54:14.550039Z",
     "start_time": "2023-04-19T23:54:14.543396Z"
    }
   },
   "source": [
    "**Observations**\n",
    "- There's no strong correlation with the number of fatal_injuries"
   ]
  },
  {
   "cell_type": "markdown",
   "metadata": {},
   "source": [
    "## Investigating Fatality Rates"
   ]
  },
  {
   "cell_type": "code",
   "execution_count": 25,
   "metadata": {
    "ExecuteTime": {
     "end_time": "2023-04-20T15:17:20.254677Z",
     "start_time": "2023-04-20T15:17:19.701804Z"
    },
    "scrolled": false
   },
   "outputs": [
    {
     "data": {
      "image/png": "[encoded data removed]",
      "text/plain": [
       "<Figure size 432x432 with 1 Axes>"
      ]
     },
     "metadata": {
      "needs_background": "light"
     },
     "output_type": "display_data"
    }
   ],
   "source": [
    "# Separate out the plot by make\n",
    "fig, ax = plt.subplots(figsize=(6, 6))\n",
    "sns.barplot(data=df[top_makes_filter], \n",
    "            x='make', \n",
    "            y='fatality_rate',\n",
    "            ax=ax,\n",
    "           )\n",
    "ax.yaxis.set_major_formatter(mtick.PercentFormatter(xmax=1.0, decimals=None))\n",
    "ax.set_title('Fatality Rates by Make');"
   ]
  },
  {
   "cell_type": "markdown",
   "metadata": {
    "ExecuteTime": {
     "end_time": "2023-04-20T00:19:44.685195Z",
     "start_time": "2023-04-20T00:19:44.679466Z"
    }
   },
   "source": [
    "**Observations**\n",
    "- Beech seems to have the highest fatality rate"
   ]
  },
  {
   "cell_type": "code",
   "execution_count": null,
   "metadata": {},
   "outputs": [],
   "source": [
    "# Create a new column for year\n",
    "df['event_year'] = df['event_date'].dt.year"
   ]
  },
  {
   "cell_type": "code",
   "execution_count": 29,
   "metadata": {
    "ExecuteTime": {
     "end_time": "2023-04-20T15:17:53.395879Z",
     "start_time": "2023-04-20T15:17:49.886541Z"
    }
   },
   "outputs": [
    {
     "data": {
      "image/png": "[encoded data removed]",
      "text/plain": [
       "<Figure size 792x792 with 1 Axes>"
      ]
     },
     "metadata": {
      "needs_background": "light"
     },
     "output_type": "display_data"
    }
   ],
   "source": [
    "# Let's investigate that over time\n",
    "fig, ax = plt.subplots(figsize=(11, 11))\n",
    "sns.lineplot(data=df[top_makes_filter], \n",
    "             \n",
    "             x='event_year', \n",
    "             y='fatality_rate',\n",
    "             ax=ax,\n",
    "             hue='make',\n",
    "           )\n",
    "ax.set_title('Fatality Rates by Make Over Time');"
   ]
  },
  {
   "cell_type": "markdown",
   "metadata": {},
   "source": [
    "**Observations**\n",
    "- While this looks messy, it's clear that Beech has maintained a higher fatality rate than the other makes"
   ]
  },
  {
   "cell_type": "markdown",
   "metadata": {},
   "source": [
    "## Investigating Time"
   ]
  },
  {
   "cell_type": "code",
   "execution_count": null,
   "metadata": {
    "ExecuteTime": {
     "end_time": "2023-04-20T15:17:20.723193Z",
     "start_time": "2023-04-20T15:17:12.320Z"
    },
    "scrolled": false
   },
   "outputs": [],
   "source": [
    "# Accidents over time\n",
    "data = df[top_makes_filter].groupby(['make', 'event_year']).count().reset_index()\n",
    "\n",
    "fig, ax = plt.subplots(figsize=(8, 8))\n",
    "sns.lineplot(data=data, \n",
    "             x='event_year', \n",
    "             y='event_id',\n",
    "             ax=ax,\n",
    "             hue='make',\n",
    "           )\n",
    "sns.despine()\n",
    "ax.set_title('Accidents by Make Over Time')\n",
    "ax.set_ylabel('Accidents')\n",
    "ax.set_xlabel('Year')\n",
    "fig.savefig(\"../images/accidents_by_make_over_time.png\");"
   ]
  },
  {
   "cell_type": "markdown",
   "metadata": {
    "ExecuteTime": {
     "end_time": "2023-04-19T23:04:31.475070Z",
     "start_time": "2023-04-19T23:04:31.469114Z"
    }
   },
   "source": [
    "### Make & Model Combinations\n",
    "Let's investigate the top Makes & Models so we can recommend what makes the company may want to avoid"
   ]
  },
  {
   "cell_type": "code",
   "execution_count": null,
   "metadata": {
    "ExecuteTime": {
     "end_time": "2023-04-20T15:17:20.730153Z",
     "start_time": "2023-04-20T15:17:12.322Z"
    },
    "scrolled": false
   },
   "outputs": [],
   "source": [
    "# First let's pull the data\n",
    "data = df[top_makes_filter & top_models_filter].groupby(['make','model'])['event_id'].count().reset_index()\n",
    "data"
   ]
  },
  {
   "cell_type": "code",
   "execution_count": null,
   "metadata": {
    "ExecuteTime": {
     "end_time": "2023-04-20T15:17:20.732868Z",
     "start_time": "2023-04-20T15:17:12.323Z"
    }
   },
   "outputs": [],
   "source": [
    "pivot_table_make_model = pd.pivot_table(df[top_makes_filter & top_models_filter], \n",
    "                                        values='passenger_count', \n",
    "                                        index='model', \n",
    "                                        columns='make', \n",
    "                                        aggfunc='count')"
   ]
  },
  {
   "cell_type": "code",
   "execution_count": null,
   "metadata": {
    "ExecuteTime": {
     "end_time": "2023-04-20T15:17:20.734643Z",
     "start_time": "2023-04-20T15:17:12.324Z"
    }
   },
   "outputs": [],
   "source": [
    "pivot_data = pivot_table_make_model.sort_values(by=list(pivot_table_make_model.columns), ascending=False)\n",
    "pivot_data"
   ]
  },
  {
   "cell_type": "code",
   "execution_count": null,
   "metadata": {
    "ExecuteTime": {
     "end_time": "2023-04-20T15:17:20.737123Z",
     "start_time": "2023-04-20T15:17:12.325Z"
    },
    "scrolled": false
   },
   "outputs": [],
   "source": [
    "# Draw the heatmap with the mask and correct aspect ratio\n",
    "fig, ax = plt.subplots(figsize=(11, 11))\n",
    "sns.set_theme(style=\"white\")\n",
    "sns.set_context(\"poster\")\n",
    "cmap = sns.color_palette(\"rocket_r\", as_cmap=True)\n",
    "hue = data['event_id'].tolist().sort()\n",
    "sns.heatmap(pivot_data, \n",
    "            cmap=cmap, \n",
    "            robust=True,\n",
    "            annot=True,\n",
    "            fmt=\",g\",\n",
    "            ax=ax\n",
    "           )\n",
    "\n",
    "ax.set_title('Common Makes & Models to Avoid')\n",
    "fig.savefig(\"../images/common_makes_models_avoid.png\");\n"
   ]
  },
  {
   "cell_type": "markdown",
   "metadata": {},
   "source": [
    "## Number of engines\n",
    "The number of engines is a key indicator of the type of plane we have. We can use that to identify the types of planes that are most often in accidents"
   ]
  },
  {
   "cell_type": "code",
   "execution_count": null,
   "metadata": {
    "ExecuteTime": {
     "end_time": "2023-04-20T15:17:20.743245Z",
     "start_time": "2023-04-20T15:17:12.326Z"
    }
   },
   "outputs": [],
   "source": [
    "df[top_makes_filter].groupby('number_of_engines').count().reset_index()"
   ]
  },
  {
   "cell_type": "code",
   "execution_count": null,
   "metadata": {
    "ExecuteTime": {
     "end_time": "2023-04-20T15:17:20.745627Z",
     "start_time": "2023-04-20T15:17:12.327Z"
    }
   },
   "outputs": [],
   "source": [
    "# Separate out the plot by number of engines\n",
    "fig, ax = plt.subplots(figsize=(6, 6))\n",
    "data = df[top_makes_filter].groupby('number_of_engines').count().reset_index()\n",
    "sns.barplot(data=data, \n",
    "            x='number_of_engines', \n",
    "            y='event_id',\n",
    "            ax=ax,\n",
    "           )\n",
    "\n",
    "ax.set_title('Accidents by Number of Engines')\n",
    "ax.set_ylabel('Accidents')\n",
    "ax.set_xlabel('Number of Engines');\n",
    "#fig.savefig(\"../images/accidents_by_engine_number.png\");"
   ]
  },
  {
   "cell_type": "markdown",
   "metadata": {},
   "source": [
    "**Observations**\n",
    "- Most planes are 1 engine, 2 is far behind\n",
    "- The chart doesn't look very informative since 0 and 4 are non-existent"
   ]
  },
  {
   "cell_type": "markdown",
   "metadata": {
    "ExecuteTime": {
     "end_time": "2023-04-20T01:05:52.865025Z",
     "start_time": "2023-04-20T01:05:52.859342Z"
    }
   },
   "source": [
    "## Broad Phase of Flight\n",
    "We will investigate where the accidents happen so we know what to be ready for"
   ]
  },
  {
   "cell_type": "code",
   "execution_count": null,
   "metadata": {
    "ExecuteTime": {
     "end_time": "2023-04-20T15:17:20.748870Z",
     "start_time": "2023-04-20T15:17:12.328Z"
    },
    "scrolled": false
   },
   "outputs": [],
   "source": [
    "# Separate out the plot by phase of flight\n",
    "fig, ax = plt.subplots(figsize=(11, 6))\n",
    "data = df[top_makes_filter].groupby('broad_phase_of_flight').count().reset_index()\n",
    "sns.barplot(data=data, \n",
    "            x='event_id', \n",
    "            y='broad_phase_of_flight',\n",
    "            ax=ax,\n",
    "           )\n",
    "\n",
    "ax.set_title('Accidents by Phase of Flight')\n",
    "ax.set_xlabel('Accidents')\n",
    "ax.set_ylabel('Phase of Flight');\n",
    "#fig.savefig(\"../images/accidents_by_flight_phase.png\");"
   ]
  },
  {
   "cell_type": "markdown",
   "metadata": {},
   "source": [
    "**Observations**\n",
    "- The majorty happen in landing\n",
    "- This can be useful to be aware of when accidents happen"
   ]
  },
  {
   "cell_type": "markdown",
   "metadata": {},
   "source": [
    "# Conclusion\n",
    "Note: We only have incident data, we don't have the number of flights for airplanes. This makes it challenging to answer questions such as:\n",
    "- What is the most accident-prone airplane?\n",
    "- How have accident rates changed over time?\n",
    "- Which locations have the fewest accidents?\n",
    "\n",
    "We can also not answer direct questions about airplane popularity that would be useful when entering a new market such as:\n",
    "- What is the most popular aircraft make and model?\n",
    "- Where is the most popular location to fly aircraft?\n",
    "\n",
    "That being said, we are able to make some conclusions including:\n",
    "- Some makes have a higher rate of fatal accidents\n",
    "- The most common phase of flight is landing\n",
    "- Most planes involved in accidents have 1 or 2 wings\n",
    "- The top 4 makes involved in accidents are Beech, Bell, Cessna, and Piper\n",
    "- There are certain models that seem to be very involved in accidents and may want to be avioded"
   ]
  },
  {
   "cell_type": "code",
   "execution_count": null,
   "metadata": {},
   "outputs": [],
   "source": []
  }
 ],
 "metadata": {
  "kernelspec": {
   "display_name": "Python 3",
   "language": "python",
   "name": "python3"
  },
  "language_info": {
   "codemirror_mode": {
    "name": "ipython",
    "version": 3
   },
   "file_extension": ".py",
   "mimetype": "text/x-python",
   "name": "python",
   "nbconvert_exporter": "python",
   "pygments_lexer": "ipython3",
   "version": "3.8.5"
  }
 },
 "nbformat": 4,
 "nbformat_minor": 4
}
